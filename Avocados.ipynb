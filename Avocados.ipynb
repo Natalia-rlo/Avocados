{
 "cells": [
  {
   "cell_type": "markdown",
   "id": "tutorial-optimization",
   "metadata": {},
   "source": [
    "# Avocados"
   ]
  },
  {
   "cell_type": "code",
   "execution_count": 83,
   "id": "altered-prototype",
   "metadata": {},
   "outputs": [],
   "source": [
    "#import pandas as pd\n",
    "#pd.options.mode.chained_assignment = None\n",
    "#import numpy as np\n",
    "#import plotly.graph_objs as go\n",
    "#from plotly.offline import init_notebook_mode, iplot\n",
    "#init_notebook_mode(connected=True)\n",
    "#import warnings\n",
    "#warnings.filterwarnings(\"ignore\")\n",
    "#import matplotlib.pyplot as plt"
   ]
  },
  {
   "cell_type": "code",
   "execution_count": 84,
   "id": "robust-belfast",
   "metadata": {},
   "outputs": [],
   "source": [
    "import numpy as np \n",
    "import pandas as pd\n",
    "\n",
    "import plotly.graph_objs as go\n",
    "# word cloud library\n",
    "import plotly.express as px\n",
    "import matplotlib.pyplot as plt\n",
    "import seaborn as sns\n",
    "\n",
    "import warnings\n",
    "warnings.filterwarnings('ignore')"
   ]
  },
  {
   "cell_type": "code",
   "execution_count": 85,
   "id": "corporate-plastic",
   "metadata": {
    "scrolled": false
   },
   "outputs": [],
   "source": [
    "\"Data source: https://www.kaggle.com/neuromusic/avocado-prices)\"\n",
    "avocado = pd.read_csv('../datasets/avocado.csv')"
   ]
  },
  {
   "cell_type": "code",
   "execution_count": 86,
   "id": "geographic-interest",
   "metadata": {
    "scrolled": true
   },
   "outputs": [
    {
     "data": {
      "text/html": [
       "<div>\n",
       "<style scoped>\n",
       "    .dataframe tbody tr th:only-of-type {\n",
       "        vertical-align: middle;\n",
       "    }\n",
       "\n",
       "    .dataframe tbody tr th {\n",
       "        vertical-align: top;\n",
       "    }\n",
       "\n",
       "    .dataframe thead th {\n",
       "        text-align: right;\n",
       "    }\n",
       "</style>\n",
       "<table border=\"1\" class=\"dataframe\">\n",
       "  <thead>\n",
       "    <tr style=\"text-align: right;\">\n",
       "      <th></th>\n",
       "      <th>Unnamed: 0</th>\n",
       "      <th>Date</th>\n",
       "      <th>AveragePrice</th>\n",
       "      <th>Total Volume</th>\n",
       "      <th>4046</th>\n",
       "      <th>4225</th>\n",
       "      <th>4770</th>\n",
       "      <th>Total Bags</th>\n",
       "      <th>Small Bags</th>\n",
       "      <th>Large Bags</th>\n",
       "      <th>XLarge Bags</th>\n",
       "      <th>type</th>\n",
       "      <th>year</th>\n",
       "      <th>region</th>\n",
       "    </tr>\n",
       "  </thead>\n",
       "  <tbody>\n",
       "    <tr>\n",
       "      <th>0</th>\n",
       "      <td>0</td>\n",
       "      <td>2015-12-27</td>\n",
       "      <td>1.33</td>\n",
       "      <td>64236.62</td>\n",
       "      <td>1036.74</td>\n",
       "      <td>54454.85</td>\n",
       "      <td>48.16</td>\n",
       "      <td>8696.87</td>\n",
       "      <td>8603.62</td>\n",
       "      <td>93.25</td>\n",
       "      <td>0.0</td>\n",
       "      <td>conventional</td>\n",
       "      <td>2015</td>\n",
       "      <td>Albany</td>\n",
       "    </tr>\n",
       "    <tr>\n",
       "      <th>1</th>\n",
       "      <td>1</td>\n",
       "      <td>2015-12-20</td>\n",
       "      <td>1.35</td>\n",
       "      <td>54876.98</td>\n",
       "      <td>674.28</td>\n",
       "      <td>44638.81</td>\n",
       "      <td>58.33</td>\n",
       "      <td>9505.56</td>\n",
       "      <td>9408.07</td>\n",
       "      <td>97.49</td>\n",
       "      <td>0.0</td>\n",
       "      <td>conventional</td>\n",
       "      <td>2015</td>\n",
       "      <td>Albany</td>\n",
       "    </tr>\n",
       "    <tr>\n",
       "      <th>2</th>\n",
       "      <td>2</td>\n",
       "      <td>2015-12-13</td>\n",
       "      <td>0.93</td>\n",
       "      <td>118220.22</td>\n",
       "      <td>794.70</td>\n",
       "      <td>109149.67</td>\n",
       "      <td>130.50</td>\n",
       "      <td>8145.35</td>\n",
       "      <td>8042.21</td>\n",
       "      <td>103.14</td>\n",
       "      <td>0.0</td>\n",
       "      <td>conventional</td>\n",
       "      <td>2015</td>\n",
       "      <td>Albany</td>\n",
       "    </tr>\n",
       "    <tr>\n",
       "      <th>3</th>\n",
       "      <td>3</td>\n",
       "      <td>2015-12-06</td>\n",
       "      <td>1.08</td>\n",
       "      <td>78992.15</td>\n",
       "      <td>1132.00</td>\n",
       "      <td>71976.41</td>\n",
       "      <td>72.58</td>\n",
       "      <td>5811.16</td>\n",
       "      <td>5677.40</td>\n",
       "      <td>133.76</td>\n",
       "      <td>0.0</td>\n",
       "      <td>conventional</td>\n",
       "      <td>2015</td>\n",
       "      <td>Albany</td>\n",
       "    </tr>\n",
       "    <tr>\n",
       "      <th>4</th>\n",
       "      <td>4</td>\n",
       "      <td>2015-11-29</td>\n",
       "      <td>1.28</td>\n",
       "      <td>51039.60</td>\n",
       "      <td>941.48</td>\n",
       "      <td>43838.39</td>\n",
       "      <td>75.78</td>\n",
       "      <td>6183.95</td>\n",
       "      <td>5986.26</td>\n",
       "      <td>197.69</td>\n",
       "      <td>0.0</td>\n",
       "      <td>conventional</td>\n",
       "      <td>2015</td>\n",
       "      <td>Albany</td>\n",
       "    </tr>\n",
       "    <tr>\n",
       "      <th>...</th>\n",
       "      <td>...</td>\n",
       "      <td>...</td>\n",
       "      <td>...</td>\n",
       "      <td>...</td>\n",
       "      <td>...</td>\n",
       "      <td>...</td>\n",
       "      <td>...</td>\n",
       "      <td>...</td>\n",
       "      <td>...</td>\n",
       "      <td>...</td>\n",
       "      <td>...</td>\n",
       "      <td>...</td>\n",
       "      <td>...</td>\n",
       "      <td>...</td>\n",
       "    </tr>\n",
       "    <tr>\n",
       "      <th>18244</th>\n",
       "      <td>7</td>\n",
       "      <td>2018-02-04</td>\n",
       "      <td>1.63</td>\n",
       "      <td>17074.83</td>\n",
       "      <td>2046.96</td>\n",
       "      <td>1529.20</td>\n",
       "      <td>0.00</td>\n",
       "      <td>13498.67</td>\n",
       "      <td>13066.82</td>\n",
       "      <td>431.85</td>\n",
       "      <td>0.0</td>\n",
       "      <td>organic</td>\n",
       "      <td>2018</td>\n",
       "      <td>WestTexNewMexico</td>\n",
       "    </tr>\n",
       "    <tr>\n",
       "      <th>18245</th>\n",
       "      <td>8</td>\n",
       "      <td>2018-01-28</td>\n",
       "      <td>1.71</td>\n",
       "      <td>13888.04</td>\n",
       "      <td>1191.70</td>\n",
       "      <td>3431.50</td>\n",
       "      <td>0.00</td>\n",
       "      <td>9264.84</td>\n",
       "      <td>8940.04</td>\n",
       "      <td>324.80</td>\n",
       "      <td>0.0</td>\n",
       "      <td>organic</td>\n",
       "      <td>2018</td>\n",
       "      <td>WestTexNewMexico</td>\n",
       "    </tr>\n",
       "    <tr>\n",
       "      <th>18246</th>\n",
       "      <td>9</td>\n",
       "      <td>2018-01-21</td>\n",
       "      <td>1.87</td>\n",
       "      <td>13766.76</td>\n",
       "      <td>1191.92</td>\n",
       "      <td>2452.79</td>\n",
       "      <td>727.94</td>\n",
       "      <td>9394.11</td>\n",
       "      <td>9351.80</td>\n",
       "      <td>42.31</td>\n",
       "      <td>0.0</td>\n",
       "      <td>organic</td>\n",
       "      <td>2018</td>\n",
       "      <td>WestTexNewMexico</td>\n",
       "    </tr>\n",
       "    <tr>\n",
       "      <th>18247</th>\n",
       "      <td>10</td>\n",
       "      <td>2018-01-14</td>\n",
       "      <td>1.93</td>\n",
       "      <td>16205.22</td>\n",
       "      <td>1527.63</td>\n",
       "      <td>2981.04</td>\n",
       "      <td>727.01</td>\n",
       "      <td>10969.54</td>\n",
       "      <td>10919.54</td>\n",
       "      <td>50.00</td>\n",
       "      <td>0.0</td>\n",
       "      <td>organic</td>\n",
       "      <td>2018</td>\n",
       "      <td>WestTexNewMexico</td>\n",
       "    </tr>\n",
       "    <tr>\n",
       "      <th>18248</th>\n",
       "      <td>11</td>\n",
       "      <td>2018-01-07</td>\n",
       "      <td>1.62</td>\n",
       "      <td>17489.58</td>\n",
       "      <td>2894.77</td>\n",
       "      <td>2356.13</td>\n",
       "      <td>224.53</td>\n",
       "      <td>12014.15</td>\n",
       "      <td>11988.14</td>\n",
       "      <td>26.01</td>\n",
       "      <td>0.0</td>\n",
       "      <td>organic</td>\n",
       "      <td>2018</td>\n",
       "      <td>WestTexNewMexico</td>\n",
       "    </tr>\n",
       "  </tbody>\n",
       "</table>\n",
       "<p>18249 rows × 14 columns</p>\n",
       "</div>"
      ],
      "text/plain": [
       "       Unnamed: 0        Date  AveragePrice  Total Volume     4046       4225  \\\n",
       "0               0  2015-12-27          1.33      64236.62  1036.74   54454.85   \n",
       "1               1  2015-12-20          1.35      54876.98   674.28   44638.81   \n",
       "2               2  2015-12-13          0.93     118220.22   794.70  109149.67   \n",
       "3               3  2015-12-06          1.08      78992.15  1132.00   71976.41   \n",
       "4               4  2015-11-29          1.28      51039.60   941.48   43838.39   \n",
       "...           ...         ...           ...           ...      ...        ...   \n",
       "18244           7  2018-02-04          1.63      17074.83  2046.96    1529.20   \n",
       "18245           8  2018-01-28          1.71      13888.04  1191.70    3431.50   \n",
       "18246           9  2018-01-21          1.87      13766.76  1191.92    2452.79   \n",
       "18247          10  2018-01-14          1.93      16205.22  1527.63    2981.04   \n",
       "18248          11  2018-01-07          1.62      17489.58  2894.77    2356.13   \n",
       "\n",
       "         4770  Total Bags  Small Bags  Large Bags  XLarge Bags          type  \\\n",
       "0       48.16     8696.87     8603.62       93.25          0.0  conventional   \n",
       "1       58.33     9505.56     9408.07       97.49          0.0  conventional   \n",
       "2      130.50     8145.35     8042.21      103.14          0.0  conventional   \n",
       "3       72.58     5811.16     5677.40      133.76          0.0  conventional   \n",
       "4       75.78     6183.95     5986.26      197.69          0.0  conventional   \n",
       "...       ...         ...         ...         ...          ...           ...   \n",
       "18244    0.00    13498.67    13066.82      431.85          0.0       organic   \n",
       "18245    0.00     9264.84     8940.04      324.80          0.0       organic   \n",
       "18246  727.94     9394.11     9351.80       42.31          0.0       organic   \n",
       "18247  727.01    10969.54    10919.54       50.00          0.0       organic   \n",
       "18248  224.53    12014.15    11988.14       26.01          0.0       organic   \n",
       "\n",
       "       year            region  \n",
       "0      2015            Albany  \n",
       "1      2015            Albany  \n",
       "2      2015            Albany  \n",
       "3      2015            Albany  \n",
       "4      2015            Albany  \n",
       "...     ...               ...  \n",
       "18244  2018  WestTexNewMexico  \n",
       "18245  2018  WestTexNewMexico  \n",
       "18246  2018  WestTexNewMexico  \n",
       "18247  2018  WestTexNewMexico  \n",
       "18248  2018  WestTexNewMexico  \n",
       "\n",
       "[18249 rows x 14 columns]"
      ]
     },
     "execution_count": 86,
     "metadata": {},
     "output_type": "execute_result"
    }
   ],
   "source": [
    "avocado"
   ]
  },
  {
   "cell_type": "code",
   "execution_count": 87,
   "id": "dirty-september",
   "metadata": {},
   "outputs": [],
   "source": [
    "\"Data source: http://www.fao.org/faostat/en/#data/QC/\"\n",
    "land_to_produce = pd.read_csv('../datasets/land_to_produce.csv')"
   ]
  },
  {
   "cell_type": "code",
   "execution_count": 88,
   "id": "statistical-justice",
   "metadata": {},
   "outputs": [
    {
     "data": {
      "text/html": [
       "<div>\n",
       "<style scoped>\n",
       "    .dataframe tbody tr th:only-of-type {\n",
       "        vertical-align: middle;\n",
       "    }\n",
       "\n",
       "    .dataframe tbody tr th {\n",
       "        vertical-align: top;\n",
       "    }\n",
       "\n",
       "    .dataframe thead th {\n",
       "        text-align: right;\n",
       "    }\n",
       "</style>\n",
       "<table border=\"1\" class=\"dataframe\">\n",
       "  <thead>\n",
       "    <tr style=\"text-align: right;\">\n",
       "      <th></th>\n",
       "      <th>Domain Code</th>\n",
       "      <th>Domain</th>\n",
       "      <th>Area Code (FAO)</th>\n",
       "      <th>Area</th>\n",
       "      <th>Element Code</th>\n",
       "      <th>Element</th>\n",
       "      <th>Item Code (FAO)</th>\n",
       "      <th>Item</th>\n",
       "      <th>Year Code</th>\n",
       "      <th>Year</th>\n",
       "      <th>Unit</th>\n",
       "      <th>Value</th>\n",
       "      <th>Flag</th>\n",
       "      <th>Flag Description</th>\n",
       "    </tr>\n",
       "  </thead>\n",
       "  <tbody>\n",
       "    <tr>\n",
       "      <th>0</th>\n",
       "      <td>QC</td>\n",
       "      <td>Crops</td>\n",
       "      <td>9</td>\n",
       "      <td>Argentina</td>\n",
       "      <td>5312</td>\n",
       "      <td>Area harvested</td>\n",
       "      <td>572</td>\n",
       "      <td>Avocados</td>\n",
       "      <td>2015</td>\n",
       "      <td>2015</td>\n",
       "      <td>ha</td>\n",
       "      <td>581.0</td>\n",
       "      <td>Im</td>\n",
       "      <td>FAO data based on imputation methodology</td>\n",
       "    </tr>\n",
       "    <tr>\n",
       "      <th>1</th>\n",
       "      <td>QC</td>\n",
       "      <td>Crops</td>\n",
       "      <td>9</td>\n",
       "      <td>Argentina</td>\n",
       "      <td>5312</td>\n",
       "      <td>Area harvested</td>\n",
       "      <td>572</td>\n",
       "      <td>Avocados</td>\n",
       "      <td>2016</td>\n",
       "      <td>2016</td>\n",
       "      <td>ha</td>\n",
       "      <td>583.0</td>\n",
       "      <td>Im</td>\n",
       "      <td>FAO data based on imputation methodology</td>\n",
       "    </tr>\n",
       "    <tr>\n",
       "      <th>2</th>\n",
       "      <td>QC</td>\n",
       "      <td>Crops</td>\n",
       "      <td>9</td>\n",
       "      <td>Argentina</td>\n",
       "      <td>5312</td>\n",
       "      <td>Area harvested</td>\n",
       "      <td>572</td>\n",
       "      <td>Avocados</td>\n",
       "      <td>2017</td>\n",
       "      <td>2017</td>\n",
       "      <td>ha</td>\n",
       "      <td>583.0</td>\n",
       "      <td>Im</td>\n",
       "      <td>FAO data based on imputation methodology</td>\n",
       "    </tr>\n",
       "    <tr>\n",
       "      <th>3</th>\n",
       "      <td>QC</td>\n",
       "      <td>Crops</td>\n",
       "      <td>9</td>\n",
       "      <td>Argentina</td>\n",
       "      <td>5312</td>\n",
       "      <td>Area harvested</td>\n",
       "      <td>572</td>\n",
       "      <td>Avocados</td>\n",
       "      <td>2018</td>\n",
       "      <td>2018</td>\n",
       "      <td>ha</td>\n",
       "      <td>583.0</td>\n",
       "      <td>Im</td>\n",
       "      <td>FAO data based on imputation methodology</td>\n",
       "    </tr>\n",
       "    <tr>\n",
       "      <th>4</th>\n",
       "      <td>QC</td>\n",
       "      <td>Crops</td>\n",
       "      <td>9</td>\n",
       "      <td>Argentina</td>\n",
       "      <td>5419</td>\n",
       "      <td>Yield</td>\n",
       "      <td>572</td>\n",
       "      <td>Avocados</td>\n",
       "      <td>2015</td>\n",
       "      <td>2015</td>\n",
       "      <td>hg/ha</td>\n",
       "      <td>69363.0</td>\n",
       "      <td>Fc</td>\n",
       "      <td>Calculated data</td>\n",
       "    </tr>\n",
       "    <tr>\n",
       "      <th>...</th>\n",
       "      <td>...</td>\n",
       "      <td>...</td>\n",
       "      <td>...</td>\n",
       "      <td>...</td>\n",
       "      <td>...</td>\n",
       "      <td>...</td>\n",
       "      <td>...</td>\n",
       "      <td>...</td>\n",
       "      <td>...</td>\n",
       "      <td>...</td>\n",
       "      <td>...</td>\n",
       "      <td>...</td>\n",
       "      <td>...</td>\n",
       "      <td>...</td>\n",
       "    </tr>\n",
       "    <tr>\n",
       "      <th>849</th>\n",
       "      <td>QC</td>\n",
       "      <td>Crops</td>\n",
       "      <td>181</td>\n",
       "      <td>Zimbabwe</td>\n",
       "      <td>5419</td>\n",
       "      <td>Yield</td>\n",
       "      <td>572</td>\n",
       "      <td>Avocados</td>\n",
       "      <td>2018</td>\n",
       "      <td>2018</td>\n",
       "      <td>hg/ha</td>\n",
       "      <td>58242.0</td>\n",
       "      <td>Fc</td>\n",
       "      <td>Calculated data</td>\n",
       "    </tr>\n",
       "    <tr>\n",
       "      <th>850</th>\n",
       "      <td>QC</td>\n",
       "      <td>Crops</td>\n",
       "      <td>181</td>\n",
       "      <td>Zimbabwe</td>\n",
       "      <td>5510</td>\n",
       "      <td>Production</td>\n",
       "      <td>572</td>\n",
       "      <td>Avocados</td>\n",
       "      <td>2015</td>\n",
       "      <td>2015</td>\n",
       "      <td>tonnes</td>\n",
       "      <td>1700.0</td>\n",
       "      <td>F</td>\n",
       "      <td>FAO estimate</td>\n",
       "    </tr>\n",
       "    <tr>\n",
       "      <th>851</th>\n",
       "      <td>QC</td>\n",
       "      <td>Crops</td>\n",
       "      <td>181</td>\n",
       "      <td>Zimbabwe</td>\n",
       "      <td>5510</td>\n",
       "      <td>Production</td>\n",
       "      <td>572</td>\n",
       "      <td>Avocados</td>\n",
       "      <td>2016</td>\n",
       "      <td>2016</td>\n",
       "      <td>tonnes</td>\n",
       "      <td>1800.0</td>\n",
       "      <td>F</td>\n",
       "      <td>FAO estimate</td>\n",
       "    </tr>\n",
       "    <tr>\n",
       "      <th>852</th>\n",
       "      <td>QC</td>\n",
       "      <td>Crops</td>\n",
       "      <td>181</td>\n",
       "      <td>Zimbabwe</td>\n",
       "      <td>5510</td>\n",
       "      <td>Production</td>\n",
       "      <td>572</td>\n",
       "      <td>Avocados</td>\n",
       "      <td>2017</td>\n",
       "      <td>2017</td>\n",
       "      <td>tonnes</td>\n",
       "      <td>3000.0</td>\n",
       "      <td>F</td>\n",
       "      <td>FAO estimate</td>\n",
       "    </tr>\n",
       "    <tr>\n",
       "      <th>853</th>\n",
       "      <td>QC</td>\n",
       "      <td>Crops</td>\n",
       "      <td>181</td>\n",
       "      <td>Zimbabwe</td>\n",
       "      <td>5510</td>\n",
       "      <td>Production</td>\n",
       "      <td>572</td>\n",
       "      <td>Avocados</td>\n",
       "      <td>2018</td>\n",
       "      <td>2018</td>\n",
       "      <td>tonnes</td>\n",
       "      <td>5300.0</td>\n",
       "      <td>F</td>\n",
       "      <td>FAO estimate</td>\n",
       "    </tr>\n",
       "  </tbody>\n",
       "</table>\n",
       "<p>854 rows × 14 columns</p>\n",
       "</div>"
      ],
      "text/plain": [
       "    Domain Code Domain  Area Code (FAO)       Area  Element Code  \\\n",
       "0            QC  Crops                9  Argentina          5312   \n",
       "1            QC  Crops                9  Argentina          5312   \n",
       "2            QC  Crops                9  Argentina          5312   \n",
       "3            QC  Crops                9  Argentina          5312   \n",
       "4            QC  Crops                9  Argentina          5419   \n",
       "..          ...    ...              ...        ...           ...   \n",
       "849          QC  Crops              181   Zimbabwe          5419   \n",
       "850          QC  Crops              181   Zimbabwe          5510   \n",
       "851          QC  Crops              181   Zimbabwe          5510   \n",
       "852          QC  Crops              181   Zimbabwe          5510   \n",
       "853          QC  Crops              181   Zimbabwe          5510   \n",
       "\n",
       "            Element  Item Code (FAO)      Item  Year Code  Year    Unit  \\\n",
       "0    Area harvested              572  Avocados       2015  2015      ha   \n",
       "1    Area harvested              572  Avocados       2016  2016      ha   \n",
       "2    Area harvested              572  Avocados       2017  2017      ha   \n",
       "3    Area harvested              572  Avocados       2018  2018      ha   \n",
       "4             Yield              572  Avocados       2015  2015   hg/ha   \n",
       "..              ...              ...       ...        ...   ...     ...   \n",
       "849           Yield              572  Avocados       2018  2018   hg/ha   \n",
       "850      Production              572  Avocados       2015  2015  tonnes   \n",
       "851      Production              572  Avocados       2016  2016  tonnes   \n",
       "852      Production              572  Avocados       2017  2017  tonnes   \n",
       "853      Production              572  Avocados       2018  2018  tonnes   \n",
       "\n",
       "       Value Flag                          Flag Description  \n",
       "0      581.0   Im  FAO data based on imputation methodology  \n",
       "1      583.0   Im  FAO data based on imputation methodology  \n",
       "2      583.0   Im  FAO data based on imputation methodology  \n",
       "3      583.0   Im  FAO data based on imputation methodology  \n",
       "4    69363.0   Fc                           Calculated data  \n",
       "..       ...  ...                                       ...  \n",
       "849  58242.0   Fc                           Calculated data  \n",
       "850   1700.0    F                              FAO estimate  \n",
       "851   1800.0    F                              FAO estimate  \n",
       "852   3000.0    F                              FAO estimate  \n",
       "853   5300.0    F                              FAO estimate  \n",
       "\n",
       "[854 rows x 14 columns]"
      ]
     },
     "execution_count": 88,
     "metadata": {},
     "output_type": "execute_result"
    }
   ],
   "source": [
    "land_to_produce "
   ]
  },
  {
   "cell_type": "code",
   "execution_count": 89,
   "id": "present-berry",
   "metadata": {},
   "outputs": [],
   "source": [
    "currencies = pd.read_csv('../datasets/currencies.csv')"
   ]
  },
  {
   "cell_type": "code",
   "execution_count": 90,
   "id": "scientific-blade",
   "metadata": {},
   "outputs": [
    {
     "data": {
      "text/html": [
       "<div>\n",
       "<style scoped>\n",
       "    .dataframe tbody tr th:only-of-type {\n",
       "        vertical-align: middle;\n",
       "    }\n",
       "\n",
       "    .dataframe tbody tr th {\n",
       "        vertical-align: top;\n",
       "    }\n",
       "\n",
       "    .dataframe thead th {\n",
       "        text-align: right;\n",
       "    }\n",
       "</style>\n",
       "<table border=\"1\" class=\"dataframe\">\n",
       "  <thead>\n",
       "    <tr style=\"text-align: right;\">\n",
       "      <th></th>\n",
       "      <th>Country or territory</th>\n",
       "      <th>Currency</th>\n",
       "      <th>Currency code</th>\n",
       "    </tr>\n",
       "  </thead>\n",
       "  <tbody>\n",
       "    <tr>\n",
       "      <th>0</th>\n",
       "      <td>Afghanistan</td>\n",
       "      <td>Afghan afghani</td>\n",
       "      <td>AFN</td>\n",
       "    </tr>\n",
       "    <tr>\n",
       "      <th>1</th>\n",
       "      <td>Akrotiri and Dhekelia (UK)</td>\n",
       "      <td>European euro</td>\n",
       "      <td>EUR</td>\n",
       "    </tr>\n",
       "    <tr>\n",
       "      <th>2</th>\n",
       "      <td>Aland Islands (Finland)</td>\n",
       "      <td>European euro</td>\n",
       "      <td>EUR</td>\n",
       "    </tr>\n",
       "    <tr>\n",
       "      <th>3</th>\n",
       "      <td>Albania</td>\n",
       "      <td>Albanian lek</td>\n",
       "      <td>ALL</td>\n",
       "    </tr>\n",
       "    <tr>\n",
       "      <th>4</th>\n",
       "      <td>Algeria</td>\n",
       "      <td>Algerian dinar</td>\n",
       "      <td>DZD</td>\n",
       "    </tr>\n",
       "    <tr>\n",
       "      <th>...</th>\n",
       "      <td>...</td>\n",
       "      <td>...</td>\n",
       "      <td>...</td>\n",
       "    </tr>\n",
       "    <tr>\n",
       "      <th>247</th>\n",
       "      <td>Wake Island</td>\n",
       "      <td>United States dollar</td>\n",
       "      <td>USD</td>\n",
       "    </tr>\n",
       "    <tr>\n",
       "      <th>248</th>\n",
       "      <td>Wallis and Futuna</td>\n",
       "      <td>CFP franc</td>\n",
       "      <td>XPF</td>\n",
       "    </tr>\n",
       "    <tr>\n",
       "      <th>249</th>\n",
       "      <td>Yemen</td>\n",
       "      <td>Yemeni rial</td>\n",
       "      <td>YER</td>\n",
       "    </tr>\n",
       "    <tr>\n",
       "      <th>250</th>\n",
       "      <td>Zambia</td>\n",
       "      <td>Zambian kwacha</td>\n",
       "      <td>ZMW</td>\n",
       "    </tr>\n",
       "    <tr>\n",
       "      <th>251</th>\n",
       "      <td>Zimbabwe</td>\n",
       "      <td>United States dollar</td>\n",
       "      <td>USD</td>\n",
       "    </tr>\n",
       "  </tbody>\n",
       "</table>\n",
       "<p>252 rows × 3 columns</p>\n",
       "</div>"
      ],
      "text/plain": [
       "           Country or territory              Currency Currency code\n",
       "0                   Afghanistan        Afghan afghani           AFN\n",
       "1    Akrotiri and Dhekelia (UK)         European euro           EUR\n",
       "2       Aland Islands (Finland)         European euro           EUR\n",
       "3                       Albania          Albanian lek           ALL\n",
       "4                       Algeria        Algerian dinar           DZD\n",
       "..                          ...                   ...           ...\n",
       "247                 Wake Island  United States dollar           USD\n",
       "248           Wallis and Futuna             CFP franc           XPF\n",
       "249                       Yemen           Yemeni rial           YER\n",
       "250                      Zambia        Zambian kwacha           ZMW\n",
       "251                    Zimbabwe  United States dollar           USD\n",
       "\n",
       "[252 rows x 3 columns]"
      ]
     },
     "execution_count": 90,
     "metadata": {},
     "output_type": "execute_result"
    }
   ],
   "source": [
    "currencies"
   ]
  },
  {
   "cell_type": "code",
   "execution_count": 91,
   "id": "smaller-budapest",
   "metadata": {},
   "outputs": [],
   "source": [
    "avocado_price = pd.read_csv('../datasets/avocado_price.csv')"
   ]
  },
  {
   "cell_type": "code",
   "execution_count": 92,
   "id": "beautiful-details",
   "metadata": {
    "scrolled": true
   },
   "outputs": [
    {
     "data": {
      "text/html": [
       "<div>\n",
       "<style scoped>\n",
       "    .dataframe tbody tr th:only-of-type {\n",
       "        vertical-align: middle;\n",
       "    }\n",
       "\n",
       "    .dataframe tbody tr th {\n",
       "        vertical-align: top;\n",
       "    }\n",
       "\n",
       "    .dataframe thead th {\n",
       "        text-align: right;\n",
       "    }\n",
       "</style>\n",
       "<table border=\"1\" class=\"dataframe\">\n",
       "  <thead>\n",
       "    <tr style=\"text-align: right;\">\n",
       "      <th></th>\n",
       "      <th>Domain Code</th>\n",
       "      <th>Domain</th>\n",
       "      <th>Area Code (FAO)</th>\n",
       "      <th>Area</th>\n",
       "      <th>Element Code</th>\n",
       "      <th>Element</th>\n",
       "      <th>Item Code</th>\n",
       "      <th>Item</th>\n",
       "      <th>Year Code</th>\n",
       "      <th>Year</th>\n",
       "      <th>Months Code</th>\n",
       "      <th>Months</th>\n",
       "      <th>Unit</th>\n",
       "      <th>Value</th>\n",
       "      <th>Flag</th>\n",
       "      <th>Flag Description</th>\n",
       "    </tr>\n",
       "  </thead>\n",
       "  <tbody>\n",
       "    <tr>\n",
       "      <th>0</th>\n",
       "      <td>PP</td>\n",
       "      <td>Producer Prices</td>\n",
       "      <td>10</td>\n",
       "      <td>Australia</td>\n",
       "      <td>5530</td>\n",
       "      <td>Producer Price (LCU/tonne)</td>\n",
       "      <td>572</td>\n",
       "      <td>Avocados</td>\n",
       "      <td>2015</td>\n",
       "      <td>2015</td>\n",
       "      <td>7021</td>\n",
       "      <td>Annual value</td>\n",
       "      <td>LCU</td>\n",
       "      <td>4476.0</td>\n",
       "      <td>NaN</td>\n",
       "      <td>Official data</td>\n",
       "    </tr>\n",
       "    <tr>\n",
       "      <th>1</th>\n",
       "      <td>PP</td>\n",
       "      <td>Producer Prices</td>\n",
       "      <td>10</td>\n",
       "      <td>Australia</td>\n",
       "      <td>5530</td>\n",
       "      <td>Producer Price (LCU/tonne)</td>\n",
       "      <td>572</td>\n",
       "      <td>Avocados</td>\n",
       "      <td>2016</td>\n",
       "      <td>2016</td>\n",
       "      <td>7021</td>\n",
       "      <td>Annual value</td>\n",
       "      <td>LCU</td>\n",
       "      <td>4886.0</td>\n",
       "      <td>NaN</td>\n",
       "      <td>Official data</td>\n",
       "    </tr>\n",
       "    <tr>\n",
       "      <th>2</th>\n",
       "      <td>PP</td>\n",
       "      <td>Producer Prices</td>\n",
       "      <td>10</td>\n",
       "      <td>Australia</td>\n",
       "      <td>5530</td>\n",
       "      <td>Producer Price (LCU/tonne)</td>\n",
       "      <td>572</td>\n",
       "      <td>Avocados</td>\n",
       "      <td>2017</td>\n",
       "      <td>2017</td>\n",
       "      <td>7021</td>\n",
       "      <td>Annual value</td>\n",
       "      <td>LCU</td>\n",
       "      <td>5296.0</td>\n",
       "      <td>NaN</td>\n",
       "      <td>Official data</td>\n",
       "    </tr>\n",
       "    <tr>\n",
       "      <th>3</th>\n",
       "      <td>PP</td>\n",
       "      <td>Producer Prices</td>\n",
       "      <td>10</td>\n",
       "      <td>Australia</td>\n",
       "      <td>5530</td>\n",
       "      <td>Producer Price (LCU/tonne)</td>\n",
       "      <td>572</td>\n",
       "      <td>Avocados</td>\n",
       "      <td>2018</td>\n",
       "      <td>2018</td>\n",
       "      <td>7021</td>\n",
       "      <td>Annual value</td>\n",
       "      <td>LCU</td>\n",
       "      <td>6374.0</td>\n",
       "      <td>NaN</td>\n",
       "      <td>Official data</td>\n",
       "    </tr>\n",
       "    <tr>\n",
       "      <th>4</th>\n",
       "      <td>PP</td>\n",
       "      <td>Producer Prices</td>\n",
       "      <td>10</td>\n",
       "      <td>Australia</td>\n",
       "      <td>5531</td>\n",
       "      <td>Producer Price (SLC/tonne)</td>\n",
       "      <td>572</td>\n",
       "      <td>Avocados</td>\n",
       "      <td>2015</td>\n",
       "      <td>2015</td>\n",
       "      <td>7021</td>\n",
       "      <td>Annual value</td>\n",
       "      <td>SLC</td>\n",
       "      <td>4476.0</td>\n",
       "      <td>NaN</td>\n",
       "      <td>Official data</td>\n",
       "    </tr>\n",
       "    <tr>\n",
       "      <th>...</th>\n",
       "      <td>...</td>\n",
       "      <td>...</td>\n",
       "      <td>...</td>\n",
       "      <td>...</td>\n",
       "      <td>...</td>\n",
       "      <td>...</td>\n",
       "      <td>...</td>\n",
       "      <td>...</td>\n",
       "      <td>...</td>\n",
       "      <td>...</td>\n",
       "      <td>...</td>\n",
       "      <td>...</td>\n",
       "      <td>...</td>\n",
       "      <td>...</td>\n",
       "      <td>...</td>\n",
       "      <td>...</td>\n",
       "    </tr>\n",
       "    <tr>\n",
       "      <th>370</th>\n",
       "      <td>PP</td>\n",
       "      <td>Producer Prices</td>\n",
       "      <td>181</td>\n",
       "      <td>Zimbabwe</td>\n",
       "      <td>5531</td>\n",
       "      <td>Producer Price (SLC/tonne)</td>\n",
       "      <td>572</td>\n",
       "      <td>Avocados</td>\n",
       "      <td>2016</td>\n",
       "      <td>2016</td>\n",
       "      <td>7021</td>\n",
       "      <td>Annual value</td>\n",
       "      <td>SLC</td>\n",
       "      <td>1007.0</td>\n",
       "      <td>NaN</td>\n",
       "      <td>Official data</td>\n",
       "    </tr>\n",
       "    <tr>\n",
       "      <th>371</th>\n",
       "      <td>PP</td>\n",
       "      <td>Producer Prices</td>\n",
       "      <td>181</td>\n",
       "      <td>Zimbabwe</td>\n",
       "      <td>5531</td>\n",
       "      <td>Producer Price (SLC/tonne)</td>\n",
       "      <td>572</td>\n",
       "      <td>Avocados</td>\n",
       "      <td>2017</td>\n",
       "      <td>2017</td>\n",
       "      <td>7021</td>\n",
       "      <td>Annual value</td>\n",
       "      <td>SLC</td>\n",
       "      <td>1158.0</td>\n",
       "      <td>NaN</td>\n",
       "      <td>Official data</td>\n",
       "    </tr>\n",
       "    <tr>\n",
       "      <th>372</th>\n",
       "      <td>PP</td>\n",
       "      <td>Producer Prices</td>\n",
       "      <td>181</td>\n",
       "      <td>Zimbabwe</td>\n",
       "      <td>5532</td>\n",
       "      <td>Producer Price (USD/tonne)</td>\n",
       "      <td>572</td>\n",
       "      <td>Avocados</td>\n",
       "      <td>2015</td>\n",
       "      <td>2015</td>\n",
       "      <td>7021</td>\n",
       "      <td>Annual value</td>\n",
       "      <td>USD</td>\n",
       "      <td>1009.0</td>\n",
       "      <td>NaN</td>\n",
       "      <td>Official data</td>\n",
       "    </tr>\n",
       "    <tr>\n",
       "      <th>373</th>\n",
       "      <td>PP</td>\n",
       "      <td>Producer Prices</td>\n",
       "      <td>181</td>\n",
       "      <td>Zimbabwe</td>\n",
       "      <td>5532</td>\n",
       "      <td>Producer Price (USD/tonne)</td>\n",
       "      <td>572</td>\n",
       "      <td>Avocados</td>\n",
       "      <td>2016</td>\n",
       "      <td>2016</td>\n",
       "      <td>7021</td>\n",
       "      <td>Annual value</td>\n",
       "      <td>USD</td>\n",
       "      <td>1007.0</td>\n",
       "      <td>NaN</td>\n",
       "      <td>Official data</td>\n",
       "    </tr>\n",
       "    <tr>\n",
       "      <th>374</th>\n",
       "      <td>PP</td>\n",
       "      <td>Producer Prices</td>\n",
       "      <td>181</td>\n",
       "      <td>Zimbabwe</td>\n",
       "      <td>5532</td>\n",
       "      <td>Producer Price (USD/tonne)</td>\n",
       "      <td>572</td>\n",
       "      <td>Avocados</td>\n",
       "      <td>2017</td>\n",
       "      <td>2017</td>\n",
       "      <td>7021</td>\n",
       "      <td>Annual value</td>\n",
       "      <td>USD</td>\n",
       "      <td>1158.0</td>\n",
       "      <td>NaN</td>\n",
       "      <td>Official data</td>\n",
       "    </tr>\n",
       "  </tbody>\n",
       "</table>\n",
       "<p>375 rows × 16 columns</p>\n",
       "</div>"
      ],
      "text/plain": [
       "    Domain Code           Domain  Area Code (FAO)       Area  Element Code  \\\n",
       "0            PP  Producer Prices               10  Australia          5530   \n",
       "1            PP  Producer Prices               10  Australia          5530   \n",
       "2            PP  Producer Prices               10  Australia          5530   \n",
       "3            PP  Producer Prices               10  Australia          5530   \n",
       "4            PP  Producer Prices               10  Australia          5531   \n",
       "..          ...              ...              ...        ...           ...   \n",
       "370          PP  Producer Prices              181   Zimbabwe          5531   \n",
       "371          PP  Producer Prices              181   Zimbabwe          5531   \n",
       "372          PP  Producer Prices              181   Zimbabwe          5532   \n",
       "373          PP  Producer Prices              181   Zimbabwe          5532   \n",
       "374          PP  Producer Prices              181   Zimbabwe          5532   \n",
       "\n",
       "                        Element  Item Code      Item  Year Code  Year  \\\n",
       "0    Producer Price (LCU/tonne)        572  Avocados       2015  2015   \n",
       "1    Producer Price (LCU/tonne)        572  Avocados       2016  2016   \n",
       "2    Producer Price (LCU/tonne)        572  Avocados       2017  2017   \n",
       "3    Producer Price (LCU/tonne)        572  Avocados       2018  2018   \n",
       "4    Producer Price (SLC/tonne)        572  Avocados       2015  2015   \n",
       "..                          ...        ...       ...        ...   ...   \n",
       "370  Producer Price (SLC/tonne)        572  Avocados       2016  2016   \n",
       "371  Producer Price (SLC/tonne)        572  Avocados       2017  2017   \n",
       "372  Producer Price (USD/tonne)        572  Avocados       2015  2015   \n",
       "373  Producer Price (USD/tonne)        572  Avocados       2016  2016   \n",
       "374  Producer Price (USD/tonne)        572  Avocados       2017  2017   \n",
       "\n",
       "     Months Code        Months Unit   Value  Flag Flag Description  \n",
       "0           7021  Annual value  LCU  4476.0   NaN    Official data  \n",
       "1           7021  Annual value  LCU  4886.0   NaN    Official data  \n",
       "2           7021  Annual value  LCU  5296.0   NaN    Official data  \n",
       "3           7021  Annual value  LCU  6374.0   NaN    Official data  \n",
       "4           7021  Annual value  SLC  4476.0   NaN    Official data  \n",
       "..           ...           ...  ...     ...   ...              ...  \n",
       "370         7021  Annual value  SLC  1007.0   NaN    Official data  \n",
       "371         7021  Annual value  SLC  1158.0   NaN    Official data  \n",
       "372         7021  Annual value  USD  1009.0   NaN    Official data  \n",
       "373         7021  Annual value  USD  1007.0   NaN    Official data  \n",
       "374         7021  Annual value  USD  1158.0   NaN    Official data  \n",
       "\n",
       "[375 rows x 16 columns]"
      ]
     },
     "execution_count": 92,
     "metadata": {},
     "output_type": "execute_result"
    }
   ],
   "source": [
    "avocado_price"
   ]
  },
  {
   "cell_type": "markdown",
   "id": "studied-intake",
   "metadata": {},
   "source": [
    "## 1. Data Cleaning"
   ]
  },
  {
   "cell_type": "code",
   "execution_count": 93,
   "id": "frank-center",
   "metadata": {},
   "outputs": [
    {
     "name": "stdout",
     "output_type": "stream",
     "text": [
      "<class 'pandas.core.frame.DataFrame'>\n",
      "RangeIndex: 18249 entries, 0 to 18248\n",
      "Data columns (total 14 columns):\n",
      " #   Column        Non-Null Count  Dtype  \n",
      "---  ------        --------------  -----  \n",
      " 0   Unnamed: 0    18249 non-null  int64  \n",
      " 1   Date          18249 non-null  object \n",
      " 2   AveragePrice  18249 non-null  float64\n",
      " 3   Total Volume  18249 non-null  float64\n",
      " 4   4046          18249 non-null  float64\n",
      " 5   4225          18249 non-null  float64\n",
      " 6   4770          18249 non-null  float64\n",
      " 7   Total Bags    18249 non-null  float64\n",
      " 8   Small Bags    18249 non-null  float64\n",
      " 9   Large Bags    18249 non-null  float64\n",
      " 10  XLarge Bags   18249 non-null  float64\n",
      " 11  type          18249 non-null  object \n",
      " 12  year          18249 non-null  int64  \n",
      " 13  region        18249 non-null  object \n",
      "dtypes: float64(9), int64(2), object(3)\n",
      "memory usage: 1.9+ MB\n"
     ]
    }
   ],
   "source": [
    "avocado.info()"
   ]
  },
  {
   "cell_type": "code",
   "execution_count": 94,
   "id": "sexual-raise",
   "metadata": {},
   "outputs": [
    {
     "name": "stdout",
     "output_type": "stream",
     "text": [
      "<class 'pandas.core.frame.DataFrame'>\n",
      "RangeIndex: 854 entries, 0 to 853\n",
      "Data columns (total 14 columns):\n",
      " #   Column            Non-Null Count  Dtype  \n",
      "---  ------            --------------  -----  \n",
      " 0   Domain Code       854 non-null    object \n",
      " 1   Domain            854 non-null    object \n",
      " 2   Area Code (FAO)   854 non-null    int64  \n",
      " 3   Area              854 non-null    object \n",
      " 4   Element Code      854 non-null    int64  \n",
      " 5   Element           854 non-null    object \n",
      " 6   Item Code (FAO)   854 non-null    int64  \n",
      " 7   Item              854 non-null    object \n",
      " 8   Year Code         854 non-null    int64  \n",
      " 9   Year              854 non-null    int64  \n",
      " 10  Unit              854 non-null    object \n",
      " 11  Value             824 non-null    float64\n",
      " 12  Flag              581 non-null    object \n",
      " 13  Flag Description  854 non-null    object \n",
      "dtypes: float64(1), int64(5), object(8)\n",
      "memory usage: 93.5+ KB\n"
     ]
    }
   ],
   "source": [
    "land_to_produce.info()"
   ]
  },
  {
   "cell_type": "code",
   "execution_count": 95,
   "id": "saving-pierre",
   "metadata": {},
   "outputs": [
    {
     "name": "stdout",
     "output_type": "stream",
     "text": [
      "<class 'pandas.core.frame.DataFrame'>\n",
      "RangeIndex: 375 entries, 0 to 374\n",
      "Data columns (total 16 columns):\n",
      " #   Column            Non-Null Count  Dtype  \n",
      "---  ------            --------------  -----  \n",
      " 0   Domain Code       375 non-null    object \n",
      " 1   Domain            375 non-null    object \n",
      " 2   Area Code (FAO)   375 non-null    int64  \n",
      " 3   Area              375 non-null    object \n",
      " 4   Element Code      375 non-null    int64  \n",
      " 5   Element           375 non-null    object \n",
      " 6   Item Code         375 non-null    int64  \n",
      " 7   Item              375 non-null    object \n",
      " 8   Year Code         375 non-null    int64  \n",
      " 9   Year              375 non-null    int64  \n",
      " 10  Months Code       375 non-null    int64  \n",
      " 11  Months            375 non-null    object \n",
      " 12  Unit              375 non-null    object \n",
      " 13  Value             375 non-null    float64\n",
      " 14  Flag              0 non-null      float64\n",
      " 15  Flag Description  375 non-null    object \n",
      "dtypes: float64(2), int64(6), object(8)\n",
      "memory usage: 47.0+ KB\n"
     ]
    }
   ],
   "source": [
    "avocado_price.info()"
   ]
  },
  {
   "cell_type": "markdown",
   "id": "increased-census",
   "metadata": {},
   "source": [
    "### Removing the columns in all datasets that do not provide with helpful info + renaming the columns in code with the avocado type they represent on \"avocados\" \n"
   ]
  },
  {
   "cell_type": "code",
   "execution_count": 96,
   "id": "monetary-adrian",
   "metadata": {},
   "outputs": [],
   "source": [
    "avocado.drop([0, 1])\n",
    "avocado.rename(columns={\"4046\": \"Hass Small\", \"4225\" : \"Hass Large\", \"4770\" : \"Hass Jumbo\"}, inplace = True)"
   ]
  },
  {
   "cell_type": "code",
   "execution_count": 97,
   "id": "labeled-stomach",
   "metadata": {},
   "outputs": [],
   "source": [
    "land_to_produce.drop(['Domain Code','Domain','Area Code (FAO)', 'Element Code', 'Item Code (FAO)', 'Item', 'Year Code', 'Flag', 'Flag Description'], inplace = True , axis = 1)\n",
    "land_to_produce.rename(columns={\"Area\": \"Country\"}, inplace = True)"
   ]
  },
  {
   "cell_type": "code",
   "execution_count": 98,
   "id": "orange-orange",
   "metadata": {},
   "outputs": [
    {
     "data": {
      "text/html": [
       "<div>\n",
       "<style scoped>\n",
       "    .dataframe tbody tr th:only-of-type {\n",
       "        vertical-align: middle;\n",
       "    }\n",
       "\n",
       "    .dataframe tbody tr th {\n",
       "        vertical-align: top;\n",
       "    }\n",
       "\n",
       "    .dataframe thead th {\n",
       "        text-align: right;\n",
       "    }\n",
       "</style>\n",
       "<table border=\"1\" class=\"dataframe\">\n",
       "  <thead>\n",
       "    <tr style=\"text-align: right;\">\n",
       "      <th></th>\n",
       "      <th>Country</th>\n",
       "      <th>Element</th>\n",
       "      <th>Year</th>\n",
       "      <th>Unit</th>\n",
       "      <th>Value</th>\n",
       "    </tr>\n",
       "  </thead>\n",
       "  <tbody>\n",
       "    <tr>\n",
       "      <th>0</th>\n",
       "      <td>Argentina</td>\n",
       "      <td>Area harvested</td>\n",
       "      <td>2015</td>\n",
       "      <td>ha</td>\n",
       "      <td>581.0</td>\n",
       "    </tr>\n",
       "    <tr>\n",
       "      <th>1</th>\n",
       "      <td>Argentina</td>\n",
       "      <td>Area harvested</td>\n",
       "      <td>2016</td>\n",
       "      <td>ha</td>\n",
       "      <td>583.0</td>\n",
       "    </tr>\n",
       "    <tr>\n",
       "      <th>2</th>\n",
       "      <td>Argentina</td>\n",
       "      <td>Area harvested</td>\n",
       "      <td>2017</td>\n",
       "      <td>ha</td>\n",
       "      <td>583.0</td>\n",
       "    </tr>\n",
       "    <tr>\n",
       "      <th>3</th>\n",
       "      <td>Argentina</td>\n",
       "      <td>Area harvested</td>\n",
       "      <td>2018</td>\n",
       "      <td>ha</td>\n",
       "      <td>583.0</td>\n",
       "    </tr>\n",
       "    <tr>\n",
       "      <th>4</th>\n",
       "      <td>Argentina</td>\n",
       "      <td>Yield</td>\n",
       "      <td>2015</td>\n",
       "      <td>hg/ha</td>\n",
       "      <td>69363.0</td>\n",
       "    </tr>\n",
       "    <tr>\n",
       "      <th>...</th>\n",
       "      <td>...</td>\n",
       "      <td>...</td>\n",
       "      <td>...</td>\n",
       "      <td>...</td>\n",
       "      <td>...</td>\n",
       "    </tr>\n",
       "    <tr>\n",
       "      <th>849</th>\n",
       "      <td>Zimbabwe</td>\n",
       "      <td>Yield</td>\n",
       "      <td>2018</td>\n",
       "      <td>hg/ha</td>\n",
       "      <td>58242.0</td>\n",
       "    </tr>\n",
       "    <tr>\n",
       "      <th>850</th>\n",
       "      <td>Zimbabwe</td>\n",
       "      <td>Production</td>\n",
       "      <td>2015</td>\n",
       "      <td>tonnes</td>\n",
       "      <td>1700.0</td>\n",
       "    </tr>\n",
       "    <tr>\n",
       "      <th>851</th>\n",
       "      <td>Zimbabwe</td>\n",
       "      <td>Production</td>\n",
       "      <td>2016</td>\n",
       "      <td>tonnes</td>\n",
       "      <td>1800.0</td>\n",
       "    </tr>\n",
       "    <tr>\n",
       "      <th>852</th>\n",
       "      <td>Zimbabwe</td>\n",
       "      <td>Production</td>\n",
       "      <td>2017</td>\n",
       "      <td>tonnes</td>\n",
       "      <td>3000.0</td>\n",
       "    </tr>\n",
       "    <tr>\n",
       "      <th>853</th>\n",
       "      <td>Zimbabwe</td>\n",
       "      <td>Production</td>\n",
       "      <td>2018</td>\n",
       "      <td>tonnes</td>\n",
       "      <td>5300.0</td>\n",
       "    </tr>\n",
       "  </tbody>\n",
       "</table>\n",
       "<p>854 rows × 5 columns</p>\n",
       "</div>"
      ],
      "text/plain": [
       "       Country         Element  Year    Unit    Value\n",
       "0    Argentina  Area harvested  2015      ha    581.0\n",
       "1    Argentina  Area harvested  2016      ha    583.0\n",
       "2    Argentina  Area harvested  2017      ha    583.0\n",
       "3    Argentina  Area harvested  2018      ha    583.0\n",
       "4    Argentina           Yield  2015   hg/ha  69363.0\n",
       "..         ...             ...   ...     ...      ...\n",
       "849   Zimbabwe           Yield  2018   hg/ha  58242.0\n",
       "850   Zimbabwe      Production  2015  tonnes   1700.0\n",
       "851   Zimbabwe      Production  2016  tonnes   1800.0\n",
       "852   Zimbabwe      Production  2017  tonnes   3000.0\n",
       "853   Zimbabwe      Production  2018  tonnes   5300.0\n",
       "\n",
       "[854 rows x 5 columns]"
      ]
     },
     "execution_count": 98,
     "metadata": {},
     "output_type": "execute_result"
    }
   ],
   "source": [
    "land_to_produce"
   ]
  },
  {
   "cell_type": "code",
   "execution_count": 99,
   "id": "animal-guitar",
   "metadata": {},
   "outputs": [],
   "source": [
    "avocado_price.drop(['Area Code (FAO)', 'Domain Code', 'Domain', 'Element Code', 'Item Code', \"Item\", 'Year Code', 'Flag', 'Months Code', 'Flag Description'], inplace = True , axis = 1)\n",
    "avocado_price.rename(columns={\"Area\": \"Country\"}, inplace = True)"
   ]
  },
  {
   "cell_type": "code",
   "execution_count": 100,
   "id": "determined-glory",
   "metadata": {},
   "outputs": [
    {
     "data": {
      "text/html": [
       "<div>\n",
       "<style scoped>\n",
       "    .dataframe tbody tr th:only-of-type {\n",
       "        vertical-align: middle;\n",
       "    }\n",
       "\n",
       "    .dataframe tbody tr th {\n",
       "        vertical-align: top;\n",
       "    }\n",
       "\n",
       "    .dataframe thead th {\n",
       "        text-align: right;\n",
       "    }\n",
       "</style>\n",
       "<table border=\"1\" class=\"dataframe\">\n",
       "  <thead>\n",
       "    <tr style=\"text-align: right;\">\n",
       "      <th></th>\n",
       "      <th>Country</th>\n",
       "      <th>Element</th>\n",
       "      <th>Year</th>\n",
       "      <th>Months</th>\n",
       "      <th>Unit</th>\n",
       "      <th>Value</th>\n",
       "    </tr>\n",
       "  </thead>\n",
       "  <tbody>\n",
       "    <tr>\n",
       "      <th>0</th>\n",
       "      <td>Australia</td>\n",
       "      <td>Producer Price (LCU/tonne)</td>\n",
       "      <td>2015</td>\n",
       "      <td>Annual value</td>\n",
       "      <td>LCU</td>\n",
       "      <td>4476.0</td>\n",
       "    </tr>\n",
       "    <tr>\n",
       "      <th>1</th>\n",
       "      <td>Australia</td>\n",
       "      <td>Producer Price (LCU/tonne)</td>\n",
       "      <td>2016</td>\n",
       "      <td>Annual value</td>\n",
       "      <td>LCU</td>\n",
       "      <td>4886.0</td>\n",
       "    </tr>\n",
       "    <tr>\n",
       "      <th>2</th>\n",
       "      <td>Australia</td>\n",
       "      <td>Producer Price (LCU/tonne)</td>\n",
       "      <td>2017</td>\n",
       "      <td>Annual value</td>\n",
       "      <td>LCU</td>\n",
       "      <td>5296.0</td>\n",
       "    </tr>\n",
       "    <tr>\n",
       "      <th>3</th>\n",
       "      <td>Australia</td>\n",
       "      <td>Producer Price (LCU/tonne)</td>\n",
       "      <td>2018</td>\n",
       "      <td>Annual value</td>\n",
       "      <td>LCU</td>\n",
       "      <td>6374.0</td>\n",
       "    </tr>\n",
       "    <tr>\n",
       "      <th>4</th>\n",
       "      <td>Australia</td>\n",
       "      <td>Producer Price (SLC/tonne)</td>\n",
       "      <td>2015</td>\n",
       "      <td>Annual value</td>\n",
       "      <td>SLC</td>\n",
       "      <td>4476.0</td>\n",
       "    </tr>\n",
       "    <tr>\n",
       "      <th>5</th>\n",
       "      <td>Australia</td>\n",
       "      <td>Producer Price (SLC/tonne)</td>\n",
       "      <td>2016</td>\n",
       "      <td>Annual value</td>\n",
       "      <td>SLC</td>\n",
       "      <td>4886.0</td>\n",
       "    </tr>\n",
       "    <tr>\n",
       "      <th>6</th>\n",
       "      <td>Australia</td>\n",
       "      <td>Producer Price (SLC/tonne)</td>\n",
       "      <td>2017</td>\n",
       "      <td>Annual value</td>\n",
       "      <td>SLC</td>\n",
       "      <td>5296.0</td>\n",
       "    </tr>\n",
       "    <tr>\n",
       "      <th>7</th>\n",
       "      <td>Australia</td>\n",
       "      <td>Producer Price (SLC/tonne)</td>\n",
       "      <td>2018</td>\n",
       "      <td>Annual value</td>\n",
       "      <td>SLC</td>\n",
       "      <td>6374.0</td>\n",
       "    </tr>\n",
       "    <tr>\n",
       "      <th>8</th>\n",
       "      <td>Australia</td>\n",
       "      <td>Producer Price (USD/tonne)</td>\n",
       "      <td>2015</td>\n",
       "      <td>Annual value</td>\n",
       "      <td>USD</td>\n",
       "      <td>3362.6</td>\n",
       "    </tr>\n",
       "    <tr>\n",
       "      <th>9</th>\n",
       "      <td>Australia</td>\n",
       "      <td>Producer Price (USD/tonne)</td>\n",
       "      <td>2016</td>\n",
       "      <td>Annual value</td>\n",
       "      <td>USD</td>\n",
       "      <td>3632.2</td>\n",
       "    </tr>\n",
       "    <tr>\n",
       "      <th>10</th>\n",
       "      <td>Australia</td>\n",
       "      <td>Producer Price (USD/tonne)</td>\n",
       "      <td>2017</td>\n",
       "      <td>Annual value</td>\n",
       "      <td>USD</td>\n",
       "      <td>4058.9</td>\n",
       "    </tr>\n",
       "    <tr>\n",
       "      <th>11</th>\n",
       "      <td>Australia</td>\n",
       "      <td>Producer Price (USD/tonne)</td>\n",
       "      <td>2018</td>\n",
       "      <td>Annual value</td>\n",
       "      <td>USD</td>\n",
       "      <td>4762.4</td>\n",
       "    </tr>\n",
       "    <tr>\n",
       "      <th>12</th>\n",
       "      <td>Bolivia (Plurinational State of)</td>\n",
       "      <td>Producer Price (LCU/tonne)</td>\n",
       "      <td>2015</td>\n",
       "      <td>Annual value</td>\n",
       "      <td>LCU</td>\n",
       "      <td>3054.1</td>\n",
       "    </tr>\n",
       "    <tr>\n",
       "      <th>13</th>\n",
       "      <td>Bolivia (Plurinational State of)</td>\n",
       "      <td>Producer Price (SLC/tonne)</td>\n",
       "      <td>2015</td>\n",
       "      <td>Annual value</td>\n",
       "      <td>SLC</td>\n",
       "      <td>3054.1</td>\n",
       "    </tr>\n",
       "    <tr>\n",
       "      <th>14</th>\n",
       "      <td>Bolivia (Plurinational State of)</td>\n",
       "      <td>Producer Price (USD/tonne)</td>\n",
       "      <td>2015</td>\n",
       "      <td>Annual value</td>\n",
       "      <td>USD</td>\n",
       "      <td>442.0</td>\n",
       "    </tr>\n",
       "    <tr>\n",
       "      <th>15</th>\n",
       "      <td>Brunei Darussalam</td>\n",
       "      <td>Producer Price (LCU/tonne)</td>\n",
       "      <td>2015</td>\n",
       "      <td>Annual value</td>\n",
       "      <td>LCU</td>\n",
       "      <td>4760.0</td>\n",
       "    </tr>\n",
       "    <tr>\n",
       "      <th>16</th>\n",
       "      <td>Brunei Darussalam</td>\n",
       "      <td>Producer Price (LCU/tonne)</td>\n",
       "      <td>2016</td>\n",
       "      <td>Annual value</td>\n",
       "      <td>LCU</td>\n",
       "      <td>5790.0</td>\n",
       "    </tr>\n",
       "    <tr>\n",
       "      <th>17</th>\n",
       "      <td>Brunei Darussalam</td>\n",
       "      <td>Producer Price (LCU/tonne)</td>\n",
       "      <td>2017</td>\n",
       "      <td>Annual value</td>\n",
       "      <td>LCU</td>\n",
       "      <td>9518.0</td>\n",
       "    </tr>\n",
       "    <tr>\n",
       "      <th>18</th>\n",
       "      <td>Brunei Darussalam</td>\n",
       "      <td>Producer Price (LCU/tonne)</td>\n",
       "      <td>2018</td>\n",
       "      <td>Annual value</td>\n",
       "      <td>LCU</td>\n",
       "      <td>8510.0</td>\n",
       "    </tr>\n",
       "    <tr>\n",
       "      <th>19</th>\n",
       "      <td>Brunei Darussalam</td>\n",
       "      <td>Producer Price (SLC/tonne)</td>\n",
       "      <td>2015</td>\n",
       "      <td>Annual value</td>\n",
       "      <td>SLC</td>\n",
       "      <td>4760.0</td>\n",
       "    </tr>\n",
       "    <tr>\n",
       "      <th>20</th>\n",
       "      <td>Brunei Darussalam</td>\n",
       "      <td>Producer Price (SLC/tonne)</td>\n",
       "      <td>2016</td>\n",
       "      <td>Annual value</td>\n",
       "      <td>SLC</td>\n",
       "      <td>5790.0</td>\n",
       "    </tr>\n",
       "    <tr>\n",
       "      <th>21</th>\n",
       "      <td>Brunei Darussalam</td>\n",
       "      <td>Producer Price (SLC/tonne)</td>\n",
       "      <td>2017</td>\n",
       "      <td>Annual value</td>\n",
       "      <td>SLC</td>\n",
       "      <td>9518.0</td>\n",
       "    </tr>\n",
       "    <tr>\n",
       "      <th>22</th>\n",
       "      <td>Brunei Darussalam</td>\n",
       "      <td>Producer Price (SLC/tonne)</td>\n",
       "      <td>2018</td>\n",
       "      <td>Annual value</td>\n",
       "      <td>SLC</td>\n",
       "      <td>8510.0</td>\n",
       "    </tr>\n",
       "    <tr>\n",
       "      <th>23</th>\n",
       "      <td>Brunei Darussalam</td>\n",
       "      <td>Producer Price (USD/tonne)</td>\n",
       "      <td>2015</td>\n",
       "      <td>Annual value</td>\n",
       "      <td>USD</td>\n",
       "      <td>3462.1</td>\n",
       "    </tr>\n",
       "    <tr>\n",
       "      <th>24</th>\n",
       "      <td>Brunei Darussalam</td>\n",
       "      <td>Producer Price (USD/tonne)</td>\n",
       "      <td>2016</td>\n",
       "      <td>Annual value</td>\n",
       "      <td>USD</td>\n",
       "      <td>4191.7</td>\n",
       "    </tr>\n",
       "    <tr>\n",
       "      <th>25</th>\n",
       "      <td>Brunei Darussalam</td>\n",
       "      <td>Producer Price (USD/tonne)</td>\n",
       "      <td>2017</td>\n",
       "      <td>Annual value</td>\n",
       "      <td>USD</td>\n",
       "      <td>6892.6</td>\n",
       "    </tr>\n",
       "    <tr>\n",
       "      <th>26</th>\n",
       "      <td>Brunei Darussalam</td>\n",
       "      <td>Producer Price (USD/tonne)</td>\n",
       "      <td>2018</td>\n",
       "      <td>Annual value</td>\n",
       "      <td>USD</td>\n",
       "      <td>6308.8</td>\n",
       "    </tr>\n",
       "    <tr>\n",
       "      <th>27</th>\n",
       "      <td>Chile</td>\n",
       "      <td>Producer Price (LCU/tonne)</td>\n",
       "      <td>2015</td>\n",
       "      <td>Annual value</td>\n",
       "      <td>LCU</td>\n",
       "      <td>1600540.8</td>\n",
       "    </tr>\n",
       "    <tr>\n",
       "      <th>28</th>\n",
       "      <td>Chile</td>\n",
       "      <td>Producer Price (LCU/tonne)</td>\n",
       "      <td>2016</td>\n",
       "      <td>Annual value</td>\n",
       "      <td>LCU</td>\n",
       "      <td>1669385.0</td>\n",
       "    </tr>\n",
       "    <tr>\n",
       "      <th>29</th>\n",
       "      <td>Chile</td>\n",
       "      <td>Producer Price (LCU/tonne)</td>\n",
       "      <td>2017</td>\n",
       "      <td>Annual value</td>\n",
       "      <td>LCU</td>\n",
       "      <td>1598202.5</td>\n",
       "    </tr>\n",
       "  </tbody>\n",
       "</table>\n",
       "</div>"
      ],
      "text/plain": [
       "                             Country                     Element  Year  \\\n",
       "0                          Australia  Producer Price (LCU/tonne)  2015   \n",
       "1                          Australia  Producer Price (LCU/tonne)  2016   \n",
       "2                          Australia  Producer Price (LCU/tonne)  2017   \n",
       "3                          Australia  Producer Price (LCU/tonne)  2018   \n",
       "4                          Australia  Producer Price (SLC/tonne)  2015   \n",
       "5                          Australia  Producer Price (SLC/tonne)  2016   \n",
       "6                          Australia  Producer Price (SLC/tonne)  2017   \n",
       "7                          Australia  Producer Price (SLC/tonne)  2018   \n",
       "8                          Australia  Producer Price (USD/tonne)  2015   \n",
       "9                          Australia  Producer Price (USD/tonne)  2016   \n",
       "10                         Australia  Producer Price (USD/tonne)  2017   \n",
       "11                         Australia  Producer Price (USD/tonne)  2018   \n",
       "12  Bolivia (Plurinational State of)  Producer Price (LCU/tonne)  2015   \n",
       "13  Bolivia (Plurinational State of)  Producer Price (SLC/tonne)  2015   \n",
       "14  Bolivia (Plurinational State of)  Producer Price (USD/tonne)  2015   \n",
       "15                 Brunei Darussalam  Producer Price (LCU/tonne)  2015   \n",
       "16                 Brunei Darussalam  Producer Price (LCU/tonne)  2016   \n",
       "17                 Brunei Darussalam  Producer Price (LCU/tonne)  2017   \n",
       "18                 Brunei Darussalam  Producer Price (LCU/tonne)  2018   \n",
       "19                 Brunei Darussalam  Producer Price (SLC/tonne)  2015   \n",
       "20                 Brunei Darussalam  Producer Price (SLC/tonne)  2016   \n",
       "21                 Brunei Darussalam  Producer Price (SLC/tonne)  2017   \n",
       "22                 Brunei Darussalam  Producer Price (SLC/tonne)  2018   \n",
       "23                 Brunei Darussalam  Producer Price (USD/tonne)  2015   \n",
       "24                 Brunei Darussalam  Producer Price (USD/tonne)  2016   \n",
       "25                 Brunei Darussalam  Producer Price (USD/tonne)  2017   \n",
       "26                 Brunei Darussalam  Producer Price (USD/tonne)  2018   \n",
       "27                             Chile  Producer Price (LCU/tonne)  2015   \n",
       "28                             Chile  Producer Price (LCU/tonne)  2016   \n",
       "29                             Chile  Producer Price (LCU/tonne)  2017   \n",
       "\n",
       "          Months Unit      Value  \n",
       "0   Annual value  LCU     4476.0  \n",
       "1   Annual value  LCU     4886.0  \n",
       "2   Annual value  LCU     5296.0  \n",
       "3   Annual value  LCU     6374.0  \n",
       "4   Annual value  SLC     4476.0  \n",
       "5   Annual value  SLC     4886.0  \n",
       "6   Annual value  SLC     5296.0  \n",
       "7   Annual value  SLC     6374.0  \n",
       "8   Annual value  USD     3362.6  \n",
       "9   Annual value  USD     3632.2  \n",
       "10  Annual value  USD     4058.9  \n",
       "11  Annual value  USD     4762.4  \n",
       "12  Annual value  LCU     3054.1  \n",
       "13  Annual value  SLC     3054.1  \n",
       "14  Annual value  USD      442.0  \n",
       "15  Annual value  LCU     4760.0  \n",
       "16  Annual value  LCU     5790.0  \n",
       "17  Annual value  LCU     9518.0  \n",
       "18  Annual value  LCU     8510.0  \n",
       "19  Annual value  SLC     4760.0  \n",
       "20  Annual value  SLC     5790.0  \n",
       "21  Annual value  SLC     9518.0  \n",
       "22  Annual value  SLC     8510.0  \n",
       "23  Annual value  USD     3462.1  \n",
       "24  Annual value  USD     4191.7  \n",
       "25  Annual value  USD     6892.6  \n",
       "26  Annual value  USD     6308.8  \n",
       "27  Annual value  LCU  1600540.8  \n",
       "28  Annual value  LCU  1669385.0  \n",
       "29  Annual value  LCU  1598202.5  "
      ]
     },
     "execution_count": 100,
     "metadata": {},
     "output_type": "execute_result"
    }
   ],
   "source": [
    "avocado_price.head(30)"
   ]
  },
  {
   "cell_type": "markdown",
   "id": "quantitative-airport",
   "metadata": {},
   "source": [
    "### Transforming Elements \"Area Harvested\" and Production in \"land_to_produce\" into columns so they can be better plotted later on"
   ]
  },
  {
   "cell_type": "code",
   "execution_count": 101,
   "id": "prime-relative",
   "metadata": {},
   "outputs": [],
   "source": [
    "land_to_produce = land_to_produce[land_to_produce.Element != 'Yield']"
   ]
  },
  {
   "cell_type": "code",
   "execution_count": 102,
   "id": "adaptive-tattoo",
   "metadata": {},
   "outputs": [],
   "source": [
    "land= land_to_produce[['Country','Element', 'Year', 'Value']]"
   ]
  },
  {
   "cell_type": "code",
   "execution_count": 103,
   "id": "external-language",
   "metadata": {},
   "outputs": [],
   "source": [
    "land_pivot = land.pivot(index=['Country','Year'], columns = 'Element').reset_index() "
   ]
  },
  {
   "cell_type": "code",
   "execution_count": 104,
   "id": "major-instruction",
   "metadata": {},
   "outputs": [
    {
     "data": {
      "text/html": [
       "<div>\n",
       "<style scoped>\n",
       "    .dataframe tbody tr th:only-of-type {\n",
       "        vertical-align: middle;\n",
       "    }\n",
       "\n",
       "    .dataframe tbody tr th {\n",
       "        vertical-align: top;\n",
       "    }\n",
       "\n",
       "    .dataframe thead tr th {\n",
       "        text-align: left;\n",
       "    }\n",
       "</style>\n",
       "<table border=\"1\" class=\"dataframe\">\n",
       "  <thead>\n",
       "    <tr>\n",
       "      <th></th>\n",
       "      <th>Country</th>\n",
       "      <th>Year</th>\n",
       "      <th colspan=\"2\" halign=\"left\">Value</th>\n",
       "    </tr>\n",
       "    <tr>\n",
       "      <th>Element</th>\n",
       "      <th></th>\n",
       "      <th></th>\n",
       "      <th>Area harvested</th>\n",
       "      <th>Production</th>\n",
       "    </tr>\n",
       "  </thead>\n",
       "  <tbody>\n",
       "    <tr>\n",
       "      <th>0</th>\n",
       "      <td>Argentina</td>\n",
       "      <td>2015</td>\n",
       "      <td>581.0</td>\n",
       "      <td>4030.0</td>\n",
       "    </tr>\n",
       "    <tr>\n",
       "      <th>1</th>\n",
       "      <td>Argentina</td>\n",
       "      <td>2016</td>\n",
       "      <td>583.0</td>\n",
       "      <td>4069.0</td>\n",
       "    </tr>\n",
       "    <tr>\n",
       "      <th>2</th>\n",
       "      <td>Argentina</td>\n",
       "      <td>2017</td>\n",
       "      <td>583.0</td>\n",
       "      <td>4092.0</td>\n",
       "    </tr>\n",
       "    <tr>\n",
       "      <th>3</th>\n",
       "      <td>Argentina</td>\n",
       "      <td>2018</td>\n",
       "      <td>583.0</td>\n",
       "      <td>4115.0</td>\n",
       "    </tr>\n",
       "    <tr>\n",
       "      <th>4</th>\n",
       "      <td>Australia</td>\n",
       "      <td>2015</td>\n",
       "      <td>10412.0</td>\n",
       "      <td>49397.0</td>\n",
       "    </tr>\n",
       "    <tr>\n",
       "      <th>...</th>\n",
       "      <td>...</td>\n",
       "      <td>...</td>\n",
       "      <td>...</td>\n",
       "      <td>...</td>\n",
       "    </tr>\n",
       "    <tr>\n",
       "      <th>292</th>\n",
       "      <td>Venezuela (Bolivarian Republic of)</td>\n",
       "      <td>2018</td>\n",
       "      <td>11792.0</td>\n",
       "      <td>132082.0</td>\n",
       "    </tr>\n",
       "    <tr>\n",
       "      <th>293</th>\n",
       "      <td>Zimbabwe</td>\n",
       "      <td>2015</td>\n",
       "      <td>293.0</td>\n",
       "      <td>1700.0</td>\n",
       "    </tr>\n",
       "    <tr>\n",
       "      <th>294</th>\n",
       "      <td>Zimbabwe</td>\n",
       "      <td>2016</td>\n",
       "      <td>310.0</td>\n",
       "      <td>1800.0</td>\n",
       "    </tr>\n",
       "    <tr>\n",
       "      <th>295</th>\n",
       "      <td>Zimbabwe</td>\n",
       "      <td>2017</td>\n",
       "      <td>517.0</td>\n",
       "      <td>3000.0</td>\n",
       "    </tr>\n",
       "    <tr>\n",
       "      <th>296</th>\n",
       "      <td>Zimbabwe</td>\n",
       "      <td>2018</td>\n",
       "      <td>910.0</td>\n",
       "      <td>5300.0</td>\n",
       "    </tr>\n",
       "  </tbody>\n",
       "</table>\n",
       "<p>297 rows × 4 columns</p>\n",
       "</div>"
      ],
      "text/plain": [
       "                                    Country  Year          Value           \n",
       "Element                                           Area harvested Production\n",
       "0                                 Argentina  2015          581.0     4030.0\n",
       "1                                 Argentina  2016          583.0     4069.0\n",
       "2                                 Argentina  2017          583.0     4092.0\n",
       "3                                 Argentina  2018          583.0     4115.0\n",
       "4                                 Australia  2015        10412.0    49397.0\n",
       "..                                      ...   ...            ...        ...\n",
       "292      Venezuela (Bolivarian Republic of)  2018        11792.0   132082.0\n",
       "293                                Zimbabwe  2015          293.0     1700.0\n",
       "294                                Zimbabwe  2016          310.0     1800.0\n",
       "295                                Zimbabwe  2017          517.0     3000.0\n",
       "296                                Zimbabwe  2018          910.0     5300.0\n",
       "\n",
       "[297 rows x 4 columns]"
      ]
     },
     "execution_count": 104,
     "metadata": {},
     "output_type": "execute_result"
    }
   ],
   "source": [
    "land_pivot"
   ]
  },
  {
   "cell_type": "markdown",
   "id": "comparative-penalty",
   "metadata": {},
   "source": [
    "### Rename columns and remove Unit column"
   ]
  },
  {
   "cell_type": "code",
   "execution_count": 105,
   "id": "gross-investigator",
   "metadata": {},
   "outputs": [],
   "source": [
    "land_pivot.rename(columns={\"Area harvested\": \"Area harvested (ha)\", \"Production\" : \"Production (tonnes)\"}, inplace = True)"
   ]
  },
  {
   "cell_type": "code",
   "execution_count": 106,
   "id": "headed-middle",
   "metadata": {},
   "outputs": [],
   "source": [
    "pivot_land = pd.read_csv('../datasets/pivot-table.csv')"
   ]
  },
  {
   "cell_type": "code",
   "execution_count": 107,
   "id": "tired-above",
   "metadata": {},
   "outputs": [],
   "source": [
    "land = pivot_land"
   ]
  },
  {
   "cell_type": "code",
   "execution_count": 147,
   "id": "featured-profit",
   "metadata": {},
   "outputs": [],
   "source": [
    "land = land.sort_values(by=['Year'], ascending=True)"
   ]
  },
  {
   "cell_type": "code",
   "execution_count": 148,
   "id": "nonprofit-writer",
   "metadata": {},
   "outputs": [
    {
     "data": {
      "text/html": [
       "<div>\n",
       "<style scoped>\n",
       "    .dataframe tbody tr th:only-of-type {\n",
       "        vertical-align: middle;\n",
       "    }\n",
       "\n",
       "    .dataframe tbody tr th {\n",
       "        vertical-align: top;\n",
       "    }\n",
       "\n",
       "    .dataframe thead th {\n",
       "        text-align: right;\n",
       "    }\n",
       "</style>\n",
       "<table border=\"1\" class=\"dataframe\">\n",
       "  <thead>\n",
       "    <tr style=\"text-align: right;\">\n",
       "      <th></th>\n",
       "      <th>Unnamed: 0</th>\n",
       "      <th>Country</th>\n",
       "      <th>Year</th>\n",
       "      <th>Area harvested (ha)</th>\n",
       "      <th>Production (tonnes)</th>\n",
       "    </tr>\n",
       "  </thead>\n",
       "  <tbody>\n",
       "    <tr>\n",
       "      <th>86</th>\n",
       "      <td>86</td>\n",
       "      <td>Dominica</td>\n",
       "      <td>2015</td>\n",
       "      <td>155.0</td>\n",
       "      <td>380.0</td>\n",
       "    </tr>\n",
       "    <tr>\n",
       "      <th>250</th>\n",
       "      <td>250</td>\n",
       "      <td>Seychelles</td>\n",
       "      <td>2015</td>\n",
       "      <td>1.0</td>\n",
       "      <td>13.0</td>\n",
       "    </tr>\n",
       "    <tr>\n",
       "      <th>269</th>\n",
       "      <td>269</td>\n",
       "      <td>Timor-Leste</td>\n",
       "      <td>2015</td>\n",
       "      <td>348.0</td>\n",
       "      <td>4444.0</td>\n",
       "    </tr>\n",
       "    <tr>\n",
       "      <th>0</th>\n",
       "      <td>0</td>\n",
       "      <td>Argentina</td>\n",
       "      <td>2015</td>\n",
       "      <td>581.0</td>\n",
       "      <td>4030.0</td>\n",
       "    </tr>\n",
       "    <tr>\n",
       "      <th>68</th>\n",
       "      <td>68</td>\n",
       "      <td>Cuba</td>\n",
       "      <td>2015</td>\n",
       "      <td>259.0</td>\n",
       "      <td>3357.0</td>\n",
       "    </tr>\n",
       "    <tr>\n",
       "      <th>155</th>\n",
       "      <td>155</td>\n",
       "      <td>Israel</td>\n",
       "      <td>2015</td>\n",
       "      <td>7579.0</td>\n",
       "      <td>93000.0</td>\n",
       "    </tr>\n",
       "    <tr>\n",
       "      <th>179</th>\n",
       "      <td>179</td>\n",
       "      <td>Malawi</td>\n",
       "      <td>2015</td>\n",
       "      <td>19000.0</td>\n",
       "      <td>95337.0</td>\n",
       "    </tr>\n",
       "    <tr>\n",
       "      <th>59</th>\n",
       "      <td>59</td>\n",
       "      <td>Cook Islands</td>\n",
       "      <td>2015</td>\n",
       "      <td>5.0</td>\n",
       "      <td>21.0</td>\n",
       "    </tr>\n",
       "    <tr>\n",
       "      <th>260</th>\n",
       "      <td>260</td>\n",
       "      <td>Spain</td>\n",
       "      <td>2015</td>\n",
       "      <td>11329.0</td>\n",
       "      <td>86636.0</td>\n",
       "    </tr>\n",
       "    <tr>\n",
       "      <th>141</th>\n",
       "      <td>141</td>\n",
       "      <td>Haiti</td>\n",
       "      <td>2015</td>\n",
       "      <td>19041.0</td>\n",
       "      <td>111931.0</td>\n",
       "    </tr>\n",
       "    <tr>\n",
       "      <th>47</th>\n",
       "      <td>47</td>\n",
       "      <td>China, mainland</td>\n",
       "      <td>2015</td>\n",
       "      <td>18783.0</td>\n",
       "      <td>119911.0</td>\n",
       "    </tr>\n",
       "    <tr>\n",
       "      <th>43</th>\n",
       "      <td>43</td>\n",
       "      <td>China</td>\n",
       "      <td>2015</td>\n",
       "      <td>18783.0</td>\n",
       "      <td>119911.0</td>\n",
       "    </tr>\n",
       "    <tr>\n",
       "      <th>175</th>\n",
       "      <td>175</td>\n",
       "      <td>Madagascar</td>\n",
       "      <td>2015</td>\n",
       "      <td>3245.0</td>\n",
       "      <td>26228.0</td>\n",
       "    </tr>\n",
       "    <tr>\n",
       "      <th>160</th>\n",
       "      <td>160</td>\n",
       "      <td>Jamaica</td>\n",
       "      <td>2015</td>\n",
       "      <td>394.0</td>\n",
       "      <td>2533.0</td>\n",
       "    </tr>\n",
       "    <tr>\n",
       "      <th>281</th>\n",
       "      <td>281</td>\n",
       "      <td>Turkey</td>\n",
       "      <td>2015</td>\n",
       "      <td>473.0</td>\n",
       "      <td>1850.0</td>\n",
       "    </tr>\n",
       "    <tr>\n",
       "      <th>293</th>\n",
       "      <td>293</td>\n",
       "      <td>Zimbabwe</td>\n",
       "      <td>2015</td>\n",
       "      <td>293.0</td>\n",
       "      <td>1700.0</td>\n",
       "    </tr>\n",
       "    <tr>\n",
       "      <th>184</th>\n",
       "      <td>184</td>\n",
       "      <td>Mauritius</td>\n",
       "      <td>2015</td>\n",
       "      <td>NaN</td>\n",
       "      <td>NaN</td>\n",
       "    </tr>\n",
       "    <tr>\n",
       "      <th>133</th>\n",
       "      <td>133</td>\n",
       "      <td>Guatemala</td>\n",
       "      <td>2015</td>\n",
       "      <td>11462.0</td>\n",
       "      <td>115099.0</td>\n",
       "    </tr>\n",
       "    <tr>\n",
       "      <th>256</th>\n",
       "      <td>256</td>\n",
       "      <td>South Africa</td>\n",
       "      <td>2015</td>\n",
       "      <td>16536.0</td>\n",
       "      <td>86189.0</td>\n",
       "    </tr>\n",
       "    <tr>\n",
       "      <th>35</th>\n",
       "      <td>35</td>\n",
       "      <td>Central African Republic</td>\n",
       "      <td>2015</td>\n",
       "      <td>1076.0</td>\n",
       "      <td>7856.0</td>\n",
       "    </tr>\n",
       "    <tr>\n",
       "      <th>209</th>\n",
       "      <td>209</td>\n",
       "      <td>Panama</td>\n",
       "      <td>2015</td>\n",
       "      <td>1757.0</td>\n",
       "      <td>8115.0</td>\n",
       "    </tr>\n",
       "    <tr>\n",
       "      <th>221</th>\n",
       "      <td>221</td>\n",
       "      <td>Philippines</td>\n",
       "      <td>2015</td>\n",
       "      <td>5214.0</td>\n",
       "      <td>19995.0</td>\n",
       "    </tr>\n",
       "    <tr>\n",
       "      <th>264</th>\n",
       "      <td>264</td>\n",
       "      <td>Sri Lanka</td>\n",
       "      <td>2015</td>\n",
       "      <td>1956.0</td>\n",
       "      <td>18000.0</td>\n",
       "    </tr>\n",
       "    <tr>\n",
       "      <th>201</th>\n",
       "      <td>201</td>\n",
       "      <td>New Zealand</td>\n",
       "      <td>2015</td>\n",
       "      <td>3934.0</td>\n",
       "      <td>29000.0</td>\n",
       "    </tr>\n",
       "    <tr>\n",
       "      <th>213</th>\n",
       "      <td>213</td>\n",
       "      <td>Paraguay</td>\n",
       "      <td>2015</td>\n",
       "      <td>2320.0</td>\n",
       "      <td>14032.0</td>\n",
       "    </tr>\n",
       "    <tr>\n",
       "      <th>77</th>\n",
       "      <td>77</td>\n",
       "      <td>Côte d'Ivoire</td>\n",
       "      <td>2015</td>\n",
       "      <td>5227.0</td>\n",
       "      <td>35253.0</td>\n",
       "    </tr>\n",
       "    <tr>\n",
       "      <th>169</th>\n",
       "      <td>169</td>\n",
       "      <td>Lebanon</td>\n",
       "      <td>2015</td>\n",
       "      <td>982.0</td>\n",
       "      <td>12327.0</td>\n",
       "    </tr>\n",
       "    <tr>\n",
       "      <th>63</th>\n",
       "      <td>63</td>\n",
       "      <td>Costa Rica</td>\n",
       "      <td>2015</td>\n",
       "      <td>3004.0</td>\n",
       "      <td>12158.0</td>\n",
       "    </tr>\n",
       "    <tr>\n",
       "      <th>18</th>\n",
       "      <td>18</td>\n",
       "      <td>Bolivia (Plurinational State of)</td>\n",
       "      <td>2015</td>\n",
       "      <td>2285.0</td>\n",
       "      <td>12032.0</td>\n",
       "    </tr>\n",
       "    <tr>\n",
       "      <th>196</th>\n",
       "      <td>196</td>\n",
       "      <td>Morocco</td>\n",
       "      <td>2015</td>\n",
       "      <td>3423.0</td>\n",
       "      <td>42732.0</td>\n",
       "    </tr>\n",
       "  </tbody>\n",
       "</table>\n",
       "</div>"
      ],
      "text/plain": [
       "     Unnamed: 0                           Country  Year  Area harvested (ha)  \\\n",
       "86           86                          Dominica  2015                155.0   \n",
       "250         250                        Seychelles  2015                  1.0   \n",
       "269         269                       Timor-Leste  2015                348.0   \n",
       "0             0                         Argentina  2015                581.0   \n",
       "68           68                              Cuba  2015                259.0   \n",
       "155         155                            Israel  2015               7579.0   \n",
       "179         179                            Malawi  2015              19000.0   \n",
       "59           59                      Cook Islands  2015                  5.0   \n",
       "260         260                             Spain  2015              11329.0   \n",
       "141         141                             Haiti  2015              19041.0   \n",
       "47           47                   China, mainland  2015              18783.0   \n",
       "43           43                             China  2015              18783.0   \n",
       "175         175                        Madagascar  2015               3245.0   \n",
       "160         160                           Jamaica  2015                394.0   \n",
       "281         281                            Turkey  2015                473.0   \n",
       "293         293                          Zimbabwe  2015                293.0   \n",
       "184         184                         Mauritius  2015                  NaN   \n",
       "133         133                         Guatemala  2015              11462.0   \n",
       "256         256                      South Africa  2015              16536.0   \n",
       "35           35          Central African Republic  2015               1076.0   \n",
       "209         209                            Panama  2015               1757.0   \n",
       "221         221                       Philippines  2015               5214.0   \n",
       "264         264                         Sri Lanka  2015               1956.0   \n",
       "201         201                       New Zealand  2015               3934.0   \n",
       "213         213                          Paraguay  2015               2320.0   \n",
       "77           77                     Côte d'Ivoire  2015               5227.0   \n",
       "169         169                           Lebanon  2015                982.0   \n",
       "63           63                        Costa Rica  2015               3004.0   \n",
       "18           18  Bolivia (Plurinational State of)  2015               2285.0   \n",
       "196         196                           Morocco  2015               3423.0   \n",
       "\n",
       "     Production (tonnes)  \n",
       "86                 380.0  \n",
       "250                 13.0  \n",
       "269               4444.0  \n",
       "0                 4030.0  \n",
       "68                3357.0  \n",
       "155              93000.0  \n",
       "179              95337.0  \n",
       "59                  21.0  \n",
       "260              86636.0  \n",
       "141             111931.0  \n",
       "47              119911.0  \n",
       "43              119911.0  \n",
       "175              26228.0  \n",
       "160               2533.0  \n",
       "281               1850.0  \n",
       "293               1700.0  \n",
       "184                  NaN  \n",
       "133             115099.0  \n",
       "256              86189.0  \n",
       "35                7856.0  \n",
       "209               8115.0  \n",
       "221              19995.0  \n",
       "264              18000.0  \n",
       "201              29000.0  \n",
       "213              14032.0  \n",
       "77               35253.0  \n",
       "169              12327.0  \n",
       "63               12158.0  \n",
       "18               12032.0  \n",
       "196              42732.0  "
      ]
     },
     "execution_count": 148,
     "metadata": {},
     "output_type": "execute_result"
    }
   ],
   "source": [
    "land.head(30)"
   ]
  },
  {
   "cell_type": "markdown",
   "id": "early-disco",
   "metadata": {},
   "source": [
    "### Rename some countries for name standardization before merging \"currencies\" and \"avocado price\" dataframes"
   ]
  },
  {
   "cell_type": "code",
   "execution_count": 110,
   "id": "finished-survival",
   "metadata": {},
   "outputs": [],
   "source": [
    "#name standardization using for loop:\n",
    "for index,data in currencies.iterrows():\n",
    "    country = data['Country or territory']\n",
    "    country = country.split('(')[0]\n",
    "    data['Country or territory'] = country"
   ]
  },
  {
   "cell_type": "code",
   "execution_count": 111,
   "id": "knowing-monster",
   "metadata": {},
   "outputs": [],
   "source": [
    "#name standardization using for loop:\n",
    "for index,data in land_to_produce.iterrows():\n",
    "    country = data['Country']\n",
    "    country = country.split('(')[0]\n",
    "    data['Country'] = country"
   ]
  },
  {
   "cell_type": "markdown",
   "id": "alleged-contents",
   "metadata": {},
   "source": [
    "### Merge currencies with avocado price with Outer Join to later on create a conversion to EUR"
   ]
  },
  {
   "cell_type": "code",
   "execution_count": 112,
   "id": "greenhouse-instrumentation",
   "metadata": {},
   "outputs": [
    {
     "data": {
      "text/html": [
       "<div>\n",
       "<style scoped>\n",
       "    .dataframe tbody tr th:only-of-type {\n",
       "        vertical-align: middle;\n",
       "    }\n",
       "\n",
       "    .dataframe tbody tr th {\n",
       "        vertical-align: top;\n",
       "    }\n",
       "\n",
       "    .dataframe thead th {\n",
       "        text-align: right;\n",
       "    }\n",
       "</style>\n",
       "<table border=\"1\" class=\"dataframe\">\n",
       "  <thead>\n",
       "    <tr style=\"text-align: right;\">\n",
       "      <th></th>\n",
       "      <th>Country</th>\n",
       "      <th>Element</th>\n",
       "      <th>Year</th>\n",
       "      <th>Months</th>\n",
       "      <th>Unit</th>\n",
       "      <th>Value</th>\n",
       "      <th>Country or territory</th>\n",
       "      <th>Currency</th>\n",
       "      <th>Currency code</th>\n",
       "    </tr>\n",
       "  </thead>\n",
       "  <tbody>\n",
       "    <tr>\n",
       "      <th>0</th>\n",
       "      <td>Australia</td>\n",
       "      <td>Producer Price (LCU/tonne)</td>\n",
       "      <td>2015.0</td>\n",
       "      <td>Annual value</td>\n",
       "      <td>LCU</td>\n",
       "      <td>4476.0</td>\n",
       "      <td>Australia</td>\n",
       "      <td>Australian dollar</td>\n",
       "      <td>AUD</td>\n",
       "    </tr>\n",
       "    <tr>\n",
       "      <th>1</th>\n",
       "      <td>Australia</td>\n",
       "      <td>Producer Price (LCU/tonne)</td>\n",
       "      <td>2016.0</td>\n",
       "      <td>Annual value</td>\n",
       "      <td>LCU</td>\n",
       "      <td>4886.0</td>\n",
       "      <td>Australia</td>\n",
       "      <td>Australian dollar</td>\n",
       "      <td>AUD</td>\n",
       "    </tr>\n",
       "    <tr>\n",
       "      <th>2</th>\n",
       "      <td>Australia</td>\n",
       "      <td>Producer Price (LCU/tonne)</td>\n",
       "      <td>2017.0</td>\n",
       "      <td>Annual value</td>\n",
       "      <td>LCU</td>\n",
       "      <td>5296.0</td>\n",
       "      <td>Australia</td>\n",
       "      <td>Australian dollar</td>\n",
       "      <td>AUD</td>\n",
       "    </tr>\n",
       "    <tr>\n",
       "      <th>3</th>\n",
       "      <td>Australia</td>\n",
       "      <td>Producer Price (LCU/tonne)</td>\n",
       "      <td>2018.0</td>\n",
       "      <td>Annual value</td>\n",
       "      <td>LCU</td>\n",
       "      <td>6374.0</td>\n",
       "      <td>Australia</td>\n",
       "      <td>Australian dollar</td>\n",
       "      <td>AUD</td>\n",
       "    </tr>\n",
       "    <tr>\n",
       "      <th>4</th>\n",
       "      <td>Australia</td>\n",
       "      <td>Producer Price (SLC/tonne)</td>\n",
       "      <td>2015.0</td>\n",
       "      <td>Annual value</td>\n",
       "      <td>SLC</td>\n",
       "      <td>4476.0</td>\n",
       "      <td>Australia</td>\n",
       "      <td>Australian dollar</td>\n",
       "      <td>AUD</td>\n",
       "    </tr>\n",
       "    <tr>\n",
       "      <th>...</th>\n",
       "      <td>...</td>\n",
       "      <td>...</td>\n",
       "      <td>...</td>\n",
       "      <td>...</td>\n",
       "      <td>...</td>\n",
       "      <td>...</td>\n",
       "      <td>...</td>\n",
       "      <td>...</td>\n",
       "      <td>...</td>\n",
       "    </tr>\n",
       "    <tr>\n",
       "      <th>589</th>\n",
       "      <td>NaN</td>\n",
       "      <td>NaN</td>\n",
       "      <td>NaN</td>\n",
       "      <td>NaN</td>\n",
       "      <td>NaN</td>\n",
       "      <td>NaN</td>\n",
       "      <td>Vietnam</td>\n",
       "      <td>Vietnamese dong</td>\n",
       "      <td>VND</td>\n",
       "    </tr>\n",
       "    <tr>\n",
       "      <th>590</th>\n",
       "      <td>NaN</td>\n",
       "      <td>NaN</td>\n",
       "      <td>NaN</td>\n",
       "      <td>NaN</td>\n",
       "      <td>NaN</td>\n",
       "      <td>NaN</td>\n",
       "      <td>Wake Island</td>\n",
       "      <td>United States dollar</td>\n",
       "      <td>USD</td>\n",
       "    </tr>\n",
       "    <tr>\n",
       "      <th>591</th>\n",
       "      <td>NaN</td>\n",
       "      <td>NaN</td>\n",
       "      <td>NaN</td>\n",
       "      <td>NaN</td>\n",
       "      <td>NaN</td>\n",
       "      <td>NaN</td>\n",
       "      <td>Wallis and Futuna</td>\n",
       "      <td>CFP franc</td>\n",
       "      <td>XPF</td>\n",
       "    </tr>\n",
       "    <tr>\n",
       "      <th>592</th>\n",
       "      <td>NaN</td>\n",
       "      <td>NaN</td>\n",
       "      <td>NaN</td>\n",
       "      <td>NaN</td>\n",
       "      <td>NaN</td>\n",
       "      <td>NaN</td>\n",
       "      <td>Yemen</td>\n",
       "      <td>Yemeni rial</td>\n",
       "      <td>YER</td>\n",
       "    </tr>\n",
       "    <tr>\n",
       "      <th>593</th>\n",
       "      <td>NaN</td>\n",
       "      <td>NaN</td>\n",
       "      <td>NaN</td>\n",
       "      <td>NaN</td>\n",
       "      <td>NaN</td>\n",
       "      <td>NaN</td>\n",
       "      <td>Zambia</td>\n",
       "      <td>Zambian kwacha</td>\n",
       "      <td>ZMW</td>\n",
       "    </tr>\n",
       "  </tbody>\n",
       "</table>\n",
       "<p>594 rows × 9 columns</p>\n",
       "</div>"
      ],
      "text/plain": [
       "       Country                     Element    Year        Months Unit   Value  \\\n",
       "0    Australia  Producer Price (LCU/tonne)  2015.0  Annual value  LCU  4476.0   \n",
       "1    Australia  Producer Price (LCU/tonne)  2016.0  Annual value  LCU  4886.0   \n",
       "2    Australia  Producer Price (LCU/tonne)  2017.0  Annual value  LCU  5296.0   \n",
       "3    Australia  Producer Price (LCU/tonne)  2018.0  Annual value  LCU  6374.0   \n",
       "4    Australia  Producer Price (SLC/tonne)  2015.0  Annual value  SLC  4476.0   \n",
       "..         ...                         ...     ...           ...  ...     ...   \n",
       "589        NaN                         NaN     NaN           NaN  NaN     NaN   \n",
       "590        NaN                         NaN     NaN           NaN  NaN     NaN   \n",
       "591        NaN                         NaN     NaN           NaN  NaN     NaN   \n",
       "592        NaN                         NaN     NaN           NaN  NaN     NaN   \n",
       "593        NaN                         NaN     NaN           NaN  NaN     NaN   \n",
       "\n",
       "    Country or territory              Currency Currency code  \n",
       "0              Australia     Australian dollar           AUD  \n",
       "1              Australia     Australian dollar           AUD  \n",
       "2              Australia     Australian dollar           AUD  \n",
       "3              Australia     Australian dollar           AUD  \n",
       "4              Australia     Australian dollar           AUD  \n",
       "..                   ...                   ...           ...  \n",
       "589              Vietnam       Vietnamese dong           VND  \n",
       "590          Wake Island  United States dollar           USD  \n",
       "591    Wallis and Futuna             CFP franc           XPF  \n",
       "592                Yemen           Yemeni rial           YER  \n",
       "593               Zambia        Zambian kwacha           ZMW  \n",
       "\n",
       "[594 rows x 9 columns]"
      ]
     },
     "execution_count": 112,
     "metadata": {},
     "output_type": "execute_result"
    }
   ],
   "source": [
    "pd.merge(left=avocado_price, right=currencies, left_on=\"Country\", right_on=\"Country or territory\", how=\"outer\")"
   ]
  },
  {
   "cell_type": "code",
   "execution_count": 113,
   "id": "tutorial-projector",
   "metadata": {},
   "outputs": [],
   "source": [
    "avocado_price_currency = pd.merge(left=avocado_price, right=currencies, left_on=\"Country\", right_on=\"Country or territory\", how=\"outer\")"
   ]
  },
  {
   "cell_type": "code",
   "execution_count": 114,
   "id": "opposite-condition",
   "metadata": {},
   "outputs": [],
   "source": [
    "#dropping NaN values after outer merge\n",
    "avocado_price_currency= avocado_price_currency.dropna()"
   ]
  },
  {
   "cell_type": "code",
   "execution_count": 115,
   "id": "republican-walnut",
   "metadata": {},
   "outputs": [],
   "source": [
    "avocado_price_currency2 = avocado_price_currency.to_csv('avocado_price_currency2.csv', sep=';')"
   ]
  },
  {
   "cell_type": "code",
   "execution_count": 116,
   "id": "assured-cover",
   "metadata": {},
   "outputs": [],
   "source": [
    "avocado_price_usd = pd.read_csv('../datasets/avocado_price_currency2.csv')"
   ]
  },
  {
   "cell_type": "code",
   "execution_count": 117,
   "id": "immediate-assessment",
   "metadata": {},
   "outputs": [],
   "source": [
    "avocado_price_usd.drop(['Months'], inplace = True , axis = 1)\n",
    "avocado_price_usd.rename(columns={\"Value\": \"Price (USD/Tonne)\"}, inplace = True)"
   ]
  },
  {
   "cell_type": "code",
   "execution_count": 118,
   "id": "oriental-seven",
   "metadata": {},
   "outputs": [
    {
     "data": {
      "text/html": [
       "<div>\n",
       "<style scoped>\n",
       "    .dataframe tbody tr th:only-of-type {\n",
       "        vertical-align: middle;\n",
       "    }\n",
       "\n",
       "    .dataframe tbody tr th {\n",
       "        vertical-align: top;\n",
       "    }\n",
       "\n",
       "    .dataframe thead th {\n",
       "        text-align: right;\n",
       "    }\n",
       "</style>\n",
       "<table border=\"1\" class=\"dataframe\">\n",
       "  <thead>\n",
       "    <tr style=\"text-align: right;\">\n",
       "      <th></th>\n",
       "      <th>Country</th>\n",
       "      <th>Year</th>\n",
       "      <th>Price (USD/Tonne)</th>\n",
       "    </tr>\n",
       "  </thead>\n",
       "  <tbody>\n",
       "    <tr>\n",
       "      <th>0</th>\n",
       "      <td>Australia</td>\n",
       "      <td>2015.0</td>\n",
       "      <td>3362.6</td>\n",
       "    </tr>\n",
       "    <tr>\n",
       "      <th>1</th>\n",
       "      <td>Australia</td>\n",
       "      <td>2016.0</td>\n",
       "      <td>3632.2</td>\n",
       "    </tr>\n",
       "    <tr>\n",
       "      <th>2</th>\n",
       "      <td>Australia</td>\n",
       "      <td>2017.0</td>\n",
       "      <td>4058.9</td>\n",
       "    </tr>\n",
       "    <tr>\n",
       "      <th>3</th>\n",
       "      <td>Australia</td>\n",
       "      <td>2018.0</td>\n",
       "      <td>4762.4</td>\n",
       "    </tr>\n",
       "    <tr>\n",
       "      <th>4</th>\n",
       "      <td>Chile</td>\n",
       "      <td>2015.0</td>\n",
       "      <td>2446.8</td>\n",
       "    </tr>\n",
       "    <tr>\n",
       "      <th>...</th>\n",
       "      <td>...</td>\n",
       "      <td>...</td>\n",
       "      <td>...</td>\n",
       "    </tr>\n",
       "    <tr>\n",
       "      <th>115</th>\n",
       "      <td>United States of America</td>\n",
       "      <td>2017.0</td>\n",
       "      <td>2315.0</td>\n",
       "    </tr>\n",
       "    <tr>\n",
       "      <th>116</th>\n",
       "      <td>United States of America</td>\n",
       "      <td>2018.0</td>\n",
       "      <td>2403.0</td>\n",
       "    </tr>\n",
       "    <tr>\n",
       "      <th>117</th>\n",
       "      <td>Zimbabwe</td>\n",
       "      <td>2015.0</td>\n",
       "      <td>1009.0</td>\n",
       "    </tr>\n",
       "    <tr>\n",
       "      <th>118</th>\n",
       "      <td>Zimbabwe</td>\n",
       "      <td>2016.0</td>\n",
       "      <td>1007.0</td>\n",
       "    </tr>\n",
       "    <tr>\n",
       "      <th>119</th>\n",
       "      <td>Zimbabwe</td>\n",
       "      <td>2017.0</td>\n",
       "      <td>1158.0</td>\n",
       "    </tr>\n",
       "  </tbody>\n",
       "</table>\n",
       "<p>120 rows × 3 columns</p>\n",
       "</div>"
      ],
      "text/plain": [
       "                      Country    Year  Price (USD/Tonne)\n",
       "0                   Australia  2015.0             3362.6\n",
       "1                   Australia  2016.0             3632.2\n",
       "2                   Australia  2017.0             4058.9\n",
       "3                   Australia  2018.0             4762.4\n",
       "4                       Chile  2015.0             2446.8\n",
       "..                        ...     ...                ...\n",
       "115  United States of America  2017.0             2315.0\n",
       "116  United States of America  2018.0             2403.0\n",
       "117                  Zimbabwe  2015.0             1009.0\n",
       "118                  Zimbabwe  2016.0             1007.0\n",
       "119                  Zimbabwe  2017.0             1158.0\n",
       "\n",
       "[120 rows x 3 columns]"
      ]
     },
     "execution_count": 118,
     "metadata": {},
     "output_type": "execute_result"
    }
   ],
   "source": [
    "avocado_price_usd"
   ]
  },
  {
   "cell_type": "markdown",
   "id": "national-samuel",
   "metadata": {},
   "source": [
    "### Change \"SCL\" and \"LCU\" values for Currency Code on Avocado Price"
   ]
  },
  {
   "cell_type": "code",
   "execution_count": 119,
   "id": "indian-yesterday",
   "metadata": {},
   "outputs": [
    {
     "name": "stdout",
     "output_type": "stream",
     "text": [
      "       Country                     Element    Year        Months Unit   Value  \\\n",
      "0    Australia  Producer Price (LCU/tonne)  2015.0  Annual value  LCU  4476.0   \n",
      "1    Australia  Producer Price (LCU/tonne)  2016.0  Annual value  LCU  4886.0   \n",
      "2    Australia  Producer Price (LCU/tonne)  2017.0  Annual value  LCU  5296.0   \n",
      "3    Australia  Producer Price (LCU/tonne)  2018.0  Annual value  LCU  6374.0   \n",
      "4    Australia  Producer Price (SLC/tonne)  2015.0  Annual value  SLC  4476.0   \n",
      "..         ...                         ...     ...           ...  ...     ...   \n",
      "370   Zimbabwe  Producer Price (SLC/tonne)  2016.0  Annual value  SLC  1007.0   \n",
      "371   Zimbabwe  Producer Price (SLC/tonne)  2017.0  Annual value  SLC  1158.0   \n",
      "372   Zimbabwe  Producer Price (USD/tonne)  2015.0  Annual value  USD  1009.0   \n",
      "373   Zimbabwe  Producer Price (USD/tonne)  2016.0  Annual value  USD  1007.0   \n",
      "374   Zimbabwe  Producer Price (USD/tonne)  2017.0  Annual value  USD  1158.0   \n",
      "\n",
      "    Country or territory              Currency Currency code  \n",
      "0              Australia     Australian dollar           AUD  \n",
      "1              Australia     Australian dollar           AUD  \n",
      "2              Australia     Australian dollar           AUD  \n",
      "3              Australia     Australian dollar           AUD  \n",
      "4              Australia     Australian dollar           AUD  \n",
      "..                   ...                   ...           ...  \n",
      "370             Zimbabwe  United States dollar           USD  \n",
      "371             Zimbabwe  United States dollar           USD  \n",
      "372             Zimbabwe  United States dollar           USD  \n",
      "373             Zimbabwe  United States dollar           USD  \n",
      "374             Zimbabwe  United States dollar           USD  \n",
      "\n",
      "[360 rows x 9 columns]\n"
     ]
    }
   ],
   "source": [
    "temp = avocado_price_currency.copy()\n",
    "print (temp)"
   ]
  },
  {
   "cell_type": "code",
   "execution_count": 120,
   "id": "collectible-karen",
   "metadata": {},
   "outputs": [],
   "source": [
    "temp.loc[temp['Unit']=='LCU', 'Unit'] = temp['Currency code']\n",
    "avocado_price_currency = temp"
   ]
  },
  {
   "cell_type": "code",
   "execution_count": 121,
   "id": "leading-worthy",
   "metadata": {
    "scrolled": true
   },
   "outputs": [],
   "source": [
    "avocado_price_currency_USD = avocado_price_currency[avocado_price_currency[\"Unit\"] == \"USD\"].reset_index().drop(\"index\",axis=1)"
   ]
  },
  {
   "cell_type": "code",
   "execution_count": 122,
   "id": "dramatic-phone",
   "metadata": {},
   "outputs": [
    {
     "data": {
      "text/html": [
       "<div>\n",
       "<style scoped>\n",
       "    .dataframe tbody tr th:only-of-type {\n",
       "        vertical-align: middle;\n",
       "    }\n",
       "\n",
       "    .dataframe tbody tr th {\n",
       "        vertical-align: top;\n",
       "    }\n",
       "\n",
       "    .dataframe thead th {\n",
       "        text-align: right;\n",
       "    }\n",
       "</style>\n",
       "<table border=\"1\" class=\"dataframe\">\n",
       "  <thead>\n",
       "    <tr style=\"text-align: right;\">\n",
       "      <th></th>\n",
       "      <th>Country</th>\n",
       "      <th>Element</th>\n",
       "      <th>Year</th>\n",
       "      <th>Months</th>\n",
       "      <th>Unit</th>\n",
       "      <th>Value</th>\n",
       "      <th>Country or territory</th>\n",
       "      <th>Currency</th>\n",
       "      <th>Currency code</th>\n",
       "    </tr>\n",
       "  </thead>\n",
       "  <tbody>\n",
       "    <tr>\n",
       "      <th>0</th>\n",
       "      <td>Australia</td>\n",
       "      <td>Producer Price (USD/tonne)</td>\n",
       "      <td>2015.0</td>\n",
       "      <td>Annual value</td>\n",
       "      <td>USD</td>\n",
       "      <td>3362.6</td>\n",
       "      <td>Australia</td>\n",
       "      <td>Australian dollar</td>\n",
       "      <td>AUD</td>\n",
       "    </tr>\n",
       "    <tr>\n",
       "      <th>1</th>\n",
       "      <td>Australia</td>\n",
       "      <td>Producer Price (USD/tonne)</td>\n",
       "      <td>2016.0</td>\n",
       "      <td>Annual value</td>\n",
       "      <td>USD</td>\n",
       "      <td>3632.2</td>\n",
       "      <td>Australia</td>\n",
       "      <td>Australian dollar</td>\n",
       "      <td>AUD</td>\n",
       "    </tr>\n",
       "    <tr>\n",
       "      <th>2</th>\n",
       "      <td>Australia</td>\n",
       "      <td>Producer Price (USD/tonne)</td>\n",
       "      <td>2017.0</td>\n",
       "      <td>Annual value</td>\n",
       "      <td>USD</td>\n",
       "      <td>4058.9</td>\n",
       "      <td>Australia</td>\n",
       "      <td>Australian dollar</td>\n",
       "      <td>AUD</td>\n",
       "    </tr>\n",
       "    <tr>\n",
       "      <th>3</th>\n",
       "      <td>Australia</td>\n",
       "      <td>Producer Price (USD/tonne)</td>\n",
       "      <td>2018.0</td>\n",
       "      <td>Annual value</td>\n",
       "      <td>USD</td>\n",
       "      <td>4762.4</td>\n",
       "      <td>Australia</td>\n",
       "      <td>Australian dollar</td>\n",
       "      <td>AUD</td>\n",
       "    </tr>\n",
       "    <tr>\n",
       "      <th>4</th>\n",
       "      <td>Chile</td>\n",
       "      <td>Producer Price (USD/tonne)</td>\n",
       "      <td>2015.0</td>\n",
       "      <td>Annual value</td>\n",
       "      <td>USD</td>\n",
       "      <td>2446.8</td>\n",
       "      <td>Chile</td>\n",
       "      <td>Chilean peso</td>\n",
       "      <td>CLP</td>\n",
       "    </tr>\n",
       "    <tr>\n",
       "      <th>...</th>\n",
       "      <td>...</td>\n",
       "      <td>...</td>\n",
       "      <td>...</td>\n",
       "      <td>...</td>\n",
       "      <td>...</td>\n",
       "      <td>...</td>\n",
       "      <td>...</td>\n",
       "      <td>...</td>\n",
       "      <td>...</td>\n",
       "    </tr>\n",
       "    <tr>\n",
       "      <th>131</th>\n",
       "      <td>Zimbabwe</td>\n",
       "      <td>Producer Price (LCU/tonne)</td>\n",
       "      <td>2016.0</td>\n",
       "      <td>Annual value</td>\n",
       "      <td>USD</td>\n",
       "      <td>1007.0</td>\n",
       "      <td>Zimbabwe</td>\n",
       "      <td>United States dollar</td>\n",
       "      <td>USD</td>\n",
       "    </tr>\n",
       "    <tr>\n",
       "      <th>132</th>\n",
       "      <td>Zimbabwe</td>\n",
       "      <td>Producer Price (LCU/tonne)</td>\n",
       "      <td>2017.0</td>\n",
       "      <td>Annual value</td>\n",
       "      <td>USD</td>\n",
       "      <td>1158.0</td>\n",
       "      <td>Zimbabwe</td>\n",
       "      <td>United States dollar</td>\n",
       "      <td>USD</td>\n",
       "    </tr>\n",
       "    <tr>\n",
       "      <th>133</th>\n",
       "      <td>Zimbabwe</td>\n",
       "      <td>Producer Price (USD/tonne)</td>\n",
       "      <td>2015.0</td>\n",
       "      <td>Annual value</td>\n",
       "      <td>USD</td>\n",
       "      <td>1009.0</td>\n",
       "      <td>Zimbabwe</td>\n",
       "      <td>United States dollar</td>\n",
       "      <td>USD</td>\n",
       "    </tr>\n",
       "    <tr>\n",
       "      <th>134</th>\n",
       "      <td>Zimbabwe</td>\n",
       "      <td>Producer Price (USD/tonne)</td>\n",
       "      <td>2016.0</td>\n",
       "      <td>Annual value</td>\n",
       "      <td>USD</td>\n",
       "      <td>1007.0</td>\n",
       "      <td>Zimbabwe</td>\n",
       "      <td>United States dollar</td>\n",
       "      <td>USD</td>\n",
       "    </tr>\n",
       "    <tr>\n",
       "      <th>135</th>\n",
       "      <td>Zimbabwe</td>\n",
       "      <td>Producer Price (USD/tonne)</td>\n",
       "      <td>2017.0</td>\n",
       "      <td>Annual value</td>\n",
       "      <td>USD</td>\n",
       "      <td>1158.0</td>\n",
       "      <td>Zimbabwe</td>\n",
       "      <td>United States dollar</td>\n",
       "      <td>USD</td>\n",
       "    </tr>\n",
       "  </tbody>\n",
       "</table>\n",
       "<p>136 rows × 9 columns</p>\n",
       "</div>"
      ],
      "text/plain": [
       "       Country                     Element    Year        Months Unit   Value  \\\n",
       "0    Australia  Producer Price (USD/tonne)  2015.0  Annual value  USD  3362.6   \n",
       "1    Australia  Producer Price (USD/tonne)  2016.0  Annual value  USD  3632.2   \n",
       "2    Australia  Producer Price (USD/tonne)  2017.0  Annual value  USD  4058.9   \n",
       "3    Australia  Producer Price (USD/tonne)  2018.0  Annual value  USD  4762.4   \n",
       "4        Chile  Producer Price (USD/tonne)  2015.0  Annual value  USD  2446.8   \n",
       "..         ...                         ...     ...           ...  ...     ...   \n",
       "131   Zimbabwe  Producer Price (LCU/tonne)  2016.0  Annual value  USD  1007.0   \n",
       "132   Zimbabwe  Producer Price (LCU/tonne)  2017.0  Annual value  USD  1158.0   \n",
       "133   Zimbabwe  Producer Price (USD/tonne)  2015.0  Annual value  USD  1009.0   \n",
       "134   Zimbabwe  Producer Price (USD/tonne)  2016.0  Annual value  USD  1007.0   \n",
       "135   Zimbabwe  Producer Price (USD/tonne)  2017.0  Annual value  USD  1158.0   \n",
       "\n",
       "    Country or territory              Currency Currency code  \n",
       "0              Australia     Australian dollar           AUD  \n",
       "1              Australia     Australian dollar           AUD  \n",
       "2              Australia     Australian dollar           AUD  \n",
       "3              Australia     Australian dollar           AUD  \n",
       "4                  Chile          Chilean peso           CLP  \n",
       "..                   ...                   ...           ...  \n",
       "131             Zimbabwe  United States dollar           USD  \n",
       "132             Zimbabwe  United States dollar           USD  \n",
       "133             Zimbabwe  United States dollar           USD  \n",
       "134             Zimbabwe  United States dollar           USD  \n",
       "135             Zimbabwe  United States dollar           USD  \n",
       "\n",
       "[136 rows x 9 columns]"
      ]
     },
     "execution_count": 122,
     "metadata": {},
     "output_type": "execute_result"
    }
   ],
   "source": [
    "avocado_price_currency_USD"
   ]
  },
  {
   "cell_type": "code",
   "execution_count": 123,
   "id": "secondary-equilibrium",
   "metadata": {},
   "outputs": [
    {
     "data": {
      "text/plain": [
       "Country                  33\n",
       "Element                   2\n",
       "Year                      4\n",
       "Months                    1\n",
       "Unit                      1\n",
       "Value                   121\n",
       "Country or territory     33\n",
       "Currency                 23\n",
       "Currency code            23\n",
       "dtype: int64"
      ]
     },
     "execution_count": 123,
     "metadata": {},
     "output_type": "execute_result"
    }
   ],
   "source": [
    "avocado_price_currency_USD.nunique()"
   ]
  },
  {
   "cell_type": "code",
   "execution_count": 124,
   "id": "tight-locator",
   "metadata": {},
   "outputs": [],
   "source": [
    "#tasks pending:\n",
    "#3. Create checklist of what do I want to extract from all this info in order to start analysis and visualization\n",
    "# 3.1 DONE ----> land_to_produce: find if there's a correlation between \"land harvested\" and \"production\"\n",
    "# 3.2 DONE ----> land_to_produce: find evolution of \"land harvested\" between years 2015-2018\n",
    "# 3.3 DONE ----> land_to_produce: find evolution of \"production\" between years 2015-2018\n",
    "# 3.4 avocado_price_currency find evolution in price for all countries between years 2015-2018\n",
    "#4. Create merged df with price and land\n",
    "#4.1 correlation between \"land harvested\", \"production\", "
   ]
  },
  {
   "cell_type": "code",
   "execution_count": 125,
   "id": "chemical-christmas",
   "metadata": {},
   "outputs": [],
   "source": [
    "###Create merged df with price and land"
   ]
  },
  {
   "cell_type": "markdown",
   "id": "binary-mount",
   "metadata": {},
   "source": [
    "## 2. Data Visualization"
   ]
  },
  {
   "cell_type": "code",
   "execution_count": 126,
   "id": "covered-miracle",
   "metadata": {
    "scrolled": true
   },
   "outputs": [],
   "source": [
    "import matplotlib.pyplot as plt\n",
    "import seaborn as sns\n",
    "import warnings\n",
    "warnings.filterwarnings(\"ignore\")"
   ]
  },
  {
   "cell_type": "markdown",
   "id": "meaningful-voluntary",
   "metadata": {},
   "source": [
    "### Heatmap Correlation Area Harvested and Production"
   ]
  },
  {
   "cell_type": "code",
   "execution_count": 127,
   "id": "radio-franklin",
   "metadata": {},
   "outputs": [
    {
     "data": {
      "text/html": [
       "<div>\n",
       "<style scoped>\n",
       "    .dataframe tbody tr th:only-of-type {\n",
       "        vertical-align: middle;\n",
       "    }\n",
       "\n",
       "    .dataframe tbody tr th {\n",
       "        vertical-align: top;\n",
       "    }\n",
       "\n",
       "    .dataframe thead tr th {\n",
       "        text-align: left;\n",
       "    }\n",
       "</style>\n",
       "<table border=\"1\" class=\"dataframe\">\n",
       "  <thead>\n",
       "    <tr>\n",
       "      <th></th>\n",
       "      <th>Country</th>\n",
       "      <th>Year</th>\n",
       "      <th colspan=\"2\" halign=\"left\">Value</th>\n",
       "    </tr>\n",
       "    <tr>\n",
       "      <th>Element</th>\n",
       "      <th></th>\n",
       "      <th></th>\n",
       "      <th>Area harvested (ha)</th>\n",
       "      <th>Production (tonnes)</th>\n",
       "    </tr>\n",
       "  </thead>\n",
       "  <tbody>\n",
       "    <tr>\n",
       "      <th>0</th>\n",
       "      <td>Argentina</td>\n",
       "      <td>2015</td>\n",
       "      <td>581.0</td>\n",
       "      <td>4030.0</td>\n",
       "    </tr>\n",
       "    <tr>\n",
       "      <th>1</th>\n",
       "      <td>Argentina</td>\n",
       "      <td>2016</td>\n",
       "      <td>583.0</td>\n",
       "      <td>4069.0</td>\n",
       "    </tr>\n",
       "    <tr>\n",
       "      <th>2</th>\n",
       "      <td>Argentina</td>\n",
       "      <td>2017</td>\n",
       "      <td>583.0</td>\n",
       "      <td>4092.0</td>\n",
       "    </tr>\n",
       "    <tr>\n",
       "      <th>3</th>\n",
       "      <td>Argentina</td>\n",
       "      <td>2018</td>\n",
       "      <td>583.0</td>\n",
       "      <td>4115.0</td>\n",
       "    </tr>\n",
       "    <tr>\n",
       "      <th>4</th>\n",
       "      <td>Australia</td>\n",
       "      <td>2015</td>\n",
       "      <td>10412.0</td>\n",
       "      <td>49397.0</td>\n",
       "    </tr>\n",
       "    <tr>\n",
       "      <th>...</th>\n",
       "      <td>...</td>\n",
       "      <td>...</td>\n",
       "      <td>...</td>\n",
       "      <td>...</td>\n",
       "    </tr>\n",
       "    <tr>\n",
       "      <th>292</th>\n",
       "      <td>Venezuela (Bolivarian Republic of)</td>\n",
       "      <td>2018</td>\n",
       "      <td>11792.0</td>\n",
       "      <td>132082.0</td>\n",
       "    </tr>\n",
       "    <tr>\n",
       "      <th>293</th>\n",
       "      <td>Zimbabwe</td>\n",
       "      <td>2015</td>\n",
       "      <td>293.0</td>\n",
       "      <td>1700.0</td>\n",
       "    </tr>\n",
       "    <tr>\n",
       "      <th>294</th>\n",
       "      <td>Zimbabwe</td>\n",
       "      <td>2016</td>\n",
       "      <td>310.0</td>\n",
       "      <td>1800.0</td>\n",
       "    </tr>\n",
       "    <tr>\n",
       "      <th>295</th>\n",
       "      <td>Zimbabwe</td>\n",
       "      <td>2017</td>\n",
       "      <td>517.0</td>\n",
       "      <td>3000.0</td>\n",
       "    </tr>\n",
       "    <tr>\n",
       "      <th>296</th>\n",
       "      <td>Zimbabwe</td>\n",
       "      <td>2018</td>\n",
       "      <td>910.0</td>\n",
       "      <td>5300.0</td>\n",
       "    </tr>\n",
       "  </tbody>\n",
       "</table>\n",
       "<p>297 rows × 4 columns</p>\n",
       "</div>"
      ],
      "text/plain": [
       "                                    Country  Year               Value  \\\n",
       "Element                                           Area harvested (ha)   \n",
       "0                                 Argentina  2015               581.0   \n",
       "1                                 Argentina  2016               583.0   \n",
       "2                                 Argentina  2017               583.0   \n",
       "3                                 Argentina  2018               583.0   \n",
       "4                                 Australia  2015             10412.0   \n",
       "..                                      ...   ...                 ...   \n",
       "292      Venezuela (Bolivarian Republic of)  2018             11792.0   \n",
       "293                                Zimbabwe  2015               293.0   \n",
       "294                                Zimbabwe  2016               310.0   \n",
       "295                                Zimbabwe  2017               517.0   \n",
       "296                                Zimbabwe  2018               910.0   \n",
       "\n",
       "                             \n",
       "Element Production (tonnes)  \n",
       "0                    4030.0  \n",
       "1                    4069.0  \n",
       "2                    4092.0  \n",
       "3                    4115.0  \n",
       "4                   49397.0  \n",
       "..                      ...  \n",
       "292                132082.0  \n",
       "293                  1700.0  \n",
       "294                  1800.0  \n",
       "295                  3000.0  \n",
       "296                  5300.0  \n",
       "\n",
       "[297 rows x 4 columns]"
      ]
     },
     "execution_count": 127,
     "metadata": {},
     "output_type": "execute_result"
    }
   ],
   "source": [
    "land_pivot"
   ]
  },
  {
   "cell_type": "code",
   "execution_count": 128,
   "id": "secret-extension",
   "metadata": {},
   "outputs": [
    {
     "name": "stdout",
     "output_type": "stream",
     "text": [
      "                     Area harvested (ha)  Production (tonnes)\n",
      "Area harvested (ha)             1.000000             0.958778\n",
      "Production (tonnes)             0.958778             1.000000\n"
     ]
    }
   ],
   "source": [
    "land_num = land[['Area harvested (ha)','Production (tonnes)']]\n",
    "land_num_corr = land_num.corr()\n",
    "print(land_num_corr)"
   ]
  },
  {
   "cell_type": "code",
   "execution_count": 129,
   "id": "prospective-seafood",
   "metadata": {},
   "outputs": [
    {
     "data": {
      "image/png": "[encoded data removed]",
      "text/plain": [
       "<Figure size 432x288 with 2 Axes>"
      ]
     },
     "metadata": {
      "needs_background": "light"
     },
     "output_type": "display_data"
    }
   ],
   "source": [
    "fig0 = sns.heatmap(land_num_corr,\n",
    "           xticklabels = land_num_corr.columns.values,\n",
    "           yticklabels = land_num_corr.columns.values,\n",
    "           annot = True, vmax=1, vmin=-1, center=0)"
   ]
  },
  {
   "cell_type": "code",
   "execution_count": 130,
   "id": "coated-staff",
   "metadata": {},
   "outputs": [],
   "source": [
    "#there's a strong correlation between Area harvested and Production"
   ]
  },
  {
   "cell_type": "markdown",
   "id": "varying-maple",
   "metadata": {},
   "source": [
    "### Evolution of \"land harvested\" between years 2015-2018"
   ]
  },
  {
   "cell_type": "code",
   "execution_count": 131,
   "id": "pressing-pixel",
   "metadata": {},
   "outputs": [],
   "source": [
    "land_15 = land[land[\"Year\"] == 2015]\n",
    "top_land_15 = land_15.head(25)\n",
    "\n",
    "land_16 = land[land[\"Year\"] == 2016]\n",
    "top_land_16 = land_16.head(25)\n",
    "\n",
    "land_17 = land[land[\"Year\"] == 2017]\n",
    "top_land_17 = land_17.head(25)\n",
    "\n",
    "land_18 = land[land[\"Year\"] == 2018]\n",
    "top_land_18 = land_18.head(25)"
   ]
  },
  {
   "cell_type": "code",
   "execution_count": 149,
   "id": "personal-wesley",
   "metadata": {
    "scrolled": true
   },
   "outputs": [
    {
     "data": {
      "application/vnd.plotly.v1+json": {
       "config": {
        "plotlyServerURL": "https://plot.ly"
       },
       "data": [
        {
         "coloraxis": "coloraxis",
         "geo": "geo",
         "hovertemplate": "Year=2015<br>Country=%{location}<br>Area harvested (ha)=%{z}<extra></extra>",
         "locationmode": "country names",
         "locations": [
          "Dominica",
          "Seychelles",
          "Timor-Leste",
          "Argentina",
          "Cuba",
          "Israel",
          "Malawi",
          "Cook Islands",
          "Spain",
          "Haiti",
          "China, mainland",
          "China",
          "Madagascar",
          "Jamaica",
          "Turkey",
          "Zimbabwe",
          "Mauritius",
          "Guatemala",
          "South Africa",
          "Central African Republic",
          "Panama",
          "Philippines",
          "Sri Lanka",
          "New Zealand",
          "Paraguay",
          "Côte d'Ivoire",
          "Lebanon",
          "Costa Rica",
          "Bolivia (Plurinational State of)",
          "Morocco",
          "Australia",
          "Ethiopia",
          "Congo",
          "Rwanda",
          "Democratic Republic of the Congo",
          "El Salvador",
          "Ghana",
          "Cameroon",
          "Venezuela (Bolivarian Republic of)",
          "Honduras",
          "French Polynesia",
          "Ecuador",
          "Colombia",
          "Barbados",
          "Cyprus",
          "Eswatini",
          "Palestine",
          "Portugal",
          "France",
          "Senegal",
          "Dominican Republic",
          "Bosnia and Herzegovina",
          "United States of America",
          "Tunisia",
          "Peru",
          "Brazil",
          "Samoa",
          "Bahamas",
          "Indonesia",
          "Grenada",
          "Kenya",
          "Micronesia (Federated States of)",
          "Greece",
          "Mexico",
          "Guyana",
          "Chile",
          "Trinidad and Tobago",
          "Puerto Rico",
          "Saint Lucia"
         ],
         "name": "",
         "type": "choropleth",
         "z": [
          155,
          1,
          348,
          581,
          259,
          7579,
          19000,
          5,
          11329,
          19041,
          18783,
          18783,
          3245,
          394,
          473,
          293,
          null,
          11462,
          16536,
          1076,
          1757,
          5214,
          1956,
          3934,
          2320,
          5227,
          982,
          3004,
          2285,
          3423,
          10412,
          13665,
          1164,
          680,
          9162,
          647,
          1932,
          16213,
          11318,
          400,
          8,
          4092,
          36461,
          153,
          88,
          154,
          29,
          null,
          296,
          null,
          13112,
          305,
          23990,
          29,
          33590,
          10356,
          45,
          108,
          28429,
          268,
          8486,
          null,
          311,
          166945,
          216,
          29908,
          115,
          164,
          35
         ]
        }
       ],
       "frames": [
        {
         "data": [
          {
           "coloraxis": "coloraxis",
           "geo": "geo",
           "hovertemplate": "Year=2015<br>Country=%{location}<br>Area harvested (ha)=%{z}<extra></extra>",
           "locationmode": "country names",
           "locations": [
            "Dominica",
            "Seychelles",
            "Timor-Leste",
            "Argentina",
            "Cuba",
            "Israel",
            "Malawi",
            "Cook Islands",
            "Spain",
            "Haiti",
            "China, mainland",
            "China",
            "Madagascar",
            "Jamaica",
            "Turkey",
            "Zimbabwe",
            "Mauritius",
            "Guatemala",
            "South Africa",
            "Central African Republic",
            "Panama",
            "Philippines",
            "Sri Lanka",
            "New Zealand",
            "Paraguay",
            "Côte d'Ivoire",
            "Lebanon",
            "Costa Rica",
            "Bolivia (Plurinational State of)",
            "Morocco",
            "Australia",
            "Ethiopia",
            "Congo",
            "Rwanda",
            "Democratic Republic of the Congo",
            "El Salvador",
            "Ghana",
            "Cameroon",
            "Venezuela (Bolivarian Republic of)",
            "Honduras",
            "French Polynesia",
            "Ecuador",
            "Colombia",
            "Barbados",
            "Cyprus",
            "Eswatini",
            "Palestine",
            "Portugal",
            "France",
            "Senegal",
            "Dominican Republic",
            "Bosnia and Herzegovina",
            "United States of America",
            "Tunisia",
            "Peru",
            "Brazil",
            "Samoa",
            "Bahamas",
            "Indonesia",
            "Grenada",
            "Kenya",
            "Micronesia (Federated States of)",
            "Greece",
            "Mexico",
            "Guyana",
            "Chile",
            "Trinidad and Tobago",
            "Puerto Rico",
            "Saint Lucia"
           ],
           "name": "",
           "type": "choropleth",
           "z": [
            155,
            1,
            348,
            581,
            259,
            7579,
            19000,
            5,
            11329,
            19041,
            18783,
            18783,
            3245,
            394,
            473,
            293,
            null,
            11462,
            16536,
            1076,
            1757,
            5214,
            1956,
            3934,
            2320,
            5227,
            982,
            3004,
            2285,
            3423,
            10412,
            13665,
            1164,
            680,
            9162,
            647,
            1932,
            16213,
            11318,
            400,
            8,
            4092,
            36461,
            153,
            88,
            154,
            29,
            null,
            296,
            null,
            13112,
            305,
            23990,
            29,
            33590,
            10356,
            45,
            108,
            28429,
            268,
            8486,
            null,
            311,
            166945,
            216,
            29908,
            115,
            164,
            35
           ]
          }
         ],
         "name": "2015"
        },
        {
         "data": [
          {
           "coloraxis": "coloraxis",
           "geo": "geo",
           "hovertemplate": "Year=2016<br>Country=%{location}<br>Area harvested (ha)=%{z}<extra></extra>",
           "locationmode": "country names",
           "locations": [
            "Rwanda",
            "Barbados",
            "Congo",
            "El Salvador",
            "Paraguay",
            "Lebanon",
            "Trinidad and Tobago",
            "Costa Rica",
            "Dominica",
            "Sri Lanka",
            "Bolivia (Plurinational State of)",
            "Puerto Rico",
            "Palestine",
            "Philippines",
            "Grenada",
            "Ghana",
            "Greece",
            "Zimbabwe",
            "France",
            "Turkey",
            "Jamaica",
            "Saint Lucia",
            "Guyana",
            "Samoa",
            "Bahamas",
            "Cyprus",
            "Honduras",
            "Bosnia and Herzegovina",
            "Argentina",
            "Timor-Leste",
            "Tunisia",
            "Seychelles",
            "French Polynesia",
            "Eswatini",
            "Panama",
            "Central African Republic",
            "Cuba",
            "Cook Islands",
            "Ecuador",
            "Chile",
            "Morocco",
            "Brazil",
            "Kenya",
            "Democratic Republic of the Congo",
            "Ethiopia",
            "Australia",
            "Micronesia (Federated States of)",
            "Haiti",
            "Colombia",
            "Cameroon",
            "Venezuela (Bolivarian Republic of)",
            "Malawi",
            "United States of America",
            "South Africa",
            "Spain",
            "China",
            "Israel",
            "China, mainland",
            "Mauritius",
            "Indonesia",
            "Guatemala",
            "Peru",
            "Madagascar",
            "Dominican Republic",
            "Mexico",
            "New Zealand",
            "Côte d'Ivoire",
            "Portugal",
            "Senegal"
           ],
           "name": "",
           "type": "choropleth",
           "z": [
            634,
            161,
            1194,
            644,
            2102,
            1642,
            115,
            3092,
            161,
            2588,
            2293,
            215,
            34,
            5187,
            272,
            1991,
            318,
            310,
            228,
            488,
            375,
            37,
            171,
            45,
            109,
            86,
            740,
            303,
            583,
            362,
            30,
            1,
            8,
            151,
            1749,
            1205,
            241,
            1,
            3615,
            29933,
            3806,
            10920,
            10305,
            8961,
            17835,
            14235,
            null,
            24989,
            40057,
            16271,
            11908,
            17000,
            23350,
            17055,
            11441,
            19816,
            8180,
            19816,
            null,
            22973,
            11602,
            37871,
            3263,
            13375,
            180536,
            4937,
            5316,
            null,
            null
           ]
          }
         ],
         "name": "2016"
        },
        {
         "data": [
          {
           "coloraxis": "coloraxis",
           "geo": "geo",
           "hovertemplate": "Year=2017<br>Country=%{location}<br>Area harvested (ha)=%{z}<extra></extra>",
           "locationmode": "country names",
           "locations": [
            "Indonesia",
            "Peru",
            "Guatemala",
            "Dominican Republic",
            "Greece",
            "Puerto Rico",
            "China",
            "China, mainland",
            "Honduras",
            "Dominica",
            "Jamaica",
            "French Polynesia",
            "Mexico",
            "France",
            "Grenada",
            "Mauritius",
            "Trinidad and Tobago",
            "Colombia",
            "Barbados",
            "Eswatini",
            "Tunisia",
            "Micronesia (Federated States of)",
            "Kenya",
            "Brazil",
            "Bosnia and Herzegovina",
            "Chile",
            "Saint Lucia",
            "Turkey",
            "Cyprus",
            "Haiti",
            "Bahamas",
            "Portugal",
            "Samoa",
            "United States of America",
            "Palestine",
            "Venezuela (Bolivarian Republic of)",
            "Ecuador",
            "Zimbabwe",
            "Panama",
            "Cook Islands",
            "Senegal",
            "Ghana",
            "Democratic Republic of the Congo",
            "Central African Republic",
            "South Africa",
            "Côte d'Ivoire",
            "Israel",
            "Congo",
            "Sri Lanka",
            "El Salvador",
            "Bolivia (Plurinational State of)",
            "Paraguay",
            "Morocco",
            "Australia",
            "Cameroon",
            "Costa Rica",
            "Timor-Leste",
            "Ethiopia",
            "Rwanda",
            "Cuba",
            "Guyana",
            "Malawi",
            "Spain",
            "Lebanon",
            "Madagascar",
            "New Zealand",
            "Philippines",
            "Seychelles",
            "Argentina"
           ],
           "name": "",
           "type": "choropleth",
           "z": [
            27452,
            39629,
            12100,
            13621,
            307,
            214,
            20652,
            20652,
            536,
            163,
            371,
            8,
            188723,
            238,
            274,
            null,
            118,
            41068,
            165,
            155,
            30,
            null,
            16460,
            12996,
            304,
            30078,
            43,
            532,
            77,
            29884,
            111,
            null,
            45,
            23530,
            41,
            12489,
            4653,
            517,
            1754,
            1,
            null,
            2030,
            8990,
            1264,
            11822,
            5358,
            8410,
            1222,
            2923,
            1117,
            2305,
            1933,
            3505,
            11967,
            16288,
            3092,
            377,
            18021,
            950,
            224,
            182,
            19000,
            11812,
            1665,
            3286,
            3979,
            5180,
            1,
            583
           ]
          }
         ],
         "name": "2017"
        },
        {
         "data": [
          {
           "coloraxis": "coloraxis",
           "geo": "geo",
           "hovertemplate": "Year=2018<br>Country=%{location}<br>Area harvested (ha)=%{z}<extra></extra>",
           "locationmode": "country names",
           "locations": [
            "Saint Lucia",
            "Italy",
            "Slovenia",
            "Estonia",
            "Malta",
            "Hungary",
            "Denmark",
            "Dominica",
            "Germany",
            "Netherlands",
            "Slovakia",
            "Poland",
            "Bulgaria",
            "Belgium",
            "French Polynesia",
            "Lithuania",
            "Croatia",
            "Seychelles",
            "Czechia",
            "Luxembourg",
            "Tunisia",
            "Romania",
            "Cook Islands",
            "Sweden",
            "Ireland",
            "Austria",
            "Latvia",
            "Finland",
            "Micronesia (Federated States of)",
            "Mauritius",
            "Mexico",
            "Rwanda",
            "Trinidad and Tobago",
            "El Salvador",
            "New Zealand",
            "Côte d'Ivoire",
            "Morocco",
            "Democratic Republic of the Congo",
            "Australia",
            "Cameroon",
            "Ethiopia",
            "Spain",
            "Malawi",
            "China, mainland",
            "China",
            "South Africa",
            "Israel",
            "Venezuela (Bolivarian Republic of)",
            "Guatemala",
            "United States of America",
            "Chile",
            "Kenya",
            "Brazil",
            "Haiti",
            "Indonesia",
            "Colombia",
            "Peru",
            "Dominican Republic",
            "Madagascar",
            "Sri Lanka",
            "Philippines",
            "Lebanon",
            "Barbados",
            "Palestine",
            "Cyprus",
            "Eswatini",
            "Bosnia and Herzegovina",
            "Honduras",
            "Bahamas",
            "Samoa",
            "Grenada",
            "Jamaica",
            "France",
            "Cuba",
            "Puerto Rico",
            "Turkey",
            "Timor-Leste",
            "Zimbabwe",
            "Greece",
            "Central African Republic",
            "Panama",
            "Guyana",
            "Ghana",
            "Congo",
            "Paraguay",
            "Bolivia (Plurinational State of)",
            "Costa Rica",
            "Ecuador",
            "Argentina",
            "Senegal"
           ],
           "name": "",
           "type": "choropleth",
           "z": [
            50,
            0,
            0,
            0,
            0,
            0,
            0,
            166,
            0,
            0,
            0,
            0,
            0,
            0,
            8,
            0,
            0,
            1,
            0,
            0,
            30,
            0,
            1,
            0,
            0,
            0,
            0,
            0,
            null,
            null,
            206389,
            152,
            120,
            800,
            4575,
            5398,
            4449,
            9026,
            13447,
            16292,
            19759,
            12160,
            18000,
            21583,
            21583,
            24029,
            9408,
            11792,
            12750,
            21710,
            29166,
            14497,
            14325,
            43773,
            31106,
            53801,
            41171,
            13924,
            3309,
            3213,
            5180,
            1581,
            168,
            49,
            100,
            160,
            304,
            301,
            113,
            46,
            277,
            367,
            240,
            209,
            179,
            556,
            393,
            910,
            720,
            1052,
            1777,
            449,
            2068,
            1251,
            1797,
            2302,
            3000,
            4309,
            583,
            null
           ]
          }
         ],
         "name": "2018"
        }
       ],
       "layout": {
        "coloraxis": {
         "colorbar": {
          "title": {
           "text": "Area harvested (ha)"
          }
         },
         "colorscale": [
          [
           0,
           "#0d0887"
          ],
          [
           0.1111111111111111,
           "#46039f"
          ],
          [
           0.2222222222222222,
           "#7201a8"
          ],
          [
           0.3333333333333333,
           "#9c179e"
          ],
          [
           0.4444444444444444,
           "#bd3786"
          ],
          [
           0.5555555555555556,
           "#d8576b"
          ],
          [
           0.6666666666666666,
           "#ed7953"
          ],
          [
           0.7777777777777778,
           "#fb9f3a"
          ],
          [
           0.8888888888888888,
           "#fdca26"
          ],
          [
           1,
           "#f0f921"
          ]
         ]
        },
        "geo": {
         "center": {},
         "domain": {
          "x": [
           0,
           1
          ],
          "y": [
           0,
           1
          ]
         }
        },
        "legend": {
         "tracegroupgap": 0
        },
        "margin": {
         "t": 60
        },
        "sliders": [
         {
          "active": 0,
          "currentvalue": {
           "prefix": "Year="
          },
          "len": 0.9,
          "pad": {
           "b": 10,
           "t": 60
          },
          "steps": [
           {
            "args": [
             [
              "2015"
             ],
             {
              "frame": {
               "duration": 0,
               "redraw": true
              },
              "fromcurrent": true,
              "mode": "immediate",
              "transition": {
               "duration": 0,
               "easing": "linear"
              }
             }
            ],
            "label": "2015",
            "method": "animate"
           },
           {
            "args": [
             [
              "2016"
             ],
             {
              "frame": {
               "duration": 0,
               "redraw": true
              },
              "fromcurrent": true,
              "mode": "immediate",
              "transition": {
               "duration": 0,
               "easing": "linear"
              }
             }
            ],
            "label": "2016",
            "method": "animate"
           },
           {
            "args": [
             [
              "2017"
             ],
             {
              "frame": {
               "duration": 0,
               "redraw": true
              },
              "fromcurrent": true,
              "mode": "immediate",
              "transition": {
               "duration": 0,
               "easing": "linear"
              }
             }
            ],
            "label": "2017",
            "method": "animate"
           },
           {
            "args": [
             [
              "2018"
             ],
             {
              "frame": {
               "duration": 0,
               "redraw": true
              },
              "fromcurrent": true,
              "mode": "immediate",
              "transition": {
               "duration": 0,
               "easing": "linear"
              }
             }
            ],
            "label": "2018",
            "method": "animate"
           }
          ],
          "x": 0.1,
          "xanchor": "left",
          "y": 0,
          "yanchor": "top"
         }
        ],
        "template": {
         "data": {
          "bar": [
           {
            "error_x": {
             "color": "#2a3f5f"
            },
            "error_y": {
             "color": "#2a3f5f"
            },
            "marker": {
             "line": {
              "color": "#E5ECF6",
              "width": 0.5
             }
            },
            "type": "bar"
           }
          ],
          "barpolar": [
           {
            "marker": {
             "line": {
              "color": "#E5ECF6",
              "width": 0.5
             }
            },
            "type": "barpolar"
           }
          ],
          "carpet": [
           {
            "aaxis": {
             "endlinecolor": "#2a3f5f",
             "gridcolor": "white",
             "linecolor": "white",
             "minorgridcolor": "white",
             "startlinecolor": "#2a3f5f"
            },
            "baxis": {
             "endlinecolor": "#2a3f5f",
             "gridcolor": "white",
             "linecolor": "white",
             "minorgridcolor": "white",
             "startlinecolor": "#2a3f5f"
            },
            "type": "carpet"
           }
          ],
          "choropleth": [
           {
            "colorbar": {
             "outlinewidth": 0,
             "ticks": ""
            },
            "type": "choropleth"
           }
          ],
          "contour": [
           {
            "colorbar": {
             "outlinewidth": 0,
             "ticks": ""
            },
            "colorscale": [
             [
              0,
              "#0d0887"
             ],
             [
              0.1111111111111111,
              "#46039f"
             ],
             [
              0.2222222222222222,
              "#7201a8"
             ],
             [
              0.3333333333333333,
              "#9c179e"
             ],
             [
              0.4444444444444444,
              "#bd3786"
             ],
             [
              0.5555555555555556,
              "#d8576b"
             ],
             [
              0.6666666666666666,
              "#ed7953"
             ],
             [
              0.7777777777777778,
              "#fb9f3a"
             ],
             [
              0.8888888888888888,
              "#fdca26"
             ],
             [
              1,
              "#f0f921"
             ]
            ],
            "type": "contour"
           }
          ],
          "contourcarpet": [
           {
            "colorbar": {
             "outlinewidth": 0,
             "ticks": ""
            },
            "type": "contourcarpet"
           }
          ],
          "heatmap": [
           {
            "colorbar": {
             "outlinewidth": 0,
             "ticks": ""
            },
            "colorscale": [
             [
              0,
              "#0d0887"
             ],
             [
              0.1111111111111111,
              "#46039f"
             ],
             [
              0.2222222222222222,
              "#7201a8"
             ],
             [
              0.3333333333333333,
              "#9c179e"
             ],
             [
              0.4444444444444444,
              "#bd3786"
             ],
             [
              0.5555555555555556,
              "#d8576b"
             ],
             [
              0.6666666666666666,
              "#ed7953"
             ],
             [
              0.7777777777777778,
              "#fb9f3a"
             ],
             [
              0.8888888888888888,
              "#fdca26"
             ],
             [
              1,
              "#f0f921"
             ]
            ],
            "type": "heatmap"
           }
          ],
          "heatmapgl": [
           {
            "colorbar": {
             "outlinewidth": 0,
             "ticks": ""
            },
            "colorscale": [
             [
              0,
              "#0d0887"
             ],
             [
              0.1111111111111111,
              "#46039f"
             ],
             [
              0.2222222222222222,
              "#7201a8"
             ],
             [
              0.3333333333333333,
              "#9c179e"
             ],
             [
              0.4444444444444444,
              "#bd3786"
             ],
             [
              0.5555555555555556,
              "#d8576b"
             ],
             [
              0.6666666666666666,
              "#ed7953"
             ],
             [
              0.7777777777777778,
              "#fb9f3a"
             ],
             [
              0.8888888888888888,
              "#fdca26"
             ],
             [
              1,
              "#f0f921"
             ]
            ],
            "type": "heatmapgl"
           }
          ],
          "histogram": [
           {
            "marker": {
             "colorbar": {
              "outlinewidth": 0,
              "ticks": ""
             }
            },
            "type": "histogram"
           }
          ],
          "histogram2d": [
           {
            "colorbar": {
             "outlinewidth": 0,
             "ticks": ""
            },
            "colorscale": [
             [
              0,
              "#0d0887"
             ],
             [
              0.1111111111111111,
              "#46039f"
             ],
             [
              0.2222222222222222,
              "#7201a8"
             ],
             [
              0.3333333333333333,
              "#9c179e"
             ],
             [
              0.4444444444444444,
              "#bd3786"
             ],
             [
              0.5555555555555556,
              "#d8576b"
             ],
             [
              0.6666666666666666,
              "#ed7953"
             ],
             [
              0.7777777777777778,
              "#fb9f3a"
             ],
             [
              0.8888888888888888,
              "#fdca26"
             ],
             [
              1,
              "#f0f921"
             ]
            ],
            "type": "histogram2d"
           }
          ],
          "histogram2dcontour": [
           {
            "colorbar": {
             "outlinewidth": 0,
             "ticks": ""
            },
            "colorscale": [
             [
              0,
              "#0d0887"
             ],
             [
              0.1111111111111111,
              "#46039f"
             ],
             [
              0.2222222222222222,
              "#7201a8"
             ],
             [
              0.3333333333333333,
              "#9c179e"
             ],
             [
              0.4444444444444444,
              "#bd3786"
             ],
             [
              0.5555555555555556,
              "#d8576b"
             ],
             [
              0.6666666666666666,
              "#ed7953"
             ],
             [
              0.7777777777777778,
              "#fb9f3a"
             ],
             [
              0.8888888888888888,
              "#fdca26"
             ],
             [
              1,
              "#f0f921"
             ]
            ],
            "type": "histogram2dcontour"
           }
          ],
          "mesh3d": [
           {
            "colorbar": {
             "outlinewidth": 0,
             "ticks": ""
            },
            "type": "mesh3d"
           }
          ],
          "parcoords": [
           {
            "line": {
             "colorbar": {
              "outlinewidth": 0,
              "ticks": ""
             }
            },
            "type": "parcoords"
           }
          ],
          "pie": [
           {
            "automargin": true,
            "type": "pie"
           }
          ],
          "scatter": [
           {
            "marker": {
             "colorbar": {
              "outlinewidth": 0,
              "ticks": ""
             }
            },
            "type": "scatter"
           }
          ],
          "scatter3d": [
           {
            "line": {
             "colorbar": {
              "outlinewidth": 0,
              "ticks": ""
             }
            },
            "marker": {
             "colorbar": {
              "outlinewidth": 0,
              "ticks": ""
             }
            },
            "type": "scatter3d"
           }
          ],
          "scattercarpet": [
           {
            "marker": {
             "colorbar": {
              "outlinewidth": 0,
              "ticks": ""
             }
            },
            "type": "scattercarpet"
           }
          ],
          "scattergeo": [
           {
            "marker": {
             "colorbar": {
              "outlinewidth": 0,
              "ticks": ""
             }
            },
            "type": "scattergeo"
           }
          ],
          "scattergl": [
           {
            "marker": {
             "colorbar": {
              "outlinewidth": 0,
              "ticks": ""
             }
            },
            "type": "scattergl"
           }
          ],
          "scattermapbox": [
           {
            "marker": {
             "colorbar": {
              "outlinewidth": 0,
              "ticks": ""
             }
            },
            "type": "scattermapbox"
           }
          ],
          "scatterpolar": [
           {
            "marker": {
             "colorbar": {
              "outlinewidth": 0,
              "ticks": ""
             }
            },
            "type": "scatterpolar"
           }
          ],
          "scatterpolargl": [
           {
            "marker": {
             "colorbar": {
              "outlinewidth": 0,
              "ticks": ""
             }
            },
            "type": "scatterpolargl"
           }
          ],
          "scatterternary": [
           {
            "marker": {
             "colorbar": {
              "outlinewidth": 0,
              "ticks": ""
             }
            },
            "type": "scatterternary"
           }
          ],
          "surface": [
           {
            "colorbar": {
             "outlinewidth": 0,
             "ticks": ""
            },
            "colorscale": [
             [
              0,
              "#0d0887"
             ],
             [
              0.1111111111111111,
              "#46039f"
             ],
             [
              0.2222222222222222,
              "#7201a8"
             ],
             [
              0.3333333333333333,
              "#9c179e"
             ],
             [
              0.4444444444444444,
              "#bd3786"
             ],
             [
              0.5555555555555556,
              "#d8576b"
             ],
             [
              0.6666666666666666,
              "#ed7953"
             ],
             [
              0.7777777777777778,
              "#fb9f3a"
             ],
             [
              0.8888888888888888,
              "#fdca26"
             ],
             [
              1,
              "#f0f921"
             ]
            ],
            "type": "surface"
           }
          ],
          "table": [
           {
            "cells": {
             "fill": {
              "color": "#EBF0F8"
             },
             "line": {
              "color": "white"
             }
            },
            "header": {
             "fill": {
              "color": "#C8D4E3"
             },
             "line": {
              "color": "white"
             }
            },
            "type": "table"
           }
          ]
         },
         "layout": {
          "annotationdefaults": {
           "arrowcolor": "#2a3f5f",
           "arrowhead": 0,
           "arrowwidth": 1
          },
          "coloraxis": {
           "colorbar": {
            "outlinewidth": 0,
            "ticks": ""
           }
          },
          "colorscale": {
           "diverging": [
            [
             0,
             "#8e0152"
            ],
            [
             0.1,
             "#c51b7d"
            ],
            [
             0.2,
             "#de77ae"
            ],
            [
             0.3,
             "#f1b6da"
            ],
            [
             0.4,
             "#fde0ef"
            ],
            [
             0.5,
             "#f7f7f7"
            ],
            [
             0.6,
             "#e6f5d0"
            ],
            [
             0.7,
             "#b8e186"
            ],
            [
             0.8,
             "#7fbc41"
            ],
            [
             0.9,
             "#4d9221"
            ],
            [
             1,
             "#276419"
            ]
           ],
           "sequential": [
            [
             0,
             "#0d0887"
            ],
            [
             0.1111111111111111,
             "#46039f"
            ],
            [
             0.2222222222222222,
             "#7201a8"
            ],
            [
             0.3333333333333333,
             "#9c179e"
            ],
            [
             0.4444444444444444,
             "#bd3786"
            ],
            [
             0.5555555555555556,
             "#d8576b"
            ],
            [
             0.6666666666666666,
             "#ed7953"
            ],
            [
             0.7777777777777778,
             "#fb9f3a"
            ],
            [
             0.8888888888888888,
             "#fdca26"
            ],
            [
             1,
             "#f0f921"
            ]
           ],
           "sequentialminus": [
            [
             0,
             "#0d0887"
            ],
            [
             0.1111111111111111,
             "#46039f"
            ],
            [
             0.2222222222222222,
             "#7201a8"
            ],
            [
             0.3333333333333333,
             "#9c179e"
            ],
            [
             0.4444444444444444,
             "#bd3786"
            ],
            [
             0.5555555555555556,
             "#d8576b"
            ],
            [
             0.6666666666666666,
             "#ed7953"
            ],
            [
             0.7777777777777778,
             "#fb9f3a"
            ],
            [
             0.8888888888888888,
             "#fdca26"
            ],
            [
             1,
             "#f0f921"
            ]
           ]
          },
          "colorway": [
           "#636efa",
           "#EF553B",
           "#00cc96",
           "#ab63fa",
           "#FFA15A",
           "#19d3f3",
           "#FF6692",
           "#B6E880",
           "#FF97FF",
           "#FECB52"
          ],
          "font": {
           "color": "#2a3f5f"
          },
          "geo": {
           "bgcolor": "white",
           "lakecolor": "white",
           "landcolor": "#E5ECF6",
           "showlakes": true,
           "showland": true,
           "subunitcolor": "white"
          },
          "hoverlabel": {
           "align": "left"
          },
          "hovermode": "closest",
          "mapbox": {
           "style": "light"
          },
          "paper_bgcolor": "white",
          "plot_bgcolor": "#E5ECF6",
          "polar": {
           "angularaxis": {
            "gridcolor": "white",
            "linecolor": "white",
            "ticks": ""
           },
           "bgcolor": "#E5ECF6",
           "radialaxis": {
            "gridcolor": "white",
            "linecolor": "white",
            "ticks": ""
           }
          },
          "scene": {
           "xaxis": {
            "backgroundcolor": "#E5ECF6",
            "gridcolor": "white",
            "gridwidth": 2,
            "linecolor": "white",
            "showbackground": true,
            "ticks": "",
            "zerolinecolor": "white"
           },
           "yaxis": {
            "backgroundcolor": "#E5ECF6",
            "gridcolor": "white",
            "gridwidth": 2,
            "linecolor": "white",
            "showbackground": true,
            "ticks": "",
            "zerolinecolor": "white"
           },
           "zaxis": {
            "backgroundcolor": "#E5ECF6",
            "gridcolor": "white",
            "gridwidth": 2,
            "linecolor": "white",
            "showbackground": true,
            "ticks": "",
            "zerolinecolor": "white"
           }
          },
          "shapedefaults": {
           "line": {
            "color": "#2a3f5f"
           }
          },
          "ternary": {
           "aaxis": {
            "gridcolor": "white",
            "linecolor": "white",
            "ticks": ""
           },
           "baxis": {
            "gridcolor": "white",
            "linecolor": "white",
            "ticks": ""
           },
           "bgcolor": "#E5ECF6",
           "caxis": {
            "gridcolor": "white",
            "linecolor": "white",
            "ticks": ""
           }
          },
          "title": {
           "x": 0.05
          },
          "xaxis": {
           "automargin": true,
           "gridcolor": "white",
           "linecolor": "white",
           "ticks": "",
           "title": {
            "standoff": 15
           },
           "zerolinecolor": "white",
           "zerolinewidth": 2
          },
          "yaxis": {
           "automargin": true,
           "gridcolor": "white",
           "linecolor": "white",
           "ticks": "",
           "title": {
            "standoff": 15
           },
           "zerolinecolor": "white",
           "zerolinewidth": 2
          }
         }
        },
        "title": {
         "text": "Land harvested from 2015 to 2018"
        },
        "updatemenus": [
         {
          "buttons": [
           {
            "args": [
             null,
             {
              "frame": {
               "duration": 500,
               "redraw": true
              },
              "fromcurrent": true,
              "mode": "immediate",
              "transition": {
               "duration": 500,
               "easing": "linear"
              }
             }
            ],
            "label": "&#9654;",
            "method": "animate"
           },
           {
            "args": [
             [
              null
             ],
             {
              "frame": {
               "duration": 0,
               "redraw": true
              },
              "fromcurrent": true,
              "mode": "immediate",
              "transition": {
               "duration": 0,
               "easing": "linear"
              }
             }
            ],
            "label": "&#9724;",
            "method": "animate"
           }
          ],
          "direction": "left",
          "pad": {
           "r": 10,
           "t": 70
          },
          "showactive": false,
          "type": "buttons",
          "x": 0.1,
          "xanchor": "right",
          "y": 0,
          "yanchor": "top"
         }
        ]
       }
      },
      "text/html": [
       "<div>\n",
       "        \n",
       "        \n",
       "            <div id=\"afbd98ae-8b0c-4094-ba66-894b38239ff9\" class=\"plotly-graph-div\" style=\"height:525px; width:100%;\"></div>\n",
       "            <script type=\"text/javascript\">\n",
       "                require([\"plotly\"], function(Plotly) {\n",
       "                    window.PLOTLYENV=window.PLOTLYENV || {};\n",
       "                    \n",
       "                if (document.getElementById(\"afbd98ae-8b0c-4094-ba66-894b38239ff9\")) {\n",
       "                    Plotly.newPlot(\n",
       "                        'afbd98ae-8b0c-4094-ba66-894b38239ff9',\n",
       "                        [{\"coloraxis\": \"coloraxis\", \"geo\": \"geo\", \"hovertemplate\": \"Year=2015<br>Country=%{location}<br>Area harvested (ha)=%{z}<extra></extra>\", \"locationmode\": \"country names\", \"locations\": [\"Dominica\", \"Seychelles\", \"Timor-Leste\", \"Argentina\", \"Cuba\", \"Israel\", \"Malawi\", \"Cook Islands\", \"Spain\", \"Haiti\", \"China, mainland\", \"China\", \"Madagascar\", \"Jamaica\", \"Turkey\", \"Zimbabwe\", \"Mauritius\", \"Guatemala\", \"South Africa\", \"Central African Republic\", \"Panama\", \"Philippines\", \"Sri Lanka\", \"New Zealand\", \"Paraguay\", \"C\\u00f4te d'Ivoire\", \"Lebanon\", \"Costa Rica\", \"Bolivia (Plurinational State of)\", \"Morocco\", \"Australia\", \"Ethiopia\", \"Congo\", \"Rwanda\", \"Democratic Republic of the Congo\", \"El Salvador\", \"Ghana\", \"Cameroon\", \"Venezuela (Bolivarian Republic of)\", \"Honduras\", \"French Polynesia\", \"Ecuador\", \"Colombia\", \"Barbados\", \"Cyprus\", \"Eswatini\", \"Palestine\", \"Portugal\", \"France\", \"Senegal\", \"Dominican Republic\", \"Bosnia and Herzegovina\", \"United States of America\", \"Tunisia\", \"Peru\", \"Brazil\", \"Samoa\", \"Bahamas\", \"Indonesia\", \"Grenada\", \"Kenya\", \"Micronesia (Federated States of)\", \"Greece\", \"Mexico\", \"Guyana\", \"Chile\", \"Trinidad and Tobago\", \"Puerto Rico\", \"Saint Lucia\"], \"name\": \"\", \"type\": \"choropleth\", \"z\": [155.0, 1.0, 348.0, 581.0, 259.0, 7579.0, 19000.0, 5.0, 11329.0, 19041.0, 18783.0, 18783.0, 3245.0, 394.0, 473.0, 293.0, null, 11462.0, 16536.0, 1076.0, 1757.0, 5214.0, 1956.0, 3934.0, 2320.0, 5227.0, 982.0, 3004.0, 2285.0, 3423.0, 10412.0, 13665.0, 1164.0, 680.0, 9162.0, 647.0, 1932.0, 16213.0, 11318.0, 400.0, 8.0, 4092.0, 36461.0, 153.0, 88.0, 154.0, 29.0, null, 296.0, null, 13112.0, 305.0, 23990.0, 29.0, 33590.0, 10356.0, 45.0, 108.0, 28429.0, 268.0, 8486.0, null, 311.0, 166945.0, 216.0, 29908.0, 115.0, 164.0, 35.0]}],\n",
       "                        {\"coloraxis\": {\"colorbar\": {\"title\": {\"text\": \"Area harvested (ha)\"}}, \"colorscale\": [[0.0, \"#0d0887\"], [0.1111111111111111, \"#46039f\"], [0.2222222222222222, \"#7201a8\"], [0.3333333333333333, \"#9c179e\"], [0.4444444444444444, \"#bd3786\"], [0.5555555555555556, \"#d8576b\"], [0.6666666666666666, \"#ed7953\"], [0.7777777777777778, \"#fb9f3a\"], [0.8888888888888888, \"#fdca26\"], [1.0, \"#f0f921\"]]}, \"geo\": {\"center\": {}, \"domain\": {\"x\": [0.0, 1.0], \"y\": [0.0, 1.0]}}, \"legend\": {\"tracegroupgap\": 0}, \"margin\": {\"t\": 60}, \"sliders\": [{\"active\": 0, \"currentvalue\": {\"prefix\": \"Year=\"}, \"len\": 0.9, \"pad\": {\"b\": 10, \"t\": 60}, \"steps\": [{\"args\": [[\"2015\"], {\"frame\": {\"duration\": 0, \"redraw\": true}, \"fromcurrent\": true, \"mode\": \"immediate\", \"transition\": {\"duration\": 0, \"easing\": \"linear\"}}], \"label\": \"2015\", \"method\": \"animate\"}, {\"args\": [[\"2016\"], {\"frame\": {\"duration\": 0, \"redraw\": true}, \"fromcurrent\": true, \"mode\": \"immediate\", \"transition\": {\"duration\": 0, \"easing\": \"linear\"}}], \"label\": \"2016\", \"method\": \"animate\"}, {\"args\": [[\"2017\"], {\"frame\": {\"duration\": 0, \"redraw\": true}, \"fromcurrent\": true, \"mode\": \"immediate\", \"transition\": {\"duration\": 0, \"easing\": \"linear\"}}], \"label\": \"2017\", \"method\": \"animate\"}, {\"args\": [[\"2018\"], {\"frame\": {\"duration\": 0, \"redraw\": true}, \"fromcurrent\": true, \"mode\": \"immediate\", \"transition\": {\"duration\": 0, \"easing\": \"linear\"}}], \"label\": \"2018\", \"method\": \"animate\"}], \"x\": 0.1, \"xanchor\": \"left\", \"y\": 0, \"yanchor\": \"top\"}], \"template\": {\"data\": {\"bar\": [{\"error_x\": {\"color\": \"#2a3f5f\"}, \"error_y\": {\"color\": \"#2a3f5f\"}, \"marker\": {\"line\": {\"color\": \"#E5ECF6\", \"width\": 0.5}}, \"type\": \"bar\"}], \"barpolar\": [{\"marker\": {\"line\": {\"color\": \"#E5ECF6\", \"width\": 0.5}}, \"type\": \"barpolar\"}], \"carpet\": [{\"aaxis\": {\"endlinecolor\": \"#2a3f5f\", \"gridcolor\": \"white\", \"linecolor\": \"white\", \"minorgridcolor\": \"white\", \"startlinecolor\": \"#2a3f5f\"}, \"baxis\": {\"endlinecolor\": \"#2a3f5f\", \"gridcolor\": \"white\", \"linecolor\": \"white\", \"minorgridcolor\": \"white\", \"startlinecolor\": \"#2a3f5f\"}, \"type\": \"carpet\"}], \"choropleth\": [{\"colorbar\": {\"outlinewidth\": 0, \"ticks\": \"\"}, \"type\": \"choropleth\"}], \"contour\": [{\"colorbar\": {\"outlinewidth\": 0, \"ticks\": \"\"}, \"colorscale\": [[0.0, \"#0d0887\"], [0.1111111111111111, \"#46039f\"], [0.2222222222222222, \"#7201a8\"], [0.3333333333333333, \"#9c179e\"], [0.4444444444444444, \"#bd3786\"], [0.5555555555555556, \"#d8576b\"], [0.6666666666666666, \"#ed7953\"], [0.7777777777777778, \"#fb9f3a\"], [0.8888888888888888, \"#fdca26\"], [1.0, \"#f0f921\"]], \"type\": \"contour\"}], \"contourcarpet\": [{\"colorbar\": {\"outlinewidth\": 0, \"ticks\": \"\"}, \"type\": \"contourcarpet\"}], \"heatmap\": [{\"colorbar\": {\"outlinewidth\": 0, \"ticks\": \"\"}, \"colorscale\": [[0.0, \"#0d0887\"], [0.1111111111111111, \"#46039f\"], [0.2222222222222222, \"#7201a8\"], [0.3333333333333333, \"#9c179e\"], [0.4444444444444444, \"#bd3786\"], [0.5555555555555556, \"#d8576b\"], [0.6666666666666666, \"#ed7953\"], [0.7777777777777778, \"#fb9f3a\"], [0.8888888888888888, \"#fdca26\"], [1.0, \"#f0f921\"]], \"type\": \"heatmap\"}], \"heatmapgl\": [{\"colorbar\": {\"outlinewidth\": 0, \"ticks\": \"\"}, \"colorscale\": [[0.0, \"#0d0887\"], [0.1111111111111111, \"#46039f\"], [0.2222222222222222, \"#7201a8\"], [0.3333333333333333, \"#9c179e\"], [0.4444444444444444, \"#bd3786\"], [0.5555555555555556, \"#d8576b\"], [0.6666666666666666, \"#ed7953\"], [0.7777777777777778, \"#fb9f3a\"], [0.8888888888888888, \"#fdca26\"], [1.0, \"#f0f921\"]], \"type\": \"heatmapgl\"}], \"histogram\": [{\"marker\": {\"colorbar\": {\"outlinewidth\": 0, \"ticks\": \"\"}}, \"type\": \"histogram\"}], \"histogram2d\": [{\"colorbar\": {\"outlinewidth\": 0, \"ticks\": \"\"}, \"colorscale\": [[0.0, \"#0d0887\"], [0.1111111111111111, \"#46039f\"], [0.2222222222222222, \"#7201a8\"], [0.3333333333333333, \"#9c179e\"], [0.4444444444444444, \"#bd3786\"], [0.5555555555555556, \"#d8576b\"], [0.6666666666666666, \"#ed7953\"], [0.7777777777777778, \"#fb9f3a\"], [0.8888888888888888, \"#fdca26\"], [1.0, \"#f0f921\"]], \"type\": \"histogram2d\"}], \"histogram2dcontour\": [{\"colorbar\": {\"outlinewidth\": 0, \"ticks\": \"\"}, \"colorscale\": [[0.0, \"#0d0887\"], [0.1111111111111111, \"#46039f\"], [0.2222222222222222, \"#7201a8\"], [0.3333333333333333, \"#9c179e\"], [0.4444444444444444, \"#bd3786\"], [0.5555555555555556, \"#d8576b\"], [0.6666666666666666, \"#ed7953\"], [0.7777777777777778, \"#fb9f3a\"], [0.8888888888888888, \"#fdca26\"], [1.0, \"#f0f921\"]], \"type\": \"histogram2dcontour\"}], \"mesh3d\": [{\"colorbar\": {\"outlinewidth\": 0, \"ticks\": \"\"}, \"type\": \"mesh3d\"}], \"parcoords\": [{\"line\": {\"colorbar\": {\"outlinewidth\": 0, \"ticks\": \"\"}}, \"type\": \"parcoords\"}], \"pie\": [{\"automargin\": true, \"type\": \"pie\"}], \"scatter\": [{\"marker\": {\"colorbar\": {\"outlinewidth\": 0, \"ticks\": \"\"}}, \"type\": \"scatter\"}], \"scatter3d\": [{\"line\": {\"colorbar\": {\"outlinewidth\": 0, \"ticks\": \"\"}}, \"marker\": {\"colorbar\": {\"outlinewidth\": 0, \"ticks\": \"\"}}, \"type\": \"scatter3d\"}], \"scattercarpet\": [{\"marker\": {\"colorbar\": {\"outlinewidth\": 0, \"ticks\": \"\"}}, \"type\": \"scattercarpet\"}], \"scattergeo\": [{\"marker\": {\"colorbar\": {\"outlinewidth\": 0, \"ticks\": \"\"}}, \"type\": \"scattergeo\"}], \"scattergl\": [{\"marker\": {\"colorbar\": {\"outlinewidth\": 0, \"ticks\": \"\"}}, \"type\": \"scattergl\"}], \"scattermapbox\": [{\"marker\": {\"colorbar\": {\"outlinewidth\": 0, \"ticks\": \"\"}}, \"type\": \"scattermapbox\"}], \"scatterpolar\": [{\"marker\": {\"colorbar\": {\"outlinewidth\": 0, \"ticks\": \"\"}}, \"type\": \"scatterpolar\"}], \"scatterpolargl\": [{\"marker\": {\"colorbar\": {\"outlinewidth\": 0, \"ticks\": \"\"}}, \"type\": \"scatterpolargl\"}], \"scatterternary\": [{\"marker\": {\"colorbar\": {\"outlinewidth\": 0, \"ticks\": \"\"}}, \"type\": \"scatterternary\"}], \"surface\": [{\"colorbar\": {\"outlinewidth\": 0, \"ticks\": \"\"}, \"colorscale\": [[0.0, \"#0d0887\"], [0.1111111111111111, \"#46039f\"], [0.2222222222222222, \"#7201a8\"], [0.3333333333333333, \"#9c179e\"], [0.4444444444444444, \"#bd3786\"], [0.5555555555555556, \"#d8576b\"], [0.6666666666666666, \"#ed7953\"], [0.7777777777777778, \"#fb9f3a\"], [0.8888888888888888, \"#fdca26\"], [1.0, \"#f0f921\"]], \"type\": \"surface\"}], \"table\": [{\"cells\": {\"fill\": {\"color\": \"#EBF0F8\"}, \"line\": {\"color\": \"white\"}}, \"header\": {\"fill\": {\"color\": \"#C8D4E3\"}, \"line\": {\"color\": \"white\"}}, \"type\": \"table\"}]}, \"layout\": {\"annotationdefaults\": {\"arrowcolor\": \"#2a3f5f\", \"arrowhead\": 0, \"arrowwidth\": 1}, \"coloraxis\": {\"colorbar\": {\"outlinewidth\": 0, \"ticks\": \"\"}}, \"colorscale\": {\"diverging\": [[0, \"#8e0152\"], [0.1, \"#c51b7d\"], [0.2, \"#de77ae\"], [0.3, \"#f1b6da\"], [0.4, \"#fde0ef\"], [0.5, \"#f7f7f7\"], [0.6, \"#e6f5d0\"], [0.7, \"#b8e186\"], [0.8, \"#7fbc41\"], [0.9, \"#4d9221\"], [1, \"#276419\"]], \"sequential\": [[0.0, \"#0d0887\"], [0.1111111111111111, \"#46039f\"], [0.2222222222222222, \"#7201a8\"], [0.3333333333333333, \"#9c179e\"], [0.4444444444444444, \"#bd3786\"], [0.5555555555555556, \"#d8576b\"], [0.6666666666666666, \"#ed7953\"], [0.7777777777777778, \"#fb9f3a\"], [0.8888888888888888, \"#fdca26\"], [1.0, \"#f0f921\"]], \"sequentialminus\": [[0.0, \"#0d0887\"], [0.1111111111111111, \"#46039f\"], [0.2222222222222222, \"#7201a8\"], [0.3333333333333333, \"#9c179e\"], [0.4444444444444444, \"#bd3786\"], [0.5555555555555556, \"#d8576b\"], [0.6666666666666666, \"#ed7953\"], [0.7777777777777778, \"#fb9f3a\"], [0.8888888888888888, \"#fdca26\"], [1.0, \"#f0f921\"]]}, \"colorway\": [\"#636efa\", \"#EF553B\", \"#00cc96\", \"#ab63fa\", \"#FFA15A\", \"#19d3f3\", \"#FF6692\", \"#B6E880\", \"#FF97FF\", \"#FECB52\"], \"font\": {\"color\": \"#2a3f5f\"}, \"geo\": {\"bgcolor\": \"white\", \"lakecolor\": \"white\", \"landcolor\": \"#E5ECF6\", \"showlakes\": true, \"showland\": true, \"subunitcolor\": \"white\"}, \"hoverlabel\": {\"align\": \"left\"}, \"hovermode\": \"closest\", \"mapbox\": {\"style\": \"light\"}, \"paper_bgcolor\": \"white\", \"plot_bgcolor\": \"#E5ECF6\", \"polar\": {\"angularaxis\": {\"gridcolor\": \"white\", \"linecolor\": \"white\", \"ticks\": \"\"}, \"bgcolor\": \"#E5ECF6\", \"radialaxis\": {\"gridcolor\": \"white\", \"linecolor\": \"white\", \"ticks\": \"\"}}, \"scene\": {\"xaxis\": {\"backgroundcolor\": \"#E5ECF6\", \"gridcolor\": \"white\", \"gridwidth\": 2, \"linecolor\": \"white\", \"showbackground\": true, \"ticks\": \"\", \"zerolinecolor\": \"white\"}, \"yaxis\": {\"backgroundcolor\": \"#E5ECF6\", \"gridcolor\": \"white\", \"gridwidth\": 2, \"linecolor\": \"white\", \"showbackground\": true, \"ticks\": \"\", \"zerolinecolor\": \"white\"}, \"zaxis\": {\"backgroundcolor\": \"#E5ECF6\", \"gridcolor\": \"white\", \"gridwidth\": 2, \"linecolor\": \"white\", \"showbackground\": true, \"ticks\": \"\", \"zerolinecolor\": \"white\"}}, \"shapedefaults\": {\"line\": {\"color\": \"#2a3f5f\"}}, \"ternary\": {\"aaxis\": {\"gridcolor\": \"white\", \"linecolor\": \"white\", \"ticks\": \"\"}, \"baxis\": {\"gridcolor\": \"white\", \"linecolor\": \"white\", \"ticks\": \"\"}, \"bgcolor\": \"#E5ECF6\", \"caxis\": {\"gridcolor\": \"white\", \"linecolor\": \"white\", \"ticks\": \"\"}}, \"title\": {\"x\": 0.05}, \"xaxis\": {\"automargin\": true, \"gridcolor\": \"white\", \"linecolor\": \"white\", \"ticks\": \"\", \"title\": {\"standoff\": 15}, \"zerolinecolor\": \"white\", \"zerolinewidth\": 2}, \"yaxis\": {\"automargin\": true, \"gridcolor\": \"white\", \"linecolor\": \"white\", \"ticks\": \"\", \"title\": {\"standoff\": 15}, \"zerolinecolor\": \"white\", \"zerolinewidth\": 2}}}, \"title\": {\"text\": \"Land harvested from 2015 to 2018\"}, \"updatemenus\": [{\"buttons\": [{\"args\": [null, {\"frame\": {\"duration\": 500, \"redraw\": true}, \"fromcurrent\": true, \"mode\": \"immediate\", \"transition\": {\"duration\": 500, \"easing\": \"linear\"}}], \"label\": \"&#9654;\", \"method\": \"animate\"}, {\"args\": [[null], {\"frame\": {\"duration\": 0, \"redraw\": true}, \"fromcurrent\": true, \"mode\": \"immediate\", \"transition\": {\"duration\": 0, \"easing\": \"linear\"}}], \"label\": \"&#9724;\", \"method\": \"animate\"}], \"direction\": \"left\", \"pad\": {\"r\": 10, \"t\": 70}, \"showactive\": false, \"type\": \"buttons\", \"x\": 0.1, \"xanchor\": \"right\", \"y\": 0, \"yanchor\": \"top\"}]},\n",
       "                        {\"responsive\": true}\n",
       "                    ).then(function(){\n",
       "                            Plotly.addFrames('afbd98ae-8b0c-4094-ba66-894b38239ff9', [{\"data\": [{\"coloraxis\": \"coloraxis\", \"geo\": \"geo\", \"hovertemplate\": \"Year=2015<br>Country=%{location}<br>Area harvested (ha)=%{z}<extra></extra>\", \"locationmode\": \"country names\", \"locations\": [\"Dominica\", \"Seychelles\", \"Timor-Leste\", \"Argentina\", \"Cuba\", \"Israel\", \"Malawi\", \"Cook Islands\", \"Spain\", \"Haiti\", \"China, mainland\", \"China\", \"Madagascar\", \"Jamaica\", \"Turkey\", \"Zimbabwe\", \"Mauritius\", \"Guatemala\", \"South Africa\", \"Central African Republic\", \"Panama\", \"Philippines\", \"Sri Lanka\", \"New Zealand\", \"Paraguay\", \"C\\u00f4te d'Ivoire\", \"Lebanon\", \"Costa Rica\", \"Bolivia (Plurinational State of)\", \"Morocco\", \"Australia\", \"Ethiopia\", \"Congo\", \"Rwanda\", \"Democratic Republic of the Congo\", \"El Salvador\", \"Ghana\", \"Cameroon\", \"Venezuela (Bolivarian Republic of)\", \"Honduras\", \"French Polynesia\", \"Ecuador\", \"Colombia\", \"Barbados\", \"Cyprus\", \"Eswatini\", \"Palestine\", \"Portugal\", \"France\", \"Senegal\", \"Dominican Republic\", \"Bosnia and Herzegovina\", \"United States of America\", \"Tunisia\", \"Peru\", \"Brazil\", \"Samoa\", \"Bahamas\", \"Indonesia\", \"Grenada\", \"Kenya\", \"Micronesia (Federated States of)\", \"Greece\", \"Mexico\", \"Guyana\", \"Chile\", \"Trinidad and Tobago\", \"Puerto Rico\", \"Saint Lucia\"], \"name\": \"\", \"z\": [155.0, 1.0, 348.0, 581.0, 259.0, 7579.0, 19000.0, 5.0, 11329.0, 19041.0, 18783.0, 18783.0, 3245.0, 394.0, 473.0, 293.0, null, 11462.0, 16536.0, 1076.0, 1757.0, 5214.0, 1956.0, 3934.0, 2320.0, 5227.0, 982.0, 3004.0, 2285.0, 3423.0, 10412.0, 13665.0, 1164.0, 680.0, 9162.0, 647.0, 1932.0, 16213.0, 11318.0, 400.0, 8.0, 4092.0, 36461.0, 153.0, 88.0, 154.0, 29.0, null, 296.0, null, 13112.0, 305.0, 23990.0, 29.0, 33590.0, 10356.0, 45.0, 108.0, 28429.0, 268.0, 8486.0, null, 311.0, 166945.0, 216.0, 29908.0, 115.0, 164.0, 35.0], \"type\": \"choropleth\"}], \"name\": \"2015\"}, {\"data\": [{\"coloraxis\": \"coloraxis\", \"geo\": \"geo\", \"hovertemplate\": \"Year=2016<br>Country=%{location}<br>Area harvested (ha)=%{z}<extra></extra>\", \"locationmode\": \"country names\", \"locations\": [\"Rwanda\", \"Barbados\", \"Congo\", \"El Salvador\", \"Paraguay\", \"Lebanon\", \"Trinidad and Tobago\", \"Costa Rica\", \"Dominica\", \"Sri Lanka\", \"Bolivia (Plurinational State of)\", \"Puerto Rico\", \"Palestine\", \"Philippines\", \"Grenada\", \"Ghana\", \"Greece\", \"Zimbabwe\", \"France\", \"Turkey\", \"Jamaica\", \"Saint Lucia\", \"Guyana\", \"Samoa\", \"Bahamas\", \"Cyprus\", \"Honduras\", \"Bosnia and Herzegovina\", \"Argentina\", \"Timor-Leste\", \"Tunisia\", \"Seychelles\", \"French Polynesia\", \"Eswatini\", \"Panama\", \"Central African Republic\", \"Cuba\", \"Cook Islands\", \"Ecuador\", \"Chile\", \"Morocco\", \"Brazil\", \"Kenya\", \"Democratic Republic of the Congo\", \"Ethiopia\", \"Australia\", \"Micronesia (Federated States of)\", \"Haiti\", \"Colombia\", \"Cameroon\", \"Venezuela (Bolivarian Republic of)\", \"Malawi\", \"United States of America\", \"South Africa\", \"Spain\", \"China\", \"Israel\", \"China, mainland\", \"Mauritius\", \"Indonesia\", \"Guatemala\", \"Peru\", \"Madagascar\", \"Dominican Republic\", \"Mexico\", \"New Zealand\", \"C\\u00f4te d'Ivoire\", \"Portugal\", \"Senegal\"], \"name\": \"\", \"z\": [634.0, 161.0, 1194.0, 644.0, 2102.0, 1642.0, 115.0, 3092.0, 161.0, 2588.0, 2293.0, 215.0, 34.0, 5187.0, 272.0, 1991.0, 318.0, 310.0, 228.0, 488.0, 375.0, 37.0, 171.0, 45.0, 109.0, 86.0, 740.0, 303.0, 583.0, 362.0, 30.0, 1.0, 8.0, 151.0, 1749.0, 1205.0, 241.0, 1.0, 3615.0, 29933.0, 3806.0, 10920.0, 10305.0, 8961.0, 17835.0, 14235.0, null, 24989.0, 40057.0, 16271.0, 11908.0, 17000.0, 23350.0, 17055.0, 11441.0, 19816.0, 8180.0, 19816.0, null, 22973.0, 11602.0, 37871.0, 3263.0, 13375.0, 180536.0, 4937.0, 5316.0, null, null], \"type\": \"choropleth\"}], \"name\": \"2016\"}, {\"data\": [{\"coloraxis\": \"coloraxis\", \"geo\": \"geo\", \"hovertemplate\": \"Year=2017<br>Country=%{location}<br>Area harvested (ha)=%{z}<extra></extra>\", \"locationmode\": \"country names\", \"locations\": [\"Indonesia\", \"Peru\", \"Guatemala\", \"Dominican Republic\", \"Greece\", \"Puerto Rico\", \"China\", \"China, mainland\", \"Honduras\", \"Dominica\", \"Jamaica\", \"French Polynesia\", \"Mexico\", \"France\", \"Grenada\", \"Mauritius\", \"Trinidad and Tobago\", \"Colombia\", \"Barbados\", \"Eswatini\", \"Tunisia\", \"Micronesia (Federated States of)\", \"Kenya\", \"Brazil\", \"Bosnia and Herzegovina\", \"Chile\", \"Saint Lucia\", \"Turkey\", \"Cyprus\", \"Haiti\", \"Bahamas\", \"Portugal\", \"Samoa\", \"United States of America\", \"Palestine\", \"Venezuela (Bolivarian Republic of)\", \"Ecuador\", \"Zimbabwe\", \"Panama\", \"Cook Islands\", \"Senegal\", \"Ghana\", \"Democratic Republic of the Congo\", \"Central African Republic\", \"South Africa\", \"C\\u00f4te d'Ivoire\", \"Israel\", \"Congo\", \"Sri Lanka\", \"El Salvador\", \"Bolivia (Plurinational State of)\", \"Paraguay\", \"Morocco\", \"Australia\", \"Cameroon\", \"Costa Rica\", \"Timor-Leste\", \"Ethiopia\", \"Rwanda\", \"Cuba\", \"Guyana\", \"Malawi\", \"Spain\", \"Lebanon\", \"Madagascar\", \"New Zealand\", \"Philippines\", \"Seychelles\", \"Argentina\"], \"name\": \"\", \"z\": [27452.0, 39629.0, 12100.0, 13621.0, 307.0, 214.0, 20652.0, 20652.0, 536.0, 163.0, 371.0, 8.0, 188723.0, 238.0, 274.0, null, 118.0, 41068.0, 165.0, 155.0, 30.0, null, 16460.0, 12996.0, 304.0, 30078.0, 43.0, 532.0, 77.0, 29884.0, 111.0, null, 45.0, 23530.0, 41.0, 12489.0, 4653.0, 517.0, 1754.0, 1.0, null, 2030.0, 8990.0, 1264.0, 11822.0, 5358.0, 8410.0, 1222.0, 2923.0, 1117.0, 2305.0, 1933.0, 3505.0, 11967.0, 16288.0, 3092.0, 377.0, 18021.0, 950.0, 224.0, 182.0, 19000.0, 11812.0, 1665.0, 3286.0, 3979.0, 5180.0, 1.0, 583.0], \"type\": \"choropleth\"}], \"name\": \"2017\"}, {\"data\": [{\"coloraxis\": \"coloraxis\", \"geo\": \"geo\", \"hovertemplate\": \"Year=2018<br>Country=%{location}<br>Area harvested (ha)=%{z}<extra></extra>\", \"locationmode\": \"country names\", \"locations\": [\"Saint Lucia\", \"Italy\", \"Slovenia\", \"Estonia\", \"Malta\", \"Hungary\", \"Denmark\", \"Dominica\", \"Germany\", \"Netherlands\", \"Slovakia\", \"Poland\", \"Bulgaria\", \"Belgium\", \"French Polynesia\", \"Lithuania\", \"Croatia\", \"Seychelles\", \"Czechia\", \"Luxembourg\", \"Tunisia\", \"Romania\", \"Cook Islands\", \"Sweden\", \"Ireland\", \"Austria\", \"Latvia\", \"Finland\", \"Micronesia (Federated States of)\", \"Mauritius\", \"Mexico\", \"Rwanda\", \"Trinidad and Tobago\", \"El Salvador\", \"New Zealand\", \"C\\u00f4te d'Ivoire\", \"Morocco\", \"Democratic Republic of the Congo\", \"Australia\", \"Cameroon\", \"Ethiopia\", \"Spain\", \"Malawi\", \"China, mainland\", \"China\", \"South Africa\", \"Israel\", \"Venezuela (Bolivarian Republic of)\", \"Guatemala\", \"United States of America\", \"Chile\", \"Kenya\", \"Brazil\", \"Haiti\", \"Indonesia\", \"Colombia\", \"Peru\", \"Dominican Republic\", \"Madagascar\", \"Sri Lanka\", \"Philippines\", \"Lebanon\", \"Barbados\", \"Palestine\", \"Cyprus\", \"Eswatini\", \"Bosnia and Herzegovina\", \"Honduras\", \"Bahamas\", \"Samoa\", \"Grenada\", \"Jamaica\", \"France\", \"Cuba\", \"Puerto Rico\", \"Turkey\", \"Timor-Leste\", \"Zimbabwe\", \"Greece\", \"Central African Republic\", \"Panama\", \"Guyana\", \"Ghana\", \"Congo\", \"Paraguay\", \"Bolivia (Plurinational State of)\", \"Costa Rica\", \"Ecuador\", \"Argentina\", \"Senegal\"], \"name\": \"\", \"z\": [50.0, 0.0, 0.0, 0.0, 0.0, 0.0, 0.0, 166.0, 0.0, 0.0, 0.0, 0.0, 0.0, 0.0, 8.0, 0.0, 0.0, 1.0, 0.0, 0.0, 30.0, 0.0, 1.0, 0.0, 0.0, 0.0, 0.0, 0.0, null, null, 206389.0, 152.0, 120.0, 800.0, 4575.0, 5398.0, 4449.0, 9026.0, 13447.0, 16292.0, 19759.0, 12160.0, 18000.0, 21583.0, 21583.0, 24029.0, 9408.0, 11792.0, 12750.0, 21710.0, 29166.0, 14497.0, 14325.0, 43773.0, 31106.0, 53801.0, 41171.0, 13924.0, 3309.0, 3213.0, 5180.0, 1581.0, 168.0, 49.0, 100.0, 160.0, 304.0, 301.0, 113.0, 46.0, 277.0, 367.0, 240.0, 209.0, 179.0, 556.0, 393.0, 910.0, 720.0, 1052.0, 1777.0, 449.0, 2068.0, 1251.0, 1797.0, 2302.0, 3000.0, 4309.0, 583.0, null], \"type\": \"choropleth\"}], \"name\": \"2018\"}]);\n",
       "                        }).then(function(){\n",
       "                            \n",
       "var gd = document.getElementById('afbd98ae-8b0c-4094-ba66-894b38239ff9');\n",
       "var x = new MutationObserver(function (mutations, observer) {{\n",
       "        var display = window.getComputedStyle(gd).display;\n",
       "        if (!display || display === 'none') {{\n",
       "            console.log([gd, 'removed!']);\n",
       "            Plotly.purge(gd);\n",
       "            observer.disconnect();\n",
       "        }}\n",
       "}});\n",
       "\n",
       "// Listen for the removal of the full notebook cells\n",
       "var notebookContainer = gd.closest('#notebook-container');\n",
       "if (notebookContainer) {{\n",
       "    x.observe(notebookContainer, {childList: true});\n",
       "}}\n",
       "\n",
       "// Listen for the clearing of the current output cell\n",
       "var outputEl = gd.closest('.output');\n",
       "if (outputEl) {{\n",
       "    x.observe(outputEl, {childList: true});\n",
       "}}\n",
       "\n",
       "                        })\n",
       "                };\n",
       "                });\n",
       "            </script>\n",
       "        </div>"
      ]
     },
     "metadata": {},
     "output_type": "display_data"
    }
   ],
   "source": [
    "import plotly.express as px  # Be sure to import express\n",
    "\n",
    "fig1 = px.choropleth(land,  # Input Pandas DataFrame\n",
    "                    locations=\"Country\",  # DataFrame column with locations\n",
    "                    color=\"Area harvested (ha)\", locationmode='country names', animation_frame=\"Year\") # DataFrame column with color values\n",
    "\n",
    "fig1.update_layout(\n",
    "    title_text = 'Land harvested from 2015 to 2018' # Create a Title\n",
    ")\n",
    "fig1.show()  # Output the plot to the screen"
   ]
  },
  {
   "cell_type": "code",
   "execution_count": 157,
   "id": "automated-cradle",
   "metadata": {
    "scrolled": true
   },
   "outputs": [
    {
     "data": {
      "application/vnd.plotly.v1+json": {
       "config": {
        "plotlyServerURL": "https://plot.ly"
       },
       "data": [
        {
         "coloraxis": "coloraxis",
         "geo": "geo",
         "hovertemplate": "Year=2015<br>Country=%{location}<br>Production (tonnes)=%{z}<extra></extra>",
         "locationmode": "country names",
         "locations": [
          "Dominica",
          "Seychelles",
          "Timor-Leste",
          "Argentina",
          "Cuba",
          "Israel",
          "Malawi",
          "Cook Islands",
          "Spain",
          "Haiti",
          "China, mainland",
          "China",
          "Madagascar",
          "Jamaica",
          "Turkey",
          "Zimbabwe",
          "Mauritius",
          "Guatemala",
          "South Africa",
          "Central African Republic",
          "Panama",
          "Philippines",
          "Sri Lanka",
          "New Zealand",
          "Paraguay",
          "Côte d'Ivoire",
          "Lebanon",
          "Costa Rica",
          "Bolivia (Plurinational State of)",
          "Morocco",
          "Australia",
          "Ethiopia",
          "Congo",
          "Rwanda",
          "Democratic Republic of the Congo",
          "El Salvador",
          "Ghana",
          "Cameroon",
          "Venezuela (Bolivarian Republic of)",
          "Honduras",
          "French Polynesia",
          "Ecuador",
          "Colombia",
          "Barbados",
          "Cyprus",
          "Eswatini",
          "Palestine",
          "Portugal",
          "France",
          "Senegal",
          "Dominican Republic",
          "Bosnia and Herzegovina",
          "United States of America",
          "Tunisia",
          "Peru",
          "Brazil",
          "Samoa",
          "Bahamas",
          "Indonesia",
          "Grenada",
          "Kenya",
          "Micronesia (Federated States of)",
          "Greece",
          "Mexico",
          "Guyana",
          "Chile",
          "Trinidad and Tobago",
          "Puerto Rico",
          "Saint Lucia"
         ],
         "name": "",
         "type": "choropleth",
         "z": [
          380,
          13,
          4444,
          4030,
          3357,
          93000,
          95337,
          21,
          86636,
          111931,
          119911,
          119911,
          26228,
          2533,
          1850,
          1700,
          null,
          115099,
          86189,
          7856,
          8115,
          19995,
          18000,
          29000,
          14032,
          35253,
          12327,
          12158,
          12032,
          42732,
          49397,
          59331,
          9298,
          9200,
          63275,
          9190,
          8802,
          71719,
          128601,
          1600,
          112,
          22597,
          309852,
          711,
          829,
          934,
          626,
          null,
          941,
          null,
          526438,
          1024,
          207750,
          318,
          367110,
          180652,
          1340,
          1332,
          382530,
          1553,
          136420,
          null,
          1542,
          1644226,
          460,
          160000,
          614,
          438,
          229
         ]
        }
       ],
       "frames": [
        {
         "data": [
          {
           "coloraxis": "coloraxis",
           "geo": "geo",
           "hovertemplate": "Year=2015<br>Country=%{location}<br>Production (tonnes)=%{z}<extra></extra>",
           "locationmode": "country names",
           "locations": [
            "Dominica",
            "Seychelles",
            "Timor-Leste",
            "Argentina",
            "Cuba",
            "Israel",
            "Malawi",
            "Cook Islands",
            "Spain",
            "Haiti",
            "China, mainland",
            "China",
            "Madagascar",
            "Jamaica",
            "Turkey",
            "Zimbabwe",
            "Mauritius",
            "Guatemala",
            "South Africa",
            "Central African Republic",
            "Panama",
            "Philippines",
            "Sri Lanka",
            "New Zealand",
            "Paraguay",
            "Côte d'Ivoire",
            "Lebanon",
            "Costa Rica",
            "Bolivia (Plurinational State of)",
            "Morocco",
            "Australia",
            "Ethiopia",
            "Congo",
            "Rwanda",
            "Democratic Republic of the Congo",
            "El Salvador",
            "Ghana",
            "Cameroon",
            "Venezuela (Bolivarian Republic of)",
            "Honduras",
            "French Polynesia",
            "Ecuador",
            "Colombia",
            "Barbados",
            "Cyprus",
            "Eswatini",
            "Palestine",
            "Portugal",
            "France",
            "Senegal",
            "Dominican Republic",
            "Bosnia and Herzegovina",
            "United States of America",
            "Tunisia",
            "Peru",
            "Brazil",
            "Samoa",
            "Bahamas",
            "Indonesia",
            "Grenada",
            "Kenya",
            "Micronesia (Federated States of)",
            "Greece",
            "Mexico",
            "Guyana",
            "Chile",
            "Trinidad and Tobago",
            "Puerto Rico",
            "Saint Lucia"
           ],
           "name": "",
           "type": "choropleth",
           "z": [
            380,
            13,
            4444,
            4030,
            3357,
            93000,
            95337,
            21,
            86636,
            111931,
            119911,
            119911,
            26228,
            2533,
            1850,
            1700,
            null,
            115099,
            86189,
            7856,
            8115,
            19995,
            18000,
            29000,
            14032,
            35253,
            12327,
            12158,
            12032,
            42732,
            49397,
            59331,
            9298,
            9200,
            63275,
            9190,
            8802,
            71719,
            128601,
            1600,
            112,
            22597,
            309852,
            711,
            829,
            934,
            626,
            null,
            941,
            null,
            526438,
            1024,
            207750,
            318,
            367110,
            180652,
            1340,
            1332,
            382530,
            1553,
            136420,
            null,
            1542,
            1644226,
            460,
            160000,
            614,
            438,
            229
           ]
          }
         ],
         "name": "2015"
        },
        {
         "data": [
          {
           "coloraxis": "coloraxis",
           "geo": "geo",
           "hovertemplate": "Year=2016<br>Country=%{location}<br>Production (tonnes)=%{z}<extra></extra>",
           "locationmode": "country names",
           "locations": [
            "Rwanda",
            "Barbados",
            "Congo",
            "El Salvador",
            "Paraguay",
            "Lebanon",
            "Trinidad and Tobago",
            "Costa Rica",
            "Dominica",
            "Sri Lanka",
            "Bolivia (Plurinational State of)",
            "Puerto Rico",
            "Palestine",
            "Philippines",
            "Grenada",
            "Ghana",
            "Greece",
            "Zimbabwe",
            "France",
            "Turkey",
            "Jamaica",
            "Saint Lucia",
            "Guyana",
            "Samoa",
            "Bahamas",
            "Cyprus",
            "Honduras",
            "Bosnia and Herzegovina",
            "Argentina",
            "Timor-Leste",
            "Tunisia",
            "Seychelles",
            "French Polynesia",
            "Eswatini",
            "Panama",
            "Central African Republic",
            "Cuba",
            "Cook Islands",
            "Ecuador",
            "Chile",
            "Morocco",
            "Brazil",
            "Kenya",
            "Democratic Republic of the Congo",
            "Ethiopia",
            "Australia",
            "Micronesia (Federated States of)",
            "Haiti",
            "Colombia",
            "Cameroon",
            "Venezuela (Bolivarian Republic of)",
            "Malawi",
            "United States of America",
            "South Africa",
            "Spain",
            "China",
            "Israel",
            "China, mainland",
            "Mauritius",
            "Indonesia",
            "Guatemala",
            "Peru",
            "Madagascar",
            "Dominican Republic",
            "Mexico",
            "New Zealand",
            "Côte d'Ivoire",
            "Portugal",
            "Senegal"
           ],
           "name": "",
           "type": "choropleth",
           "z": [
            9296,
            743,
            9563,
            10537,
            12789,
            18695,
            621,
            12368,
            380,
            15651,
            12497,
            538,
            669,
            19572,
            1557,
            9059,
            1731,
            1800,
            1926,
            1950,
            2453,
            245,
            1383,
            1351,
            1344,
            810,
            2960,
            1048,
            4069,
            4560,
            322,
            13,
            120,
            910,
            8195,
            8800,
            3197,
            5,
            16118,
            179000,
            42256,
            196545,
            176045,
            63320,
            64982,
            67600,
            null,
            146517,
            294389,
            72921,
            130635,
            86769,
            125237,
            89546,
            91509,
            123214,
            101500,
            123214,
            null,
            304938,
            122184,
            455394,
            26333,
            601349,
            1889354,
            35000,
            36296,
            null,
            null
           ]
          }
         ],
         "name": "2016"
        },
        {
         "data": [
          {
           "coloraxis": "coloraxis",
           "geo": "geo",
           "hovertemplate": "Year=2017<br>Country=%{location}<br>Production (tonnes)=%{z}<extra></extra>",
           "locationmode": "country names",
           "locations": [
            "Indonesia",
            "Peru",
            "Guatemala",
            "Dominican Republic",
            "Greece",
            "Puerto Rico",
            "China",
            "China, mainland",
            "Honduras",
            "Dominica",
            "Jamaica",
            "French Polynesia",
            "Mexico",
            "France",
            "Grenada",
            "Mauritius",
            "Trinidad and Tobago",
            "Colombia",
            "Barbados",
            "Eswatini",
            "Tunisia",
            "Micronesia (Federated States of)",
            "Kenya",
            "Brazil",
            "Bosnia and Herzegovina",
            "Chile",
            "Saint Lucia",
            "Turkey",
            "Cyprus",
            "Haiti",
            "Bahamas",
            "Portugal",
            "Samoa",
            "United States of America",
            "Palestine",
            "Venezuela (Bolivarian Republic of)",
            "Ecuador",
            "Zimbabwe",
            "Panama",
            "Cook Islands",
            "Senegal",
            "Ghana",
            "Democratic Republic of the Congo",
            "Central African Republic",
            "South Africa",
            "Côte d'Ivoire",
            "Israel",
            "Congo",
            "Sri Lanka",
            "El Salvador",
            "Bolivia (Plurinational State of)",
            "Paraguay",
            "Morocco",
            "Australia",
            "Cameroon",
            "Costa Rica",
            "Timor-Leste",
            "Ethiopia",
            "Rwanda",
            "Cuba",
            "Guyana",
            "Malawi",
            "Spain",
            "Lebanon",
            "Madagascar",
            "New Zealand",
            "Philippines",
            "Seychelles",
            "Argentina"
           ],
           "name": "",
           "type": "choropleth",
           "z": [
            363157,
            466796,
            127480,
            637688,
            1756,
            606,
            124528,
            124528,
            2153,
            373,
            2405,
            117,
            2029886,
            2568,
            1556,
            null,
            634,
            308166,
            759,
            938,
            328,
            null,
            217688,
            212873,
            1051,
            200000,
            287,
            2765,
            717,
            174457,
            1368,
            null,
            1377,
            170260,
            708,
            143229,
            20995,
            3000,
            8276,
            3,
            null,
            9170,
            63149,
            9217,
            63045,
            37218,
            110000,
            9817,
            13773,
            36088,
            12509,
            11795,
            41695,
            56501,
            73525,
            12368,
            4712,
            81432,
            6912,
            3019,
            5874,
            97358,
            92936,
            19193,
            26495,
            27000,
            19440,
            13,
            4092
           ]
          }
         ],
         "name": "2017"
        },
        {
         "data": [
          {
           "coloraxis": "coloraxis",
           "geo": "geo",
           "hovertemplate": "Year=2018<br>Country=%{location}<br>Production (tonnes)=%{z}<extra></extra>",
           "locationmode": "country names",
           "locations": [
            "Saint Lucia",
            "Italy",
            "Slovenia",
            "Estonia",
            "Malta",
            "Hungary",
            "Denmark",
            "Dominica",
            "Germany",
            "Netherlands",
            "Slovakia",
            "Poland",
            "Bulgaria",
            "Belgium",
            "French Polynesia",
            "Lithuania",
            "Croatia",
            "Seychelles",
            "Czechia",
            "Luxembourg",
            "Tunisia",
            "Romania",
            "Cook Islands",
            "Sweden",
            "Ireland",
            "Austria",
            "Latvia",
            "Finland",
            "Micronesia (Federated States of)",
            "Mauritius",
            "Mexico",
            "Rwanda",
            "Trinidad and Tobago",
            "El Salvador",
            "New Zealand",
            "Côte d'Ivoire",
            "Morocco",
            "Democratic Republic of the Congo",
            "Australia",
            "Cameroon",
            "Ethiopia",
            "Spain",
            "Malawi",
            "China, mainland",
            "China",
            "South Africa",
            "Israel",
            "Venezuela (Bolivarian Republic of)",
            "Guatemala",
            "United States of America",
            "Chile",
            "Kenya",
            "Brazil",
            "Haiti",
            "Indonesia",
            "Colombia",
            "Peru",
            "Dominican Republic",
            "Madagascar",
            "Sri Lanka",
            "Philippines",
            "Lebanon",
            "Barbados",
            "Palestine",
            "Cyprus",
            "Eswatini",
            "Bosnia and Herzegovina",
            "Honduras",
            "Bahamas",
            "Samoa",
            "Grenada",
            "Jamaica",
            "France",
            "Cuba",
            "Puerto Rico",
            "Turkey",
            "Timor-Leste",
            "Zimbabwe",
            "Greece",
            "Central African Republic",
            "Panama",
            "Guyana",
            "Ghana",
            "Congo",
            "Paraguay",
            "Bolivia (Plurinational State of)",
            "Costa Rica",
            "Ecuador",
            "Argentina",
            "Senegal"
           ],
           "name": "",
           "type": "choropleth",
           "z": [
            335,
            0,
            0,
            0,
            0,
            0,
            0,
            367,
            0,
            0,
            0,
            0,
            0,
            0,
            118,
            0,
            0,
            13,
            0,
            0,
            333,
            0,
            3,
            0,
            0,
            0,
            0,
            0,
            null,
            null,
            2184663,
            8597,
            648,
            31227,
            32477,
            38139,
            51170,
            63022,
            63486,
            74101,
            84794,
            89590,
            92239,
            126919,
            126919,
            127568,
            131720,
            132082,
            134353,
            168530,
            170013,
            233933,
            236177,
            254825,
            410084,
            445075,
            504532,
            644306,
            26656,
            22744,
            19443,
            18727,
            773,
            800,
            950,
            966,
            1051,
            1243,
            1393,
            1402,
            1556,
            2363,
            2460,
            2861,
            520,
            3164,
            4863,
            5300,
            6530,
            8063,
            8448,
            8586,
            9289,
            10072,
            11002,
            12452,
            15000,
            18232,
            4115,
            null
           ]
          }
         ],
         "name": "2018"
        }
       ],
       "layout": {
        "coloraxis": {
         "colorbar": {
          "title": {
           "text": "Production (tonnes)"
          }
         },
         "colorscale": [
          [
           0,
           "#0d0887"
          ],
          [
           0.1111111111111111,
           "#46039f"
          ],
          [
           0.2222222222222222,
           "#7201a8"
          ],
          [
           0.3333333333333333,
           "#9c179e"
          ],
          [
           0.4444444444444444,
           "#bd3786"
          ],
          [
           0.5555555555555556,
           "#d8576b"
          ],
          [
           0.6666666666666666,
           "#ed7953"
          ],
          [
           0.7777777777777778,
           "#fb9f3a"
          ],
          [
           0.8888888888888888,
           "#fdca26"
          ],
          [
           1,
           "#f0f921"
          ]
         ]
        },
        "geo": {
         "center": {},
         "domain": {
          "x": [
           0,
           1
          ],
          "y": [
           0,
           1
          ]
         }
        },
        "legend": {
         "tracegroupgap": 0
        },
        "margin": {
         "t": 60
        },
        "sliders": [
         {
          "active": 0,
          "currentvalue": {
           "prefix": "Year="
          },
          "len": 0.9,
          "pad": {
           "b": 10,
           "t": 60
          },
          "steps": [
           {
            "args": [
             [
              "2015"
             ],
             {
              "frame": {
               "duration": 0,
               "redraw": true
              },
              "fromcurrent": true,
              "mode": "immediate",
              "transition": {
               "duration": 0,
               "easing": "linear"
              }
             }
            ],
            "label": "2015",
            "method": "animate"
           },
           {
            "args": [
             [
              "2016"
             ],
             {
              "frame": {
               "duration": 0,
               "redraw": true
              },
              "fromcurrent": true,
              "mode": "immediate",
              "transition": {
               "duration": 0,
               "easing": "linear"
              }
             }
            ],
            "label": "2016",
            "method": "animate"
           },
           {
            "args": [
             [
              "2017"
             ],
             {
              "frame": {
               "duration": 0,
               "redraw": true
              },
              "fromcurrent": true,
              "mode": "immediate",
              "transition": {
               "duration": 0,
               "easing": "linear"
              }
             }
            ],
            "label": "2017",
            "method": "animate"
           },
           {
            "args": [
             [
              "2018"
             ],
             {
              "frame": {
               "duration": 0,
               "redraw": true
              },
              "fromcurrent": true,
              "mode": "immediate",
              "transition": {
               "duration": 0,
               "easing": "linear"
              }
             }
            ],
            "label": "2018",
            "method": "animate"
           }
          ],
          "x": 0.1,
          "xanchor": "left",
          "y": 0,
          "yanchor": "top"
         }
        ],
        "template": {
         "data": {
          "bar": [
           {
            "error_x": {
             "color": "#2a3f5f"
            },
            "error_y": {
             "color": "#2a3f5f"
            },
            "marker": {
             "line": {
              "color": "#E5ECF6",
              "width": 0.5
             }
            },
            "type": "bar"
           }
          ],
          "barpolar": [
           {
            "marker": {
             "line": {
              "color": "#E5ECF6",
              "width": 0.5
             }
            },
            "type": "barpolar"
           }
          ],
          "carpet": [
           {
            "aaxis": {
             "endlinecolor": "#2a3f5f",
             "gridcolor": "white",
             "linecolor": "white",
             "minorgridcolor": "white",
             "startlinecolor": "#2a3f5f"
            },
            "baxis": {
             "endlinecolor": "#2a3f5f",
             "gridcolor": "white",
             "linecolor": "white",
             "minorgridcolor": "white",
             "startlinecolor": "#2a3f5f"
            },
            "type": "carpet"
           }
          ],
          "choropleth": [
           {
            "colorbar": {
             "outlinewidth": 0,
             "ticks": ""
            },
            "type": "choropleth"
           }
          ],
          "contour": [
           {
            "colorbar": {
             "outlinewidth": 0,
             "ticks": ""
            },
            "colorscale": [
             [
              0,
              "#0d0887"
             ],
             [
              0.1111111111111111,
              "#46039f"
             ],
             [
              0.2222222222222222,
              "#7201a8"
             ],
             [
              0.3333333333333333,
              "#9c179e"
             ],
             [
              0.4444444444444444,
              "#bd3786"
             ],
             [
              0.5555555555555556,
              "#d8576b"
             ],
             [
              0.6666666666666666,
              "#ed7953"
             ],
             [
              0.7777777777777778,
              "#fb9f3a"
             ],
             [
              0.8888888888888888,
              "#fdca26"
             ],
             [
              1,
              "#f0f921"
             ]
            ],
            "type": "contour"
           }
          ],
          "contourcarpet": [
           {
            "colorbar": {
             "outlinewidth": 0,
             "ticks": ""
            },
            "type": "contourcarpet"
           }
          ],
          "heatmap": [
           {
            "colorbar": {
             "outlinewidth": 0,
             "ticks": ""
            },
            "colorscale": [
             [
              0,
              "#0d0887"
             ],
             [
              0.1111111111111111,
              "#46039f"
             ],
             [
              0.2222222222222222,
              "#7201a8"
             ],
             [
              0.3333333333333333,
              "#9c179e"
             ],
             [
              0.4444444444444444,
              "#bd3786"
             ],
             [
              0.5555555555555556,
              "#d8576b"
             ],
             [
              0.6666666666666666,
              "#ed7953"
             ],
             [
              0.7777777777777778,
              "#fb9f3a"
             ],
             [
              0.8888888888888888,
              "#fdca26"
             ],
             [
              1,
              "#f0f921"
             ]
            ],
            "type": "heatmap"
           }
          ],
          "heatmapgl": [
           {
            "colorbar": {
             "outlinewidth": 0,
             "ticks": ""
            },
            "colorscale": [
             [
              0,
              "#0d0887"
             ],
             [
              0.1111111111111111,
              "#46039f"
             ],
             [
              0.2222222222222222,
              "#7201a8"
             ],
             [
              0.3333333333333333,
              "#9c179e"
             ],
             [
              0.4444444444444444,
              "#bd3786"
             ],
             [
              0.5555555555555556,
              "#d8576b"
             ],
             [
              0.6666666666666666,
              "#ed7953"
             ],
             [
              0.7777777777777778,
              "#fb9f3a"
             ],
             [
              0.8888888888888888,
              "#fdca26"
             ],
             [
              1,
              "#f0f921"
             ]
            ],
            "type": "heatmapgl"
           }
          ],
          "histogram": [
           {
            "marker": {
             "colorbar": {
              "outlinewidth": 0,
              "ticks": ""
             }
            },
            "type": "histogram"
           }
          ],
          "histogram2d": [
           {
            "colorbar": {
             "outlinewidth": 0,
             "ticks": ""
            },
            "colorscale": [
             [
              0,
              "#0d0887"
             ],
             [
              0.1111111111111111,
              "#46039f"
             ],
             [
              0.2222222222222222,
              "#7201a8"
             ],
             [
              0.3333333333333333,
              "#9c179e"
             ],
             [
              0.4444444444444444,
              "#bd3786"
             ],
             [
              0.5555555555555556,
              "#d8576b"
             ],
             [
              0.6666666666666666,
              "#ed7953"
             ],
             [
              0.7777777777777778,
              "#fb9f3a"
             ],
             [
              0.8888888888888888,
              "#fdca26"
             ],
             [
              1,
              "#f0f921"
             ]
            ],
            "type": "histogram2d"
           }
          ],
          "histogram2dcontour": [
           {
            "colorbar": {
             "outlinewidth": 0,
             "ticks": ""
            },
            "colorscale": [
             [
              0,
              "#0d0887"
             ],
             [
              0.1111111111111111,
              "#46039f"
             ],
             [
              0.2222222222222222,
              "#7201a8"
             ],
             [
              0.3333333333333333,
              "#9c179e"
             ],
             [
              0.4444444444444444,
              "#bd3786"
             ],
             [
              0.5555555555555556,
              "#d8576b"
             ],
             [
              0.6666666666666666,
              "#ed7953"
             ],
             [
              0.7777777777777778,
              "#fb9f3a"
             ],
             [
              0.8888888888888888,
              "#fdca26"
             ],
             [
              1,
              "#f0f921"
             ]
            ],
            "type": "histogram2dcontour"
           }
          ],
          "mesh3d": [
           {
            "colorbar": {
             "outlinewidth": 0,
             "ticks": ""
            },
            "type": "mesh3d"
           }
          ],
          "parcoords": [
           {
            "line": {
             "colorbar": {
              "outlinewidth": 0,
              "ticks": ""
             }
            },
            "type": "parcoords"
           }
          ],
          "pie": [
           {
            "automargin": true,
            "type": "pie"
           }
          ],
          "scatter": [
           {
            "marker": {
             "colorbar": {
              "outlinewidth": 0,
              "ticks": ""
             }
            },
            "type": "scatter"
           }
          ],
          "scatter3d": [
           {
            "line": {
             "colorbar": {
              "outlinewidth": 0,
              "ticks": ""
             }
            },
            "marker": {
             "colorbar": {
              "outlinewidth": 0,
              "ticks": ""
             }
            },
            "type": "scatter3d"
           }
          ],
          "scattercarpet": [
           {
            "marker": {
             "colorbar": {
              "outlinewidth": 0,
              "ticks": ""
             }
            },
            "type": "scattercarpet"
           }
          ],
          "scattergeo": [
           {
            "marker": {
             "colorbar": {
              "outlinewidth": 0,
              "ticks": ""
             }
            },
            "type": "scattergeo"
           }
          ],
          "scattergl": [
           {
            "marker": {
             "colorbar": {
              "outlinewidth": 0,
              "ticks": ""
             }
            },
            "type": "scattergl"
           }
          ],
          "scattermapbox": [
           {
            "marker": {
             "colorbar": {
              "outlinewidth": 0,
              "ticks": ""
             }
            },
            "type": "scattermapbox"
           }
          ],
          "scatterpolar": [
           {
            "marker": {
             "colorbar": {
              "outlinewidth": 0,
              "ticks": ""
             }
            },
            "type": "scatterpolar"
           }
          ],
          "scatterpolargl": [
           {
            "marker": {
             "colorbar": {
              "outlinewidth": 0,
              "ticks": ""
             }
            },
            "type": "scatterpolargl"
           }
          ],
          "scatterternary": [
           {
            "marker": {
             "colorbar": {
              "outlinewidth": 0,
              "ticks": ""
             }
            },
            "type": "scatterternary"
           }
          ],
          "surface": [
           {
            "colorbar": {
             "outlinewidth": 0,
             "ticks": ""
            },
            "colorscale": [
             [
              0,
              "#0d0887"
             ],
             [
              0.1111111111111111,
              "#46039f"
             ],
             [
              0.2222222222222222,
              "#7201a8"
             ],
             [
              0.3333333333333333,
              "#9c179e"
             ],
             [
              0.4444444444444444,
              "#bd3786"
             ],
             [
              0.5555555555555556,
              "#d8576b"
             ],
             [
              0.6666666666666666,
              "#ed7953"
             ],
             [
              0.7777777777777778,
              "#fb9f3a"
             ],
             [
              0.8888888888888888,
              "#fdca26"
             ],
             [
              1,
              "#f0f921"
             ]
            ],
            "type": "surface"
           }
          ],
          "table": [
           {
            "cells": {
             "fill": {
              "color": "#EBF0F8"
             },
             "line": {
              "color": "white"
             }
            },
            "header": {
             "fill": {
              "color": "#C8D4E3"
             },
             "line": {
              "color": "white"
             }
            },
            "type": "table"
           }
          ]
         },
         "layout": {
          "annotationdefaults": {
           "arrowcolor": "#2a3f5f",
           "arrowhead": 0,
           "arrowwidth": 1
          },
          "coloraxis": {
           "colorbar": {
            "outlinewidth": 0,
            "ticks": ""
           }
          },
          "colorscale": {
           "diverging": [
            [
             0,
             "#8e0152"
            ],
            [
             0.1,
             "#c51b7d"
            ],
            [
             0.2,
             "#de77ae"
            ],
            [
             0.3,
             "#f1b6da"
            ],
            [
             0.4,
             "#fde0ef"
            ],
            [
             0.5,
             "#f7f7f7"
            ],
            [
             0.6,
             "#e6f5d0"
            ],
            [
             0.7,
             "#b8e186"
            ],
            [
             0.8,
             "#7fbc41"
            ],
            [
             0.9,
             "#4d9221"
            ],
            [
             1,
             "#276419"
            ]
           ],
           "sequential": [
            [
             0,
             "#0d0887"
            ],
            [
             0.1111111111111111,
             "#46039f"
            ],
            [
             0.2222222222222222,
             "#7201a8"
            ],
            [
             0.3333333333333333,
             "#9c179e"
            ],
            [
             0.4444444444444444,
             "#bd3786"
            ],
            [
             0.5555555555555556,
             "#d8576b"
            ],
            [
             0.6666666666666666,
             "#ed7953"
            ],
            [
             0.7777777777777778,
             "#fb9f3a"
            ],
            [
             0.8888888888888888,
             "#fdca26"
            ],
            [
             1,
             "#f0f921"
            ]
           ],
           "sequentialminus": [
            [
             0,
             "#0d0887"
            ],
            [
             0.1111111111111111,
             "#46039f"
            ],
            [
             0.2222222222222222,
             "#7201a8"
            ],
            [
             0.3333333333333333,
             "#9c179e"
            ],
            [
             0.4444444444444444,
             "#bd3786"
            ],
            [
             0.5555555555555556,
             "#d8576b"
            ],
            [
             0.6666666666666666,
             "#ed7953"
            ],
            [
             0.7777777777777778,
             "#fb9f3a"
            ],
            [
             0.8888888888888888,
             "#fdca26"
            ],
            [
             1,
             "#f0f921"
            ]
           ]
          },
          "colorway": [
           "#636efa",
           "#EF553B",
           "#00cc96",
           "#ab63fa",
           "#FFA15A",
           "#19d3f3",
           "#FF6692",
           "#B6E880",
           "#FF97FF",
           "#FECB52"
          ],
          "font": {
           "color": "#2a3f5f"
          },
          "geo": {
           "bgcolor": "white",
           "lakecolor": "white",
           "landcolor": "#E5ECF6",
           "showlakes": true,
           "showland": true,
           "subunitcolor": "white"
          },
          "hoverlabel": {
           "align": "left"
          },
          "hovermode": "closest",
          "mapbox": {
           "style": "light"
          },
          "paper_bgcolor": "white",
          "plot_bgcolor": "#E5ECF6",
          "polar": {
           "angularaxis": {
            "gridcolor": "white",
            "linecolor": "white",
            "ticks": ""
           },
           "bgcolor": "#E5ECF6",
           "radialaxis": {
            "gridcolor": "white",
            "linecolor": "white",
            "ticks": ""
           }
          },
          "scene": {
           "xaxis": {
            "backgroundcolor": "#E5ECF6",
            "gridcolor": "white",
            "gridwidth": 2,
            "linecolor": "white",
            "showbackground": true,
            "ticks": "",
            "zerolinecolor": "white"
           },
           "yaxis": {
            "backgroundcolor": "#E5ECF6",
            "gridcolor": "white",
            "gridwidth": 2,
            "linecolor": "white",
            "showbackground": true,
            "ticks": "",
            "zerolinecolor": "white"
           },
           "zaxis": {
            "backgroundcolor": "#E5ECF6",
            "gridcolor": "white",
            "gridwidth": 2,
            "linecolor": "white",
            "showbackground": true,
            "ticks": "",
            "zerolinecolor": "white"
           }
          },
          "shapedefaults": {
           "line": {
            "color": "#2a3f5f"
           }
          },
          "ternary": {
           "aaxis": {
            "gridcolor": "white",
            "linecolor": "white",
            "ticks": ""
           },
           "baxis": {
            "gridcolor": "white",
            "linecolor": "white",
            "ticks": ""
           },
           "bgcolor": "#E5ECF6",
           "caxis": {
            "gridcolor": "white",
            "linecolor": "white",
            "ticks": ""
           }
          },
          "title": {
           "x": 0.05
          },
          "xaxis": {
           "automargin": true,
           "gridcolor": "white",
           "linecolor": "white",
           "ticks": "",
           "title": {
            "standoff": 15
           },
           "zerolinecolor": "white",
           "zerolinewidth": 2
          },
          "yaxis": {
           "automargin": true,
           "gridcolor": "white",
           "linecolor": "white",
           "ticks": "",
           "title": {
            "standoff": 15
           },
           "zerolinecolor": "white",
           "zerolinewidth": 2
          }
         }
        },
        "title": {
         "text": "Avocado Production from 2015 to 2018"
        },
        "updatemenus": [
         {
          "buttons": [
           {
            "args": [
             null,
             {
              "frame": {
               "duration": 500,
               "redraw": true
              },
              "fromcurrent": true,
              "mode": "immediate",
              "transition": {
               "duration": 500,
               "easing": "linear"
              }
             }
            ],
            "label": "&#9654;",
            "method": "animate"
           },
           {
            "args": [
             [
              null
             ],
             {
              "frame": {
               "duration": 0,
               "redraw": true
              },
              "fromcurrent": true,
              "mode": "immediate",
              "transition": {
               "duration": 0,
               "easing": "linear"
              }
             }
            ],
            "label": "&#9724;",
            "method": "animate"
           }
          ],
          "direction": "left",
          "pad": {
           "r": 10,
           "t": 70
          },
          "showactive": false,
          "type": "buttons",
          "x": 0.1,
          "xanchor": "right",
          "y": 0,
          "yanchor": "top"
         }
        ]
       }
      },
      "text/html": [
       "<div>\n",
       "        \n",
       "        \n",
       "            <div id=\"e26bfd14-38c4-462b-ab42-291e9661f6c3\" class=\"plotly-graph-div\" style=\"height:525px; width:100%;\"></div>\n",
       "            <script type=\"text/javascript\">\n",
       "                require([\"plotly\"], function(Plotly) {\n",
       "                    window.PLOTLYENV=window.PLOTLYENV || {};\n",
       "                    \n",
       "                if (document.getElementById(\"e26bfd14-38c4-462b-ab42-291e9661f6c3\")) {\n",
       "                    Plotly.newPlot(\n",
       "                        'e26bfd14-38c4-462b-ab42-291e9661f6c3',\n",
       "                        [{\"coloraxis\": \"coloraxis\", \"geo\": \"geo\", \"hovertemplate\": \"Year=2015<br>Country=%{location}<br>Production (tonnes)=%{z}<extra></extra>\", \"locationmode\": \"country names\", \"locations\": [\"Dominica\", \"Seychelles\", \"Timor-Leste\", \"Argentina\", \"Cuba\", \"Israel\", \"Malawi\", \"Cook Islands\", \"Spain\", \"Haiti\", \"China, mainland\", \"China\", \"Madagascar\", \"Jamaica\", \"Turkey\", \"Zimbabwe\", \"Mauritius\", \"Guatemala\", \"South Africa\", \"Central African Republic\", \"Panama\", \"Philippines\", \"Sri Lanka\", \"New Zealand\", \"Paraguay\", \"C\\u00f4te d'Ivoire\", \"Lebanon\", \"Costa Rica\", \"Bolivia (Plurinational State of)\", \"Morocco\", \"Australia\", \"Ethiopia\", \"Congo\", \"Rwanda\", \"Democratic Republic of the Congo\", \"El Salvador\", \"Ghana\", \"Cameroon\", \"Venezuela (Bolivarian Republic of)\", \"Honduras\", \"French Polynesia\", \"Ecuador\", \"Colombia\", \"Barbados\", \"Cyprus\", \"Eswatini\", \"Palestine\", \"Portugal\", \"France\", \"Senegal\", \"Dominican Republic\", \"Bosnia and Herzegovina\", \"United States of America\", \"Tunisia\", \"Peru\", \"Brazil\", \"Samoa\", \"Bahamas\", \"Indonesia\", \"Grenada\", \"Kenya\", \"Micronesia (Federated States of)\", \"Greece\", \"Mexico\", \"Guyana\", \"Chile\", \"Trinidad and Tobago\", \"Puerto Rico\", \"Saint Lucia\"], \"name\": \"\", \"type\": \"choropleth\", \"z\": [380.0, 13.0, 4444.0, 4030.0, 3357.0, 93000.0, 95337.0, 21.0, 86636.0, 111931.0, 119911.0, 119911.0, 26228.0, 2533.0, 1850.0, 1700.0, null, 115099.0, 86189.0, 7856.0, 8115.0, 19995.0, 18000.0, 29000.0, 14032.0, 35253.0, 12327.0, 12158.0, 12032.0, 42732.0, 49397.0, 59331.0, 9298.0, 9200.0, 63275.0, 9190.0, 8802.0, 71719.0, 128601.0, 1600.0, 112.0, 22597.0, 309852.0, 711.0, 829.0, 934.0, 626.0, null, 941.0, null, 526438.0, 1024.0, 207750.0, 318.0, 367110.0, 180652.0, 1340.0, 1332.0, 382530.0, 1553.0, 136420.0, null, 1542.0, 1644226.0, 460.0, 160000.0, 614.0, 438.0, 229.0]}],\n",
       "                        {\"coloraxis\": {\"colorbar\": {\"title\": {\"text\": \"Production (tonnes)\"}}, \"colorscale\": [[0.0, \"#0d0887\"], [0.1111111111111111, \"#46039f\"], [0.2222222222222222, \"#7201a8\"], [0.3333333333333333, \"#9c179e\"], [0.4444444444444444, \"#bd3786\"], [0.5555555555555556, \"#d8576b\"], [0.6666666666666666, \"#ed7953\"], [0.7777777777777778, \"#fb9f3a\"], [0.8888888888888888, \"#fdca26\"], [1.0, \"#f0f921\"]]}, \"geo\": {\"center\": {}, \"domain\": {\"x\": [0.0, 1.0], \"y\": [0.0, 1.0]}}, \"legend\": {\"tracegroupgap\": 0}, \"margin\": {\"t\": 60}, \"sliders\": [{\"active\": 0, \"currentvalue\": {\"prefix\": \"Year=\"}, \"len\": 0.9, \"pad\": {\"b\": 10, \"t\": 60}, \"steps\": [{\"args\": [[\"2015\"], {\"frame\": {\"duration\": 0, \"redraw\": true}, \"fromcurrent\": true, \"mode\": \"immediate\", \"transition\": {\"duration\": 0, \"easing\": \"linear\"}}], \"label\": \"2015\", \"method\": \"animate\"}, {\"args\": [[\"2016\"], {\"frame\": {\"duration\": 0, \"redraw\": true}, \"fromcurrent\": true, \"mode\": \"immediate\", \"transition\": {\"duration\": 0, \"easing\": \"linear\"}}], \"label\": \"2016\", \"method\": \"animate\"}, {\"args\": [[\"2017\"], {\"frame\": {\"duration\": 0, \"redraw\": true}, \"fromcurrent\": true, \"mode\": \"immediate\", \"transition\": {\"duration\": 0, \"easing\": \"linear\"}}], \"label\": \"2017\", \"method\": \"animate\"}, {\"args\": [[\"2018\"], {\"frame\": {\"duration\": 0, \"redraw\": true}, \"fromcurrent\": true, \"mode\": \"immediate\", \"transition\": {\"duration\": 0, \"easing\": \"linear\"}}], \"label\": \"2018\", \"method\": \"animate\"}], \"x\": 0.1, \"xanchor\": \"left\", \"y\": 0, \"yanchor\": \"top\"}], \"template\": {\"data\": {\"bar\": [{\"error_x\": {\"color\": \"#2a3f5f\"}, \"error_y\": {\"color\": \"#2a3f5f\"}, \"marker\": {\"line\": {\"color\": \"#E5ECF6\", \"width\": 0.5}}, \"type\": \"bar\"}], \"barpolar\": [{\"marker\": {\"line\": {\"color\": \"#E5ECF6\", \"width\": 0.5}}, \"type\": \"barpolar\"}], \"carpet\": [{\"aaxis\": {\"endlinecolor\": \"#2a3f5f\", \"gridcolor\": \"white\", \"linecolor\": \"white\", \"minorgridcolor\": \"white\", \"startlinecolor\": \"#2a3f5f\"}, \"baxis\": {\"endlinecolor\": \"#2a3f5f\", \"gridcolor\": \"white\", \"linecolor\": \"white\", \"minorgridcolor\": \"white\", \"startlinecolor\": \"#2a3f5f\"}, \"type\": \"carpet\"}], \"choropleth\": [{\"colorbar\": {\"outlinewidth\": 0, \"ticks\": \"\"}, \"type\": \"choropleth\"}], \"contour\": [{\"colorbar\": {\"outlinewidth\": 0, \"ticks\": \"\"}, \"colorscale\": [[0.0, \"#0d0887\"], [0.1111111111111111, \"#46039f\"], [0.2222222222222222, \"#7201a8\"], [0.3333333333333333, \"#9c179e\"], [0.4444444444444444, \"#bd3786\"], [0.5555555555555556, \"#d8576b\"], [0.6666666666666666, \"#ed7953\"], [0.7777777777777778, \"#fb9f3a\"], [0.8888888888888888, \"#fdca26\"], [1.0, \"#f0f921\"]], \"type\": \"contour\"}], \"contourcarpet\": [{\"colorbar\": {\"outlinewidth\": 0, \"ticks\": \"\"}, \"type\": \"contourcarpet\"}], \"heatmap\": [{\"colorbar\": {\"outlinewidth\": 0, \"ticks\": \"\"}, \"colorscale\": [[0.0, \"#0d0887\"], [0.1111111111111111, \"#46039f\"], [0.2222222222222222, \"#7201a8\"], [0.3333333333333333, \"#9c179e\"], [0.4444444444444444, \"#bd3786\"], [0.5555555555555556, \"#d8576b\"], [0.6666666666666666, \"#ed7953\"], [0.7777777777777778, \"#fb9f3a\"], [0.8888888888888888, \"#fdca26\"], [1.0, \"#f0f921\"]], \"type\": \"heatmap\"}], \"heatmapgl\": [{\"colorbar\": {\"outlinewidth\": 0, \"ticks\": \"\"}, \"colorscale\": [[0.0, \"#0d0887\"], [0.1111111111111111, \"#46039f\"], [0.2222222222222222, \"#7201a8\"], [0.3333333333333333, \"#9c179e\"], [0.4444444444444444, \"#bd3786\"], [0.5555555555555556, \"#d8576b\"], [0.6666666666666666, \"#ed7953\"], [0.7777777777777778, \"#fb9f3a\"], [0.8888888888888888, \"#fdca26\"], [1.0, \"#f0f921\"]], \"type\": \"heatmapgl\"}], \"histogram\": [{\"marker\": {\"colorbar\": {\"outlinewidth\": 0, \"ticks\": \"\"}}, \"type\": \"histogram\"}], \"histogram2d\": [{\"colorbar\": {\"outlinewidth\": 0, \"ticks\": \"\"}, \"colorscale\": [[0.0, \"#0d0887\"], [0.1111111111111111, \"#46039f\"], [0.2222222222222222, \"#7201a8\"], [0.3333333333333333, \"#9c179e\"], [0.4444444444444444, \"#bd3786\"], [0.5555555555555556, \"#d8576b\"], [0.6666666666666666, \"#ed7953\"], [0.7777777777777778, \"#fb9f3a\"], [0.8888888888888888, \"#fdca26\"], [1.0, \"#f0f921\"]], \"type\": \"histogram2d\"}], \"histogram2dcontour\": [{\"colorbar\": {\"outlinewidth\": 0, \"ticks\": \"\"}, \"colorscale\": [[0.0, \"#0d0887\"], [0.1111111111111111, \"#46039f\"], [0.2222222222222222, \"#7201a8\"], [0.3333333333333333, \"#9c179e\"], [0.4444444444444444, \"#bd3786\"], [0.5555555555555556, \"#d8576b\"], [0.6666666666666666, \"#ed7953\"], [0.7777777777777778, \"#fb9f3a\"], [0.8888888888888888, \"#fdca26\"], [1.0, \"#f0f921\"]], \"type\": \"histogram2dcontour\"}], \"mesh3d\": [{\"colorbar\": {\"outlinewidth\": 0, \"ticks\": \"\"}, \"type\": \"mesh3d\"}], \"parcoords\": [{\"line\": {\"colorbar\": {\"outlinewidth\": 0, \"ticks\": \"\"}}, \"type\": \"parcoords\"}], \"pie\": [{\"automargin\": true, \"type\": \"pie\"}], \"scatter\": [{\"marker\": {\"colorbar\": {\"outlinewidth\": 0, \"ticks\": \"\"}}, \"type\": \"scatter\"}], \"scatter3d\": [{\"line\": {\"colorbar\": {\"outlinewidth\": 0, \"ticks\": \"\"}}, \"marker\": {\"colorbar\": {\"outlinewidth\": 0, \"ticks\": \"\"}}, \"type\": \"scatter3d\"}], \"scattercarpet\": [{\"marker\": {\"colorbar\": {\"outlinewidth\": 0, \"ticks\": \"\"}}, \"type\": \"scattercarpet\"}], \"scattergeo\": [{\"marker\": {\"colorbar\": {\"outlinewidth\": 0, \"ticks\": \"\"}}, \"type\": \"scattergeo\"}], \"scattergl\": [{\"marker\": {\"colorbar\": {\"outlinewidth\": 0, \"ticks\": \"\"}}, \"type\": \"scattergl\"}], \"scattermapbox\": [{\"marker\": {\"colorbar\": {\"outlinewidth\": 0, \"ticks\": \"\"}}, \"type\": \"scattermapbox\"}], \"scatterpolar\": [{\"marker\": {\"colorbar\": {\"outlinewidth\": 0, \"ticks\": \"\"}}, \"type\": \"scatterpolar\"}], \"scatterpolargl\": [{\"marker\": {\"colorbar\": {\"outlinewidth\": 0, \"ticks\": \"\"}}, \"type\": \"scatterpolargl\"}], \"scatterternary\": [{\"marker\": {\"colorbar\": {\"outlinewidth\": 0, \"ticks\": \"\"}}, \"type\": \"scatterternary\"}], \"surface\": [{\"colorbar\": {\"outlinewidth\": 0, \"ticks\": \"\"}, \"colorscale\": [[0.0, \"#0d0887\"], [0.1111111111111111, \"#46039f\"], [0.2222222222222222, \"#7201a8\"], [0.3333333333333333, \"#9c179e\"], [0.4444444444444444, \"#bd3786\"], [0.5555555555555556, \"#d8576b\"], [0.6666666666666666, \"#ed7953\"], [0.7777777777777778, \"#fb9f3a\"], [0.8888888888888888, \"#fdca26\"], [1.0, \"#f0f921\"]], \"type\": \"surface\"}], \"table\": [{\"cells\": {\"fill\": {\"color\": \"#EBF0F8\"}, \"line\": {\"color\": \"white\"}}, \"header\": {\"fill\": {\"color\": \"#C8D4E3\"}, \"line\": {\"color\": \"white\"}}, \"type\": \"table\"}]}, \"layout\": {\"annotationdefaults\": {\"arrowcolor\": \"#2a3f5f\", \"arrowhead\": 0, \"arrowwidth\": 1}, \"coloraxis\": {\"colorbar\": {\"outlinewidth\": 0, \"ticks\": \"\"}}, \"colorscale\": {\"diverging\": [[0, \"#8e0152\"], [0.1, \"#c51b7d\"], [0.2, \"#de77ae\"], [0.3, \"#f1b6da\"], [0.4, \"#fde0ef\"], [0.5, \"#f7f7f7\"], [0.6, \"#e6f5d0\"], [0.7, \"#b8e186\"], [0.8, \"#7fbc41\"], [0.9, \"#4d9221\"], [1, \"#276419\"]], \"sequential\": [[0.0, \"#0d0887\"], [0.1111111111111111, \"#46039f\"], [0.2222222222222222, \"#7201a8\"], [0.3333333333333333, \"#9c179e\"], [0.4444444444444444, \"#bd3786\"], [0.5555555555555556, \"#d8576b\"], [0.6666666666666666, \"#ed7953\"], [0.7777777777777778, \"#fb9f3a\"], [0.8888888888888888, \"#fdca26\"], [1.0, \"#f0f921\"]], \"sequentialminus\": [[0.0, \"#0d0887\"], [0.1111111111111111, \"#46039f\"], [0.2222222222222222, \"#7201a8\"], [0.3333333333333333, \"#9c179e\"], [0.4444444444444444, \"#bd3786\"], [0.5555555555555556, \"#d8576b\"], [0.6666666666666666, \"#ed7953\"], [0.7777777777777778, \"#fb9f3a\"], [0.8888888888888888, \"#fdca26\"], [1.0, \"#f0f921\"]]}, \"colorway\": [\"#636efa\", \"#EF553B\", \"#00cc96\", \"#ab63fa\", \"#FFA15A\", \"#19d3f3\", \"#FF6692\", \"#B6E880\", \"#FF97FF\", \"#FECB52\"], \"font\": {\"color\": \"#2a3f5f\"}, \"geo\": {\"bgcolor\": \"white\", \"lakecolor\": \"white\", \"landcolor\": \"#E5ECF6\", \"showlakes\": true, \"showland\": true, \"subunitcolor\": \"white\"}, \"hoverlabel\": {\"align\": \"left\"}, \"hovermode\": \"closest\", \"mapbox\": {\"style\": \"light\"}, \"paper_bgcolor\": \"white\", \"plot_bgcolor\": \"#E5ECF6\", \"polar\": {\"angularaxis\": {\"gridcolor\": \"white\", \"linecolor\": \"white\", \"ticks\": \"\"}, \"bgcolor\": \"#E5ECF6\", \"radialaxis\": {\"gridcolor\": \"white\", \"linecolor\": \"white\", \"ticks\": \"\"}}, \"scene\": {\"xaxis\": {\"backgroundcolor\": \"#E5ECF6\", \"gridcolor\": \"white\", \"gridwidth\": 2, \"linecolor\": \"white\", \"showbackground\": true, \"ticks\": \"\", \"zerolinecolor\": \"white\"}, \"yaxis\": {\"backgroundcolor\": \"#E5ECF6\", \"gridcolor\": \"white\", \"gridwidth\": 2, \"linecolor\": \"white\", \"showbackground\": true, \"ticks\": \"\", \"zerolinecolor\": \"white\"}, \"zaxis\": {\"backgroundcolor\": \"#E5ECF6\", \"gridcolor\": \"white\", \"gridwidth\": 2, \"linecolor\": \"white\", \"showbackground\": true, \"ticks\": \"\", \"zerolinecolor\": \"white\"}}, \"shapedefaults\": {\"line\": {\"color\": \"#2a3f5f\"}}, \"ternary\": {\"aaxis\": {\"gridcolor\": \"white\", \"linecolor\": \"white\", \"ticks\": \"\"}, \"baxis\": {\"gridcolor\": \"white\", \"linecolor\": \"white\", \"ticks\": \"\"}, \"bgcolor\": \"#E5ECF6\", \"caxis\": {\"gridcolor\": \"white\", \"linecolor\": \"white\", \"ticks\": \"\"}}, \"title\": {\"x\": 0.05}, \"xaxis\": {\"automargin\": true, \"gridcolor\": \"white\", \"linecolor\": \"white\", \"ticks\": \"\", \"title\": {\"standoff\": 15}, \"zerolinecolor\": \"white\", \"zerolinewidth\": 2}, \"yaxis\": {\"automargin\": true, \"gridcolor\": \"white\", \"linecolor\": \"white\", \"ticks\": \"\", \"title\": {\"standoff\": 15}, \"zerolinecolor\": \"white\", \"zerolinewidth\": 2}}}, \"title\": {\"text\": \"Avocado Production from 2015 to 2018\"}, \"updatemenus\": [{\"buttons\": [{\"args\": [null, {\"frame\": {\"duration\": 500, \"redraw\": true}, \"fromcurrent\": true, \"mode\": \"immediate\", \"transition\": {\"duration\": 500, \"easing\": \"linear\"}}], \"label\": \"&#9654;\", \"method\": \"animate\"}, {\"args\": [[null], {\"frame\": {\"duration\": 0, \"redraw\": true}, \"fromcurrent\": true, \"mode\": \"immediate\", \"transition\": {\"duration\": 0, \"easing\": \"linear\"}}], \"label\": \"&#9724;\", \"method\": \"animate\"}], \"direction\": \"left\", \"pad\": {\"r\": 10, \"t\": 70}, \"showactive\": false, \"type\": \"buttons\", \"x\": 0.1, \"xanchor\": \"right\", \"y\": 0, \"yanchor\": \"top\"}]},\n",
       "                        {\"responsive\": true}\n",
       "                    ).then(function(){\n",
       "                            Plotly.addFrames('e26bfd14-38c4-462b-ab42-291e9661f6c3', [{\"data\": [{\"coloraxis\": \"coloraxis\", \"geo\": \"geo\", \"hovertemplate\": \"Year=2015<br>Country=%{location}<br>Production (tonnes)=%{z}<extra></extra>\", \"locationmode\": \"country names\", \"locations\": [\"Dominica\", \"Seychelles\", \"Timor-Leste\", \"Argentina\", \"Cuba\", \"Israel\", \"Malawi\", \"Cook Islands\", \"Spain\", \"Haiti\", \"China, mainland\", \"China\", \"Madagascar\", \"Jamaica\", \"Turkey\", \"Zimbabwe\", \"Mauritius\", \"Guatemala\", \"South Africa\", \"Central African Republic\", \"Panama\", \"Philippines\", \"Sri Lanka\", \"New Zealand\", \"Paraguay\", \"C\\u00f4te d'Ivoire\", \"Lebanon\", \"Costa Rica\", \"Bolivia (Plurinational State of)\", \"Morocco\", \"Australia\", \"Ethiopia\", \"Congo\", \"Rwanda\", \"Democratic Republic of the Congo\", \"El Salvador\", \"Ghana\", \"Cameroon\", \"Venezuela (Bolivarian Republic of)\", \"Honduras\", \"French Polynesia\", \"Ecuador\", \"Colombia\", \"Barbados\", \"Cyprus\", \"Eswatini\", \"Palestine\", \"Portugal\", \"France\", \"Senegal\", \"Dominican Republic\", \"Bosnia and Herzegovina\", \"United States of America\", \"Tunisia\", \"Peru\", \"Brazil\", \"Samoa\", \"Bahamas\", \"Indonesia\", \"Grenada\", \"Kenya\", \"Micronesia (Federated States of)\", \"Greece\", \"Mexico\", \"Guyana\", \"Chile\", \"Trinidad and Tobago\", \"Puerto Rico\", \"Saint Lucia\"], \"name\": \"\", \"z\": [380.0, 13.0, 4444.0, 4030.0, 3357.0, 93000.0, 95337.0, 21.0, 86636.0, 111931.0, 119911.0, 119911.0, 26228.0, 2533.0, 1850.0, 1700.0, null, 115099.0, 86189.0, 7856.0, 8115.0, 19995.0, 18000.0, 29000.0, 14032.0, 35253.0, 12327.0, 12158.0, 12032.0, 42732.0, 49397.0, 59331.0, 9298.0, 9200.0, 63275.0, 9190.0, 8802.0, 71719.0, 128601.0, 1600.0, 112.0, 22597.0, 309852.0, 711.0, 829.0, 934.0, 626.0, null, 941.0, null, 526438.0, 1024.0, 207750.0, 318.0, 367110.0, 180652.0, 1340.0, 1332.0, 382530.0, 1553.0, 136420.0, null, 1542.0, 1644226.0, 460.0, 160000.0, 614.0, 438.0, 229.0], \"type\": \"choropleth\"}], \"name\": \"2015\"}, {\"data\": [{\"coloraxis\": \"coloraxis\", \"geo\": \"geo\", \"hovertemplate\": \"Year=2016<br>Country=%{location}<br>Production (tonnes)=%{z}<extra></extra>\", \"locationmode\": \"country names\", \"locations\": [\"Rwanda\", \"Barbados\", \"Congo\", \"El Salvador\", \"Paraguay\", \"Lebanon\", \"Trinidad and Tobago\", \"Costa Rica\", \"Dominica\", \"Sri Lanka\", \"Bolivia (Plurinational State of)\", \"Puerto Rico\", \"Palestine\", \"Philippines\", \"Grenada\", \"Ghana\", \"Greece\", \"Zimbabwe\", \"France\", \"Turkey\", \"Jamaica\", \"Saint Lucia\", \"Guyana\", \"Samoa\", \"Bahamas\", \"Cyprus\", \"Honduras\", \"Bosnia and Herzegovina\", \"Argentina\", \"Timor-Leste\", \"Tunisia\", \"Seychelles\", \"French Polynesia\", \"Eswatini\", \"Panama\", \"Central African Republic\", \"Cuba\", \"Cook Islands\", \"Ecuador\", \"Chile\", \"Morocco\", \"Brazil\", \"Kenya\", \"Democratic Republic of the Congo\", \"Ethiopia\", \"Australia\", \"Micronesia (Federated States of)\", \"Haiti\", \"Colombia\", \"Cameroon\", \"Venezuela (Bolivarian Republic of)\", \"Malawi\", \"United States of America\", \"South Africa\", \"Spain\", \"China\", \"Israel\", \"China, mainland\", \"Mauritius\", \"Indonesia\", \"Guatemala\", \"Peru\", \"Madagascar\", \"Dominican Republic\", \"Mexico\", \"New Zealand\", \"C\\u00f4te d'Ivoire\", \"Portugal\", \"Senegal\"], \"name\": \"\", \"z\": [9296.0, 743.0, 9563.0, 10537.0, 12789.0, 18695.0, 621.0, 12368.0, 380.0, 15651.0, 12497.0, 538.0, 669.0, 19572.0, 1557.0, 9059.0, 1731.0, 1800.0, 1926.0, 1950.0, 2453.0, 245.0, 1383.0, 1351.0, 1344.0, 810.0, 2960.0, 1048.0, 4069.0, 4560.0, 322.0, 13.0, 120.0, 910.0, 8195.0, 8800.0, 3197.0, 5.0, 16118.0, 179000.0, 42256.0, 196545.0, 176045.0, 63320.0, 64982.0, 67600.0, null, 146517.0, 294389.0, 72921.0, 130635.0, 86769.0, 125237.0, 89546.0, 91509.0, 123214.0, 101500.0, 123214.0, null, 304938.0, 122184.0, 455394.0, 26333.0, 601349.0, 1889354.0, 35000.0, 36296.0, null, null], \"type\": \"choropleth\"}], \"name\": \"2016\"}, {\"data\": [{\"coloraxis\": \"coloraxis\", \"geo\": \"geo\", \"hovertemplate\": \"Year=2017<br>Country=%{location}<br>Production (tonnes)=%{z}<extra></extra>\", \"locationmode\": \"country names\", \"locations\": [\"Indonesia\", \"Peru\", \"Guatemala\", \"Dominican Republic\", \"Greece\", \"Puerto Rico\", \"China\", \"China, mainland\", \"Honduras\", \"Dominica\", \"Jamaica\", \"French Polynesia\", \"Mexico\", \"France\", \"Grenada\", \"Mauritius\", \"Trinidad and Tobago\", \"Colombia\", \"Barbados\", \"Eswatini\", \"Tunisia\", \"Micronesia (Federated States of)\", \"Kenya\", \"Brazil\", \"Bosnia and Herzegovina\", \"Chile\", \"Saint Lucia\", \"Turkey\", \"Cyprus\", \"Haiti\", \"Bahamas\", \"Portugal\", \"Samoa\", \"United States of America\", \"Palestine\", \"Venezuela (Bolivarian Republic of)\", \"Ecuador\", \"Zimbabwe\", \"Panama\", \"Cook Islands\", \"Senegal\", \"Ghana\", \"Democratic Republic of the Congo\", \"Central African Republic\", \"South Africa\", \"C\\u00f4te d'Ivoire\", \"Israel\", \"Congo\", \"Sri Lanka\", \"El Salvador\", \"Bolivia (Plurinational State of)\", \"Paraguay\", \"Morocco\", \"Australia\", \"Cameroon\", \"Costa Rica\", \"Timor-Leste\", \"Ethiopia\", \"Rwanda\", \"Cuba\", \"Guyana\", \"Malawi\", \"Spain\", \"Lebanon\", \"Madagascar\", \"New Zealand\", \"Philippines\", \"Seychelles\", \"Argentina\"], \"name\": \"\", \"z\": [363157.0, 466796.0, 127480.0, 637688.0, 1756.0, 606.0, 124528.0, 124528.0, 2153.0, 373.0, 2405.0, 117.0, 2029886.0, 2568.0, 1556.0, null, 634.0, 308166.0, 759.0, 938.0, 328.0, null, 217688.0, 212873.0, 1051.0, 200000.0, 287.0, 2765.0, 717.0, 174457.0, 1368.0, null, 1377.0, 170260.0, 708.0, 143229.0, 20995.0, 3000.0, 8276.0, 3.0, null, 9170.0, 63149.0, 9217.0, 63045.0, 37218.0, 110000.0, 9817.0, 13773.0, 36088.0, 12509.0, 11795.0, 41695.0, 56501.0, 73525.0, 12368.0, 4712.0, 81432.0, 6912.0, 3019.0, 5874.0, 97358.0, 92936.0, 19193.0, 26495.0, 27000.0, 19440.0, 13.0, 4092.0], \"type\": \"choropleth\"}], \"name\": \"2017\"}, {\"data\": [{\"coloraxis\": \"coloraxis\", \"geo\": \"geo\", \"hovertemplate\": \"Year=2018<br>Country=%{location}<br>Production (tonnes)=%{z}<extra></extra>\", \"locationmode\": \"country names\", \"locations\": [\"Saint Lucia\", \"Italy\", \"Slovenia\", \"Estonia\", \"Malta\", \"Hungary\", \"Denmark\", \"Dominica\", \"Germany\", \"Netherlands\", \"Slovakia\", \"Poland\", \"Bulgaria\", \"Belgium\", \"French Polynesia\", \"Lithuania\", \"Croatia\", \"Seychelles\", \"Czechia\", \"Luxembourg\", \"Tunisia\", \"Romania\", \"Cook Islands\", \"Sweden\", \"Ireland\", \"Austria\", \"Latvia\", \"Finland\", \"Micronesia (Federated States of)\", \"Mauritius\", \"Mexico\", \"Rwanda\", \"Trinidad and Tobago\", \"El Salvador\", \"New Zealand\", \"C\\u00f4te d'Ivoire\", \"Morocco\", \"Democratic Republic of the Congo\", \"Australia\", \"Cameroon\", \"Ethiopia\", \"Spain\", \"Malawi\", \"China, mainland\", \"China\", \"South Africa\", \"Israel\", \"Venezuela (Bolivarian Republic of)\", \"Guatemala\", \"United States of America\", \"Chile\", \"Kenya\", \"Brazil\", \"Haiti\", \"Indonesia\", \"Colombia\", \"Peru\", \"Dominican Republic\", \"Madagascar\", \"Sri Lanka\", \"Philippines\", \"Lebanon\", \"Barbados\", \"Palestine\", \"Cyprus\", \"Eswatini\", \"Bosnia and Herzegovina\", \"Honduras\", \"Bahamas\", \"Samoa\", \"Grenada\", \"Jamaica\", \"France\", \"Cuba\", \"Puerto Rico\", \"Turkey\", \"Timor-Leste\", \"Zimbabwe\", \"Greece\", \"Central African Republic\", \"Panama\", \"Guyana\", \"Ghana\", \"Congo\", \"Paraguay\", \"Bolivia (Plurinational State of)\", \"Costa Rica\", \"Ecuador\", \"Argentina\", \"Senegal\"], \"name\": \"\", \"z\": [335.0, 0.0, 0.0, 0.0, 0.0, 0.0, 0.0, 367.0, 0.0, 0.0, 0.0, 0.0, 0.0, 0.0, 118.0, 0.0, 0.0, 13.0, 0.0, 0.0, 333.0, 0.0, 3.0, 0.0, 0.0, 0.0, 0.0, 0.0, null, null, 2184663.0, 8597.0, 648.0, 31227.0, 32477.0, 38139.0, 51170.0, 63022.0, 63486.0, 74101.0, 84794.0, 89590.0, 92239.0, 126919.0, 126919.0, 127568.0, 131720.0, 132082.0, 134353.0, 168530.0, 170013.0, 233933.0, 236177.0, 254825.0, 410084.0, 445075.0, 504532.0, 644306.0, 26656.0, 22744.0, 19443.0, 18727.0, 773.0, 800.0, 950.0, 966.0, 1051.0, 1243.0, 1393.0, 1402.0, 1556.0, 2363.0, 2460.0, 2861.0, 520.0, 3164.0, 4863.0, 5300.0, 6530.0, 8063.0, 8448.0, 8586.0, 9289.0, 10072.0, 11002.0, 12452.0, 15000.0, 18232.0, 4115.0, null], \"type\": \"choropleth\"}], \"name\": \"2018\"}]);\n",
       "                        }).then(function(){\n",
       "                            \n",
       "var gd = document.getElementById('e26bfd14-38c4-462b-ab42-291e9661f6c3');\n",
       "var x = new MutationObserver(function (mutations, observer) {{\n",
       "        var display = window.getComputedStyle(gd).display;\n",
       "        if (!display || display === 'none') {{\n",
       "            console.log([gd, 'removed!']);\n",
       "            Plotly.purge(gd);\n",
       "            observer.disconnect();\n",
       "        }}\n",
       "}});\n",
       "\n",
       "// Listen for the removal of the full notebook cells\n",
       "var notebookContainer = gd.closest('#notebook-container');\n",
       "if (notebookContainer) {{\n",
       "    x.observe(notebookContainer, {childList: true});\n",
       "}}\n",
       "\n",
       "// Listen for the clearing of the current output cell\n",
       "var outputEl = gd.closest('.output');\n",
       "if (outputEl) {{\n",
       "    x.observe(outputEl, {childList: true});\n",
       "}}\n",
       "\n",
       "                        })\n",
       "                };\n",
       "                });\n",
       "            </script>\n",
       "        </div>"
      ]
     },
     "metadata": {},
     "output_type": "display_data"
    }
   ],
   "source": [
    "import plotly.express as px  # Be sure to import express\n",
    "\n",
    "fig2 = px.choropleth(land,  # Input Pandas DataFrame\n",
    "                    locations=\"Country\",  # DataFrame column with locations\n",
    "                    color=\"Production (tonnes)\", locationmode='country names', animation_frame=\"Year\") # DataFrame column with color values\n",
    "\n",
    "fig2.update_layout(\n",
    "    title_text = 'Avocado Production from 2015 to 2018' # Create a Title\n",
    ")\n",
    "\n",
    "fig2.show()  # Output the plot to the screen"
   ]
  },
  {
   "cell_type": "code",
   "execution_count": 134,
   "id": "varied-canberra",
   "metadata": {},
   "outputs": [
    {
     "data": {
      "text/plain": [
       "<AxesSubplot:>"
      ]
     },
     "execution_count": 134,
     "metadata": {},
     "output_type": "execute_result"
    },
    {
     "data": {
      "image/png": "[encoded data removed]",
      "text/plain": [
       "<Figure size 720x360 with 1 Axes>"
      ]
     },
     "metadata": {
      "needs_background": "light"
     },
     "output_type": "display_data"
    }
   ],
   "source": [
    "fig3 = plt.figure(figsize = (10,5))\n",
    "\n",
    "\n",
    "land.boxplot(column = ['Production (tonnes)'])\n"
   ]
  },
  {
   "cell_type": "code",
   "execution_count": 135,
   "id": "opposed-nancy",
   "metadata": {},
   "outputs": [
    {
     "data": {
      "text/plain": [
       "<AxesSubplot:>"
      ]
     },
     "execution_count": 135,
     "metadata": {},
     "output_type": "execute_result"
    },
    {
     "data": {
      "image/png": "[encoded data removed]",
      "text/plain": [
       "<Figure size 720x360 with 1 Axes>"
      ]
     },
     "metadata": {
      "needs_background": "light"
     },
     "output_type": "display_data"
    }
   ],
   "source": [
    "fig4 = plt.figure(figsize = (10,5))\n",
    "\n",
    "\n",
    "land.boxplot(column = ['Area harvested (ha)'])\n"
   ]
  },
  {
   "cell_type": "code",
   "execution_count": 136,
   "id": "frozen-coaching",
   "metadata": {},
   "outputs": [
    {
     "data": {
      "image/png": "[encoded data removed]",
      "text/plain": [
       "<Figure size 360x360 with 1 Axes>"
      ]
     },
     "metadata": {
      "needs_background": "light"
     },
     "output_type": "display_data"
    }
   ],
   "source": [
    "#This plot also confirms that there's a strong correlation between \"Area harvested (ha)\" and \"Production (tonnes)\"\n",
    "#There are some outliers with very extreme values that make the plot visualization difficult to read\n",
    "fig5 = sns.lmplot(x=\"Area harvested (ha)\", y=\"Production (tonnes)\", data=land)"
   ]
  },
  {
   "cell_type": "code",
   "execution_count": 137,
   "id": "attractive-investigator",
   "metadata": {},
   "outputs": [
    {
     "name": "stdout",
     "output_type": "stream",
     "text": [
      "-0.0494421811353812\n"
     ]
    }
   ],
   "source": [
    "avo_c1 = land['Area harvested (ha)'].corr(avocado_price_usd['Price (USD/Tonne)'])\n",
    "print(avo_c1)"
   ]
  },
  {
   "cell_type": "code",
   "execution_count": 138,
   "id": "political-notion",
   "metadata": {},
   "outputs": [
    {
     "name": "stdout",
     "output_type": "stream",
     "text": [
      "-0.02608660724031137\n"
     ]
    }
   ],
   "source": [
    "avo_c2 = land['Production (tonnes)'].corr(avocado_price_usd['Price (USD/Tonne)'])\n",
    "print(avo_c2)"
   ]
  },
  {
   "cell_type": "code",
   "execution_count": 139,
   "id": "lonely-finger",
   "metadata": {},
   "outputs": [],
   "source": [
    "land_18 = land[land[\"Year\"] == 2018]\n",
    "top_land_18 = land_18.head(25)"
   ]
  },
  {
   "cell_type": "code",
   "execution_count": 140,
   "id": "cognitive-legislation",
   "metadata": {},
   "outputs": [
    {
     "data": {
      "application/vnd.plotly.v1+json": {
       "config": {
        "plotlyServerURL": "https://plot.ly"
       },
       "data": [
        {
         "hovertemplate": "Country=Mexico<br>Area harvested (ha)=%{x}<br>Production (tonnes)=%{y}<extra></extra>",
         "legendgroup": "Mexico",
         "marker": {
          "color": "#636efa",
          "symbol": "circle"
         },
         "mode": "markers",
         "name": "Mexico",
         "orientation": "v",
         "showlegend": true,
         "type": "scatter",
         "x": [
          206389
         ],
         "xaxis": "x",
         "y": [
          2184663
         ],
         "yaxis": "y"
        },
        {
         "hovertemplate": "Country=Dominican Republic<br>Area harvested (ha)=%{x}<br>Production (tonnes)=%{y}<extra></extra>",
         "legendgroup": "Dominican Republic",
         "marker": {
          "color": "#EF553B",
          "symbol": "circle"
         },
         "mode": "markers",
         "name": "Dominican Republic",
         "orientation": "v",
         "showlegend": true,
         "type": "scatter",
         "x": [
          13924
         ],
         "xaxis": "x",
         "y": [
          644306
         ],
         "yaxis": "y"
        },
        {
         "hovertemplate": "Country=Peru<br>Area harvested (ha)=%{x}<br>Production (tonnes)=%{y}<extra></extra>",
         "legendgroup": "Peru",
         "marker": {
          "color": "#00cc96",
          "symbol": "circle"
         },
         "mode": "markers",
         "name": "Peru",
         "orientation": "v",
         "showlegend": true,
         "type": "scatter",
         "x": [
          41171
         ],
         "xaxis": "x",
         "y": [
          504532
         ],
         "yaxis": "y"
        },
        {
         "hovertemplate": "Country=Colombia<br>Area harvested (ha)=%{x}<br>Production (tonnes)=%{y}<extra></extra>",
         "legendgroup": "Colombia",
         "marker": {
          "color": "#ab63fa",
          "symbol": "circle"
         },
         "mode": "markers",
         "name": "Colombia",
         "orientation": "v",
         "showlegend": true,
         "type": "scatter",
         "x": [
          53801
         ],
         "xaxis": "x",
         "y": [
          445075
         ],
         "yaxis": "y"
        },
        {
         "hovertemplate": "Country=Indonesia<br>Area harvested (ha)=%{x}<br>Production (tonnes)=%{y}<extra></extra>",
         "legendgroup": "Indonesia",
         "marker": {
          "color": "#FFA15A",
          "symbol": "circle"
         },
         "mode": "markers",
         "name": "Indonesia",
         "orientation": "v",
         "showlegend": true,
         "type": "scatter",
         "x": [
          31106
         ],
         "xaxis": "x",
         "y": [
          410084
         ],
         "yaxis": "y"
        },
        {
         "hovertemplate": "Country=Haiti<br>Area harvested (ha)=%{x}<br>Production (tonnes)=%{y}<extra></extra>",
         "legendgroup": "Haiti",
         "marker": {
          "color": "#19d3f3",
          "symbol": "circle"
         },
         "mode": "markers",
         "name": "Haiti",
         "orientation": "v",
         "showlegend": true,
         "type": "scatter",
         "x": [
          43773
         ],
         "xaxis": "x",
         "y": [
          254825
         ],
         "yaxis": "y"
        },
        {
         "hovertemplate": "Country=Brazil<br>Area harvested (ha)=%{x}<br>Production (tonnes)=%{y}<extra></extra>",
         "legendgroup": "Brazil",
         "marker": {
          "color": "#FF6692",
          "symbol": "circle"
         },
         "mode": "markers",
         "name": "Brazil",
         "orientation": "v",
         "showlegend": true,
         "type": "scatter",
         "x": [
          14325
         ],
         "xaxis": "x",
         "y": [
          236177
         ],
         "yaxis": "y"
        },
        {
         "hovertemplate": "Country=Kenya<br>Area harvested (ha)=%{x}<br>Production (tonnes)=%{y}<extra></extra>",
         "legendgroup": "Kenya",
         "marker": {
          "color": "#B6E880",
          "symbol": "circle"
         },
         "mode": "markers",
         "name": "Kenya",
         "orientation": "v",
         "showlegend": true,
         "type": "scatter",
         "x": [
          14497
         ],
         "xaxis": "x",
         "y": [
          233933
         ],
         "yaxis": "y"
        },
        {
         "hovertemplate": "Country=Chile<br>Area harvested (ha)=%{x}<br>Production (tonnes)=%{y}<extra></extra>",
         "legendgroup": "Chile",
         "marker": {
          "color": "#FF97FF",
          "symbol": "circle"
         },
         "mode": "markers",
         "name": "Chile",
         "orientation": "v",
         "showlegend": true,
         "type": "scatter",
         "x": [
          29166
         ],
         "xaxis": "x",
         "y": [
          170013
         ],
         "yaxis": "y"
        },
        {
         "hovertemplate": "Country=United States of America<br>Area harvested (ha)=%{x}<br>Production (tonnes)=%{y}<extra></extra>",
         "legendgroup": "United States of America",
         "marker": {
          "color": "#FECB52",
          "symbol": "circle"
         },
         "mode": "markers",
         "name": "United States of America",
         "orientation": "v",
         "showlegend": true,
         "type": "scatter",
         "x": [
          21710
         ],
         "xaxis": "x",
         "y": [
          168530
         ],
         "yaxis": "y"
        },
        {
         "hovertemplate": "Country=Guatemala<br>Area harvested (ha)=%{x}<br>Production (tonnes)=%{y}<extra></extra>",
         "legendgroup": "Guatemala",
         "marker": {
          "color": "#636efa",
          "symbol": "circle"
         },
         "mode": "markers",
         "name": "Guatemala",
         "orientation": "v",
         "showlegend": true,
         "type": "scatter",
         "x": [
          12750
         ],
         "xaxis": "x",
         "y": [
          134353
         ],
         "yaxis": "y"
        },
        {
         "hovertemplate": "Country=Venezuela (Bolivarian Republic of)<br>Area harvested (ha)=%{x}<br>Production (tonnes)=%{y}<extra></extra>",
         "legendgroup": "Venezuela (Bolivarian Republic of)",
         "marker": {
          "color": "#EF553B",
          "symbol": "circle"
         },
         "mode": "markers",
         "name": "Venezuela (Bolivarian Republic of)",
         "orientation": "v",
         "showlegend": true,
         "type": "scatter",
         "x": [
          11792
         ],
         "xaxis": "x",
         "y": [
          132082
         ],
         "yaxis": "y"
        },
        {
         "hovertemplate": "Country=Israel<br>Area harvested (ha)=%{x}<br>Production (tonnes)=%{y}<extra></extra>",
         "legendgroup": "Israel",
         "marker": {
          "color": "#00cc96",
          "symbol": "circle"
         },
         "mode": "markers",
         "name": "Israel",
         "orientation": "v",
         "showlegend": true,
         "type": "scatter",
         "x": [
          9408
         ],
         "xaxis": "x",
         "y": [
          131720
         ],
         "yaxis": "y"
        },
        {
         "hovertemplate": "Country=South Africa<br>Area harvested (ha)=%{x}<br>Production (tonnes)=%{y}<extra></extra>",
         "legendgroup": "South Africa",
         "marker": {
          "color": "#ab63fa",
          "symbol": "circle"
         },
         "mode": "markers",
         "name": "South Africa",
         "orientation": "v",
         "showlegend": true,
         "type": "scatter",
         "x": [
          24029
         ],
         "xaxis": "x",
         "y": [
          127568
         ],
         "yaxis": "y"
        },
        {
         "hovertemplate": "Country=China<br>Area harvested (ha)=%{x}<br>Production (tonnes)=%{y}<extra></extra>",
         "legendgroup": "China",
         "marker": {
          "color": "#FFA15A",
          "symbol": "circle"
         },
         "mode": "markers",
         "name": "China",
         "orientation": "v",
         "showlegend": true,
         "type": "scatter",
         "x": [
          21583
         ],
         "xaxis": "x",
         "y": [
          126919
         ],
         "yaxis": "y"
        },
        {
         "hovertemplate": "Country=China, mainland<br>Area harvested (ha)=%{x}<br>Production (tonnes)=%{y}<extra></extra>",
         "legendgroup": "China, mainland",
         "marker": {
          "color": "#19d3f3",
          "symbol": "circle"
         },
         "mode": "markers",
         "name": "China, mainland",
         "orientation": "v",
         "showlegend": true,
         "type": "scatter",
         "x": [
          21583
         ],
         "xaxis": "x",
         "y": [
          126919
         ],
         "yaxis": "y"
        },
        {
         "hovertemplate": "Country=Malawi<br>Area harvested (ha)=%{x}<br>Production (tonnes)=%{y}<extra></extra>",
         "legendgroup": "Malawi",
         "marker": {
          "color": "#FF6692",
          "symbol": "circle"
         },
         "mode": "markers",
         "name": "Malawi",
         "orientation": "v",
         "showlegend": true,
         "type": "scatter",
         "x": [
          18000
         ],
         "xaxis": "x",
         "y": [
          92239
         ],
         "yaxis": "y"
        },
        {
         "hovertemplate": "Country=Spain<br>Area harvested (ha)=%{x}<br>Production (tonnes)=%{y}<extra></extra>",
         "legendgroup": "Spain",
         "marker": {
          "color": "#B6E880",
          "symbol": "circle"
         },
         "mode": "markers",
         "name": "Spain",
         "orientation": "v",
         "showlegend": true,
         "type": "scatter",
         "x": [
          12160
         ],
         "xaxis": "x",
         "y": [
          89590
         ],
         "yaxis": "y"
        },
        {
         "hovertemplate": "Country=Ethiopia<br>Area harvested (ha)=%{x}<br>Production (tonnes)=%{y}<extra></extra>",
         "legendgroup": "Ethiopia",
         "marker": {
          "color": "#FF97FF",
          "symbol": "circle"
         },
         "mode": "markers",
         "name": "Ethiopia",
         "orientation": "v",
         "showlegend": true,
         "type": "scatter",
         "x": [
          19759
         ],
         "xaxis": "x",
         "y": [
          84794
         ],
         "yaxis": "y"
        },
        {
         "hovertemplate": "Country=Cameroon<br>Area harvested (ha)=%{x}<br>Production (tonnes)=%{y}<extra></extra>",
         "legendgroup": "Cameroon",
         "marker": {
          "color": "#FECB52",
          "symbol": "circle"
         },
         "mode": "markers",
         "name": "Cameroon",
         "orientation": "v",
         "showlegend": true,
         "type": "scatter",
         "x": [
          16292
         ],
         "xaxis": "x",
         "y": [
          74101
         ],
         "yaxis": "y"
        },
        {
         "hovertemplate": "Country=Australia<br>Area harvested (ha)=%{x}<br>Production (tonnes)=%{y}<extra></extra>",
         "legendgroup": "Australia",
         "marker": {
          "color": "#636efa",
          "symbol": "circle"
         },
         "mode": "markers",
         "name": "Australia",
         "orientation": "v",
         "showlegend": true,
         "type": "scatter",
         "x": [
          13447
         ],
         "xaxis": "x",
         "y": [
          63486
         ],
         "yaxis": "y"
        },
        {
         "hovertemplate": "Country=Democratic Republic of the Congo<br>Area harvested (ha)=%{x}<br>Production (tonnes)=%{y}<extra></extra>",
         "legendgroup": "Democratic Republic of the Congo",
         "marker": {
          "color": "#EF553B",
          "symbol": "circle"
         },
         "mode": "markers",
         "name": "Democratic Republic of the Congo",
         "orientation": "v",
         "showlegend": true,
         "type": "scatter",
         "x": [
          9026
         ],
         "xaxis": "x",
         "y": [
          63022
         ],
         "yaxis": "y"
        },
        {
         "hovertemplate": "Country=Morocco<br>Area harvested (ha)=%{x}<br>Production (tonnes)=%{y}<extra></extra>",
         "legendgroup": "Morocco",
         "marker": {
          "color": "#00cc96",
          "symbol": "circle"
         },
         "mode": "markers",
         "name": "Morocco",
         "orientation": "v",
         "showlegend": true,
         "type": "scatter",
         "x": [
          4449
         ],
         "xaxis": "x",
         "y": [
          51170
         ],
         "yaxis": "y"
        },
        {
         "hovertemplate": "Country=Côte d'Ivoire<br>Area harvested (ha)=%{x}<br>Production (tonnes)=%{y}<extra></extra>",
         "legendgroup": "Côte d'Ivoire",
         "marker": {
          "color": "#ab63fa",
          "symbol": "circle"
         },
         "mode": "markers",
         "name": "Côte d'Ivoire",
         "orientation": "v",
         "showlegend": true,
         "type": "scatter",
         "x": [
          5398
         ],
         "xaxis": "x",
         "y": [
          38139
         ],
         "yaxis": "y"
        },
        {
         "hovertemplate": "Country=New Zealand<br>Area harvested (ha)=%{x}<br>Production (tonnes)=%{y}<extra></extra>",
         "legendgroup": "New Zealand",
         "marker": {
          "color": "#FFA15A",
          "symbol": "circle"
         },
         "mode": "markers",
         "name": "New Zealand",
         "orientation": "v",
         "showlegend": true,
         "type": "scatter",
         "x": [
          4575
         ],
         "xaxis": "x",
         "y": [
          32477
         ],
         "yaxis": "y"
        }
       ],
       "layout": {
        "coloraxis": {
         "showscale": false
        },
        "legend": {
         "title": {
          "text": "Country"
         },
         "tracegroupgap": 0
        },
        "margin": {
         "t": 60
        },
        "template": {
         "data": {
          "bar": [
           {
            "error_x": {
             "color": "#2a3f5f"
            },
            "error_y": {
             "color": "#2a3f5f"
            },
            "marker": {
             "line": {
              "color": "#E5ECF6",
              "width": 0.5
             }
            },
            "type": "bar"
           }
          ],
          "barpolar": [
           {
            "marker": {
             "line": {
              "color": "#E5ECF6",
              "width": 0.5
             }
            },
            "type": "barpolar"
           }
          ],
          "carpet": [
           {
            "aaxis": {
             "endlinecolor": "#2a3f5f",
             "gridcolor": "white",
             "linecolor": "white",
             "minorgridcolor": "white",
             "startlinecolor": "#2a3f5f"
            },
            "baxis": {
             "endlinecolor": "#2a3f5f",
             "gridcolor": "white",
             "linecolor": "white",
             "minorgridcolor": "white",
             "startlinecolor": "#2a3f5f"
            },
            "type": "carpet"
           }
          ],
          "choropleth": [
           {
            "colorbar": {
             "outlinewidth": 0,
             "ticks": ""
            },
            "type": "choropleth"
           }
          ],
          "contour": [
           {
            "colorbar": {
             "outlinewidth": 0,
             "ticks": ""
            },
            "colorscale": [
             [
              0,
              "#0d0887"
             ],
             [
              0.1111111111111111,
              "#46039f"
             ],
             [
              0.2222222222222222,
              "#7201a8"
             ],
             [
              0.3333333333333333,
              "#9c179e"
             ],
             [
              0.4444444444444444,
              "#bd3786"
             ],
             [
              0.5555555555555556,
              "#d8576b"
             ],
             [
              0.6666666666666666,
              "#ed7953"
             ],
             [
              0.7777777777777778,
              "#fb9f3a"
             ],
             [
              0.8888888888888888,
              "#fdca26"
             ],
             [
              1,
              "#f0f921"
             ]
            ],
            "type": "contour"
           }
          ],
          "contourcarpet": [
           {
            "colorbar": {
             "outlinewidth": 0,
             "ticks": ""
            },
            "type": "contourcarpet"
           }
          ],
          "heatmap": [
           {
            "colorbar": {
             "outlinewidth": 0,
             "ticks": ""
            },
            "colorscale": [
             [
              0,
              "#0d0887"
             ],
             [
              0.1111111111111111,
              "#46039f"
             ],
             [
              0.2222222222222222,
              "#7201a8"
             ],
             [
              0.3333333333333333,
              "#9c179e"
             ],
             [
              0.4444444444444444,
              "#bd3786"
             ],
             [
              0.5555555555555556,
              "#d8576b"
             ],
             [
              0.6666666666666666,
              "#ed7953"
             ],
             [
              0.7777777777777778,
              "#fb9f3a"
             ],
             [
              0.8888888888888888,
              "#fdca26"
             ],
             [
              1,
              "#f0f921"
             ]
            ],
            "type": "heatmap"
           }
          ],
          "heatmapgl": [
           {
            "colorbar": {
             "outlinewidth": 0,
             "ticks": ""
            },
            "colorscale": [
             [
              0,
              "#0d0887"
             ],
             [
              0.1111111111111111,
              "#46039f"
             ],
             [
              0.2222222222222222,
              "#7201a8"
             ],
             [
              0.3333333333333333,
              "#9c179e"
             ],
             [
              0.4444444444444444,
              "#bd3786"
             ],
             [
              0.5555555555555556,
              "#d8576b"
             ],
             [
              0.6666666666666666,
              "#ed7953"
             ],
             [
              0.7777777777777778,
              "#fb9f3a"
             ],
             [
              0.8888888888888888,
              "#fdca26"
             ],
             [
              1,
              "#f0f921"
             ]
            ],
            "type": "heatmapgl"
           }
          ],
          "histogram": [
           {
            "marker": {
             "colorbar": {
              "outlinewidth": 0,
              "ticks": ""
             }
            },
            "type": "histogram"
           }
          ],
          "histogram2d": [
           {
            "colorbar": {
             "outlinewidth": 0,
             "ticks": ""
            },
            "colorscale": [
             [
              0,
              "#0d0887"
             ],
             [
              0.1111111111111111,
              "#46039f"
             ],
             [
              0.2222222222222222,
              "#7201a8"
             ],
             [
              0.3333333333333333,
              "#9c179e"
             ],
             [
              0.4444444444444444,
              "#bd3786"
             ],
             [
              0.5555555555555556,
              "#d8576b"
             ],
             [
              0.6666666666666666,
              "#ed7953"
             ],
             [
              0.7777777777777778,
              "#fb9f3a"
             ],
             [
              0.8888888888888888,
              "#fdca26"
             ],
             [
              1,
              "#f0f921"
             ]
            ],
            "type": "histogram2d"
           }
          ],
          "histogram2dcontour": [
           {
            "colorbar": {
             "outlinewidth": 0,
             "ticks": ""
            },
            "colorscale": [
             [
              0,
              "#0d0887"
             ],
             [
              0.1111111111111111,
              "#46039f"
             ],
             [
              0.2222222222222222,
              "#7201a8"
             ],
             [
              0.3333333333333333,
              "#9c179e"
             ],
             [
              0.4444444444444444,
              "#bd3786"
             ],
             [
              0.5555555555555556,
              "#d8576b"
             ],
             [
              0.6666666666666666,
              "#ed7953"
             ],
             [
              0.7777777777777778,
              "#fb9f3a"
             ],
             [
              0.8888888888888888,
              "#fdca26"
             ],
             [
              1,
              "#f0f921"
             ]
            ],
            "type": "histogram2dcontour"
           }
          ],
          "mesh3d": [
           {
            "colorbar": {
             "outlinewidth": 0,
             "ticks": ""
            },
            "type": "mesh3d"
           }
          ],
          "parcoords": [
           {
            "line": {
             "colorbar": {
              "outlinewidth": 0,
              "ticks": ""
             }
            },
            "type": "parcoords"
           }
          ],
          "pie": [
           {
            "automargin": true,
            "type": "pie"
           }
          ],
          "scatter": [
           {
            "marker": {
             "colorbar": {
              "outlinewidth": 0,
              "ticks": ""
             }
            },
            "type": "scatter"
           }
          ],
          "scatter3d": [
           {
            "line": {
             "colorbar": {
              "outlinewidth": 0,
              "ticks": ""
             }
            },
            "marker": {
             "colorbar": {
              "outlinewidth": 0,
              "ticks": ""
             }
            },
            "type": "scatter3d"
           }
          ],
          "scattercarpet": [
           {
            "marker": {
             "colorbar": {
              "outlinewidth": 0,
              "ticks": ""
             }
            },
            "type": "scattercarpet"
           }
          ],
          "scattergeo": [
           {
            "marker": {
             "colorbar": {
              "outlinewidth": 0,
              "ticks": ""
             }
            },
            "type": "scattergeo"
           }
          ],
          "scattergl": [
           {
            "marker": {
             "colorbar": {
              "outlinewidth": 0,
              "ticks": ""
             }
            },
            "type": "scattergl"
           }
          ],
          "scattermapbox": [
           {
            "marker": {
             "colorbar": {
              "outlinewidth": 0,
              "ticks": ""
             }
            },
            "type": "scattermapbox"
           }
          ],
          "scatterpolar": [
           {
            "marker": {
             "colorbar": {
              "outlinewidth": 0,
              "ticks": ""
             }
            },
            "type": "scatterpolar"
           }
          ],
          "scatterpolargl": [
           {
            "marker": {
             "colorbar": {
              "outlinewidth": 0,
              "ticks": ""
             }
            },
            "type": "scatterpolargl"
           }
          ],
          "scatterternary": [
           {
            "marker": {
             "colorbar": {
              "outlinewidth": 0,
              "ticks": ""
             }
            },
            "type": "scatterternary"
           }
          ],
          "surface": [
           {
            "colorbar": {
             "outlinewidth": 0,
             "ticks": ""
            },
            "colorscale": [
             [
              0,
              "#0d0887"
             ],
             [
              0.1111111111111111,
              "#46039f"
             ],
             [
              0.2222222222222222,
              "#7201a8"
             ],
             [
              0.3333333333333333,
              "#9c179e"
             ],
             [
              0.4444444444444444,
              "#bd3786"
             ],
             [
              0.5555555555555556,
              "#d8576b"
             ],
             [
              0.6666666666666666,
              "#ed7953"
             ],
             [
              0.7777777777777778,
              "#fb9f3a"
             ],
             [
              0.8888888888888888,
              "#fdca26"
             ],
             [
              1,
              "#f0f921"
             ]
            ],
            "type": "surface"
           }
          ],
          "table": [
           {
            "cells": {
             "fill": {
              "color": "#EBF0F8"
             },
             "line": {
              "color": "white"
             }
            },
            "header": {
             "fill": {
              "color": "#C8D4E3"
             },
             "line": {
              "color": "white"
             }
            },
            "type": "table"
           }
          ]
         },
         "layout": {
          "annotationdefaults": {
           "arrowcolor": "#2a3f5f",
           "arrowhead": 0,
           "arrowwidth": 1
          },
          "coloraxis": {
           "colorbar": {
            "outlinewidth": 0,
            "ticks": ""
           }
          },
          "colorscale": {
           "diverging": [
            [
             0,
             "#8e0152"
            ],
            [
             0.1,
             "#c51b7d"
            ],
            [
             0.2,
             "#de77ae"
            ],
            [
             0.3,
             "#f1b6da"
            ],
            [
             0.4,
             "#fde0ef"
            ],
            [
             0.5,
             "#f7f7f7"
            ],
            [
             0.6,
             "#e6f5d0"
            ],
            [
             0.7,
             "#b8e186"
            ],
            [
             0.8,
             "#7fbc41"
            ],
            [
             0.9,
             "#4d9221"
            ],
            [
             1,
             "#276419"
            ]
           ],
           "sequential": [
            [
             0,
             "#0d0887"
            ],
            [
             0.1111111111111111,
             "#46039f"
            ],
            [
             0.2222222222222222,
             "#7201a8"
            ],
            [
             0.3333333333333333,
             "#9c179e"
            ],
            [
             0.4444444444444444,
             "#bd3786"
            ],
            [
             0.5555555555555556,
             "#d8576b"
            ],
            [
             0.6666666666666666,
             "#ed7953"
            ],
            [
             0.7777777777777778,
             "#fb9f3a"
            ],
            [
             0.8888888888888888,
             "#fdca26"
            ],
            [
             1,
             "#f0f921"
            ]
           ],
           "sequentialminus": [
            [
             0,
             "#0d0887"
            ],
            [
             0.1111111111111111,
             "#46039f"
            ],
            [
             0.2222222222222222,
             "#7201a8"
            ],
            [
             0.3333333333333333,
             "#9c179e"
            ],
            [
             0.4444444444444444,
             "#bd3786"
            ],
            [
             0.5555555555555556,
             "#d8576b"
            ],
            [
             0.6666666666666666,
             "#ed7953"
            ],
            [
             0.7777777777777778,
             "#fb9f3a"
            ],
            [
             0.8888888888888888,
             "#fdca26"
            ],
            [
             1,
             "#f0f921"
            ]
           ]
          },
          "colorway": [
           "#636efa",
           "#EF553B",
           "#00cc96",
           "#ab63fa",
           "#FFA15A",
           "#19d3f3",
           "#FF6692",
           "#B6E880",
           "#FF97FF",
           "#FECB52"
          ],
          "font": {
           "color": "#2a3f5f"
          },
          "geo": {
           "bgcolor": "white",
           "lakecolor": "white",
           "landcolor": "#E5ECF6",
           "showlakes": true,
           "showland": true,
           "subunitcolor": "white"
          },
          "hoverlabel": {
           "align": "left"
          },
          "hovermode": "closest",
          "mapbox": {
           "style": "light"
          },
          "paper_bgcolor": "white",
          "plot_bgcolor": "#E5ECF6",
          "polar": {
           "angularaxis": {
            "gridcolor": "white",
            "linecolor": "white",
            "ticks": ""
           },
           "bgcolor": "#E5ECF6",
           "radialaxis": {
            "gridcolor": "white",
            "linecolor": "white",
            "ticks": ""
           }
          },
          "scene": {
           "xaxis": {
            "backgroundcolor": "#E5ECF6",
            "gridcolor": "white",
            "gridwidth": 2,
            "linecolor": "white",
            "showbackground": true,
            "ticks": "",
            "zerolinecolor": "white"
           },
           "yaxis": {
            "backgroundcolor": "#E5ECF6",
            "gridcolor": "white",
            "gridwidth": 2,
            "linecolor": "white",
            "showbackground": true,
            "ticks": "",
            "zerolinecolor": "white"
           },
           "zaxis": {
            "backgroundcolor": "#E5ECF6",
            "gridcolor": "white",
            "gridwidth": 2,
            "linecolor": "white",
            "showbackground": true,
            "ticks": "",
            "zerolinecolor": "white"
           }
          },
          "shapedefaults": {
           "line": {
            "color": "#2a3f5f"
           }
          },
          "ternary": {
           "aaxis": {
            "gridcolor": "white",
            "linecolor": "white",
            "ticks": ""
           },
           "baxis": {
            "gridcolor": "white",
            "linecolor": "white",
            "ticks": ""
           },
           "bgcolor": "#E5ECF6",
           "caxis": {
            "gridcolor": "white",
            "linecolor": "white",
            "ticks": ""
           }
          },
          "title": {
           "x": 0.05
          },
          "xaxis": {
           "automargin": true,
           "gridcolor": "white",
           "linecolor": "white",
           "ticks": "",
           "title": {
            "standoff": 15
           },
           "zerolinecolor": "white",
           "zerolinewidth": 2
          },
          "yaxis": {
           "automargin": true,
           "gridcolor": "white",
           "linecolor": "white",
           "ticks": "",
           "title": {
            "standoff": 15
           },
           "zerolinecolor": "white",
           "zerolinewidth": 2
          }
         }
        },
        "title": {
         "text": "Land harvested for avocado production in 2018"
        },
        "xaxis": {
         "anchor": "y",
         "domain": [
          0,
          1
         ],
         "ticklen": 5,
         "title": {
          "text": "Ha"
         },
         "zeroline": false
        },
        "yaxis": {
         "anchor": "x",
         "domain": [
          0,
          1
         ],
         "ticklen": 5,
         "title": {
          "text": "Tonnes"
         },
         "zeroline": false
        }
       }
      },
      "text/html": [
       "<div>\n",
       "        \n",
       "        \n",
       "            <div id=\"e6da1e0a-177e-48ea-8419-83f6b9c6476e\" class=\"plotly-graph-div\" style=\"height:525px; width:100%;\"></div>\n",
       "            <script type=\"text/javascript\">\n",
       "                require([\"plotly\"], function(Plotly) {\n",
       "                    window.PLOTLYENV=window.PLOTLYENV || {};\n",
       "                    \n",
       "                if (document.getElementById(\"e6da1e0a-177e-48ea-8419-83f6b9c6476e\")) {\n",
       "                    Plotly.newPlot(\n",
       "                        'e6da1e0a-177e-48ea-8419-83f6b9c6476e',\n",
       "                        [{\"hovertemplate\": \"Country=Mexico<br>Area harvested (ha)=%{x}<br>Production (tonnes)=%{y}<extra></extra>\", \"legendgroup\": \"Mexico\", \"marker\": {\"color\": \"#636efa\", \"symbol\": \"circle\"}, \"mode\": \"markers\", \"name\": \"Mexico\", \"orientation\": \"v\", \"showlegend\": true, \"type\": \"scatter\", \"x\": [206389.0], \"xaxis\": \"x\", \"y\": [2184663.0], \"yaxis\": \"y\"}, {\"hovertemplate\": \"Country=Dominican Republic<br>Area harvested (ha)=%{x}<br>Production (tonnes)=%{y}<extra></extra>\", \"legendgroup\": \"Dominican Republic\", \"marker\": {\"color\": \"#EF553B\", \"symbol\": \"circle\"}, \"mode\": \"markers\", \"name\": \"Dominican Republic\", \"orientation\": \"v\", \"showlegend\": true, \"type\": \"scatter\", \"x\": [13924.0], \"xaxis\": \"x\", \"y\": [644306.0], \"yaxis\": \"y\"}, {\"hovertemplate\": \"Country=Peru<br>Area harvested (ha)=%{x}<br>Production (tonnes)=%{y}<extra></extra>\", \"legendgroup\": \"Peru\", \"marker\": {\"color\": \"#00cc96\", \"symbol\": \"circle\"}, \"mode\": \"markers\", \"name\": \"Peru\", \"orientation\": \"v\", \"showlegend\": true, \"type\": \"scatter\", \"x\": [41171.0], \"xaxis\": \"x\", \"y\": [504532.0], \"yaxis\": \"y\"}, {\"hovertemplate\": \"Country=Colombia<br>Area harvested (ha)=%{x}<br>Production (tonnes)=%{y}<extra></extra>\", \"legendgroup\": \"Colombia\", \"marker\": {\"color\": \"#ab63fa\", \"symbol\": \"circle\"}, \"mode\": \"markers\", \"name\": \"Colombia\", \"orientation\": \"v\", \"showlegend\": true, \"type\": \"scatter\", \"x\": [53801.0], \"xaxis\": \"x\", \"y\": [445075.0], \"yaxis\": \"y\"}, {\"hovertemplate\": \"Country=Indonesia<br>Area harvested (ha)=%{x}<br>Production (tonnes)=%{y}<extra></extra>\", \"legendgroup\": \"Indonesia\", \"marker\": {\"color\": \"#FFA15A\", \"symbol\": \"circle\"}, \"mode\": \"markers\", \"name\": \"Indonesia\", \"orientation\": \"v\", \"showlegend\": true, \"type\": \"scatter\", \"x\": [31106.0], \"xaxis\": \"x\", \"y\": [410084.0], \"yaxis\": \"y\"}, {\"hovertemplate\": \"Country=Haiti<br>Area harvested (ha)=%{x}<br>Production (tonnes)=%{y}<extra></extra>\", \"legendgroup\": \"Haiti\", \"marker\": {\"color\": \"#19d3f3\", \"symbol\": \"circle\"}, \"mode\": \"markers\", \"name\": \"Haiti\", \"orientation\": \"v\", \"showlegend\": true, \"type\": \"scatter\", \"x\": [43773.0], \"xaxis\": \"x\", \"y\": [254825.0], \"yaxis\": \"y\"}, {\"hovertemplate\": \"Country=Brazil<br>Area harvested (ha)=%{x}<br>Production (tonnes)=%{y}<extra></extra>\", \"legendgroup\": \"Brazil\", \"marker\": {\"color\": \"#FF6692\", \"symbol\": \"circle\"}, \"mode\": \"markers\", \"name\": \"Brazil\", \"orientation\": \"v\", \"showlegend\": true, \"type\": \"scatter\", \"x\": [14325.0], \"xaxis\": \"x\", \"y\": [236177.0], \"yaxis\": \"y\"}, {\"hovertemplate\": \"Country=Kenya<br>Area harvested (ha)=%{x}<br>Production (tonnes)=%{y}<extra></extra>\", \"legendgroup\": \"Kenya\", \"marker\": {\"color\": \"#B6E880\", \"symbol\": \"circle\"}, \"mode\": \"markers\", \"name\": \"Kenya\", \"orientation\": \"v\", \"showlegend\": true, \"type\": \"scatter\", \"x\": [14497.0], \"xaxis\": \"x\", \"y\": [233933.0], \"yaxis\": \"y\"}, {\"hovertemplate\": \"Country=Chile<br>Area harvested (ha)=%{x}<br>Production (tonnes)=%{y}<extra></extra>\", \"legendgroup\": \"Chile\", \"marker\": {\"color\": \"#FF97FF\", \"symbol\": \"circle\"}, \"mode\": \"markers\", \"name\": \"Chile\", \"orientation\": \"v\", \"showlegend\": true, \"type\": \"scatter\", \"x\": [29166.0], \"xaxis\": \"x\", \"y\": [170013.0], \"yaxis\": \"y\"}, {\"hovertemplate\": \"Country=United States of America<br>Area harvested (ha)=%{x}<br>Production (tonnes)=%{y}<extra></extra>\", \"legendgroup\": \"United States of America\", \"marker\": {\"color\": \"#FECB52\", \"symbol\": \"circle\"}, \"mode\": \"markers\", \"name\": \"United States of America\", \"orientation\": \"v\", \"showlegend\": true, \"type\": \"scatter\", \"x\": [21710.0], \"xaxis\": \"x\", \"y\": [168530.0], \"yaxis\": \"y\"}, {\"hovertemplate\": \"Country=Guatemala<br>Area harvested (ha)=%{x}<br>Production (tonnes)=%{y}<extra></extra>\", \"legendgroup\": \"Guatemala\", \"marker\": {\"color\": \"#636efa\", \"symbol\": \"circle\"}, \"mode\": \"markers\", \"name\": \"Guatemala\", \"orientation\": \"v\", \"showlegend\": true, \"type\": \"scatter\", \"x\": [12750.0], \"xaxis\": \"x\", \"y\": [134353.0], \"yaxis\": \"y\"}, {\"hovertemplate\": \"Country=Venezuela (Bolivarian Republic of)<br>Area harvested (ha)=%{x}<br>Production (tonnes)=%{y}<extra></extra>\", \"legendgroup\": \"Venezuela (Bolivarian Republic of)\", \"marker\": {\"color\": \"#EF553B\", \"symbol\": \"circle\"}, \"mode\": \"markers\", \"name\": \"Venezuela (Bolivarian Republic of)\", \"orientation\": \"v\", \"showlegend\": true, \"type\": \"scatter\", \"x\": [11792.0], \"xaxis\": \"x\", \"y\": [132082.0], \"yaxis\": \"y\"}, {\"hovertemplate\": \"Country=Israel<br>Area harvested (ha)=%{x}<br>Production (tonnes)=%{y}<extra></extra>\", \"legendgroup\": \"Israel\", \"marker\": {\"color\": \"#00cc96\", \"symbol\": \"circle\"}, \"mode\": \"markers\", \"name\": \"Israel\", \"orientation\": \"v\", \"showlegend\": true, \"type\": \"scatter\", \"x\": [9408.0], \"xaxis\": \"x\", \"y\": [131720.0], \"yaxis\": \"y\"}, {\"hovertemplate\": \"Country=South Africa<br>Area harvested (ha)=%{x}<br>Production (tonnes)=%{y}<extra></extra>\", \"legendgroup\": \"South Africa\", \"marker\": {\"color\": \"#ab63fa\", \"symbol\": \"circle\"}, \"mode\": \"markers\", \"name\": \"South Africa\", \"orientation\": \"v\", \"showlegend\": true, \"type\": \"scatter\", \"x\": [24029.0], \"xaxis\": \"x\", \"y\": [127568.0], \"yaxis\": \"y\"}, {\"hovertemplate\": \"Country=China<br>Area harvested (ha)=%{x}<br>Production (tonnes)=%{y}<extra></extra>\", \"legendgroup\": \"China\", \"marker\": {\"color\": \"#FFA15A\", \"symbol\": \"circle\"}, \"mode\": \"markers\", \"name\": \"China\", \"orientation\": \"v\", \"showlegend\": true, \"type\": \"scatter\", \"x\": [21583.0], \"xaxis\": \"x\", \"y\": [126919.0], \"yaxis\": \"y\"}, {\"hovertemplate\": \"Country=China, mainland<br>Area harvested (ha)=%{x}<br>Production (tonnes)=%{y}<extra></extra>\", \"legendgroup\": \"China, mainland\", \"marker\": {\"color\": \"#19d3f3\", \"symbol\": \"circle\"}, \"mode\": \"markers\", \"name\": \"China, mainland\", \"orientation\": \"v\", \"showlegend\": true, \"type\": \"scatter\", \"x\": [21583.0], \"xaxis\": \"x\", \"y\": [126919.0], \"yaxis\": \"y\"}, {\"hovertemplate\": \"Country=Malawi<br>Area harvested (ha)=%{x}<br>Production (tonnes)=%{y}<extra></extra>\", \"legendgroup\": \"Malawi\", \"marker\": {\"color\": \"#FF6692\", \"symbol\": \"circle\"}, \"mode\": \"markers\", \"name\": \"Malawi\", \"orientation\": \"v\", \"showlegend\": true, \"type\": \"scatter\", \"x\": [18000.0], \"xaxis\": \"x\", \"y\": [92239.0], \"yaxis\": \"y\"}, {\"hovertemplate\": \"Country=Spain<br>Area harvested (ha)=%{x}<br>Production (tonnes)=%{y}<extra></extra>\", \"legendgroup\": \"Spain\", \"marker\": {\"color\": \"#B6E880\", \"symbol\": \"circle\"}, \"mode\": \"markers\", \"name\": \"Spain\", \"orientation\": \"v\", \"showlegend\": true, \"type\": \"scatter\", \"x\": [12160.0], \"xaxis\": \"x\", \"y\": [89590.0], \"yaxis\": \"y\"}, {\"hovertemplate\": \"Country=Ethiopia<br>Area harvested (ha)=%{x}<br>Production (tonnes)=%{y}<extra></extra>\", \"legendgroup\": \"Ethiopia\", \"marker\": {\"color\": \"#FF97FF\", \"symbol\": \"circle\"}, \"mode\": \"markers\", \"name\": \"Ethiopia\", \"orientation\": \"v\", \"showlegend\": true, \"type\": \"scatter\", \"x\": [19759.0], \"xaxis\": \"x\", \"y\": [84794.0], \"yaxis\": \"y\"}, {\"hovertemplate\": \"Country=Cameroon<br>Area harvested (ha)=%{x}<br>Production (tonnes)=%{y}<extra></extra>\", \"legendgroup\": \"Cameroon\", \"marker\": {\"color\": \"#FECB52\", \"symbol\": \"circle\"}, \"mode\": \"markers\", \"name\": \"Cameroon\", \"orientation\": \"v\", \"showlegend\": true, \"type\": \"scatter\", \"x\": [16292.0], \"xaxis\": \"x\", \"y\": [74101.0], \"yaxis\": \"y\"}, {\"hovertemplate\": \"Country=Australia<br>Area harvested (ha)=%{x}<br>Production (tonnes)=%{y}<extra></extra>\", \"legendgroup\": \"Australia\", \"marker\": {\"color\": \"#636efa\", \"symbol\": \"circle\"}, \"mode\": \"markers\", \"name\": \"Australia\", \"orientation\": \"v\", \"showlegend\": true, \"type\": \"scatter\", \"x\": [13447.0], \"xaxis\": \"x\", \"y\": [63486.0], \"yaxis\": \"y\"}, {\"hovertemplate\": \"Country=Democratic Republic of the Congo<br>Area harvested (ha)=%{x}<br>Production (tonnes)=%{y}<extra></extra>\", \"legendgroup\": \"Democratic Republic of the Congo\", \"marker\": {\"color\": \"#EF553B\", \"symbol\": \"circle\"}, \"mode\": \"markers\", \"name\": \"Democratic Republic of the Congo\", \"orientation\": \"v\", \"showlegend\": true, \"type\": \"scatter\", \"x\": [9026.0], \"xaxis\": \"x\", \"y\": [63022.0], \"yaxis\": \"y\"}, {\"hovertemplate\": \"Country=Morocco<br>Area harvested (ha)=%{x}<br>Production (tonnes)=%{y}<extra></extra>\", \"legendgroup\": \"Morocco\", \"marker\": {\"color\": \"#00cc96\", \"symbol\": \"circle\"}, \"mode\": \"markers\", \"name\": \"Morocco\", \"orientation\": \"v\", \"showlegend\": true, \"type\": \"scatter\", \"x\": [4449.0], \"xaxis\": \"x\", \"y\": [51170.0], \"yaxis\": \"y\"}, {\"hovertemplate\": \"Country=C\\u00f4te d'Ivoire<br>Area harvested (ha)=%{x}<br>Production (tonnes)=%{y}<extra></extra>\", \"legendgroup\": \"C\\u00f4te d'Ivoire\", \"marker\": {\"color\": \"#ab63fa\", \"symbol\": \"circle\"}, \"mode\": \"markers\", \"name\": \"C\\u00f4te d'Ivoire\", \"orientation\": \"v\", \"showlegend\": true, \"type\": \"scatter\", \"x\": [5398.0], \"xaxis\": \"x\", \"y\": [38139.0], \"yaxis\": \"y\"}, {\"hovertemplate\": \"Country=New Zealand<br>Area harvested (ha)=%{x}<br>Production (tonnes)=%{y}<extra></extra>\", \"legendgroup\": \"New Zealand\", \"marker\": {\"color\": \"#FFA15A\", \"symbol\": \"circle\"}, \"mode\": \"markers\", \"name\": \"New Zealand\", \"orientation\": \"v\", \"showlegend\": true, \"type\": \"scatter\", \"x\": [4575.0], \"xaxis\": \"x\", \"y\": [32477.0], \"yaxis\": \"y\"}],\n",
       "                        {\"coloraxis\": {\"showscale\": false}, \"legend\": {\"title\": {\"text\": \"Country\"}, \"tracegroupgap\": 0}, \"margin\": {\"t\": 60}, \"template\": {\"data\": {\"bar\": [{\"error_x\": {\"color\": \"#2a3f5f\"}, \"error_y\": {\"color\": \"#2a3f5f\"}, \"marker\": {\"line\": {\"color\": \"#E5ECF6\", \"width\": 0.5}}, \"type\": \"bar\"}], \"barpolar\": [{\"marker\": {\"line\": {\"color\": \"#E5ECF6\", \"width\": 0.5}}, \"type\": \"barpolar\"}], \"carpet\": [{\"aaxis\": {\"endlinecolor\": \"#2a3f5f\", \"gridcolor\": \"white\", \"linecolor\": \"white\", \"minorgridcolor\": \"white\", \"startlinecolor\": \"#2a3f5f\"}, \"baxis\": {\"endlinecolor\": \"#2a3f5f\", \"gridcolor\": \"white\", \"linecolor\": \"white\", \"minorgridcolor\": \"white\", \"startlinecolor\": \"#2a3f5f\"}, \"type\": \"carpet\"}], \"choropleth\": [{\"colorbar\": {\"outlinewidth\": 0, \"ticks\": \"\"}, \"type\": \"choropleth\"}], \"contour\": [{\"colorbar\": {\"outlinewidth\": 0, \"ticks\": \"\"}, \"colorscale\": [[0.0, \"#0d0887\"], [0.1111111111111111, \"#46039f\"], [0.2222222222222222, \"#7201a8\"], [0.3333333333333333, \"#9c179e\"], [0.4444444444444444, \"#bd3786\"], [0.5555555555555556, \"#d8576b\"], [0.6666666666666666, \"#ed7953\"], [0.7777777777777778, \"#fb9f3a\"], [0.8888888888888888, \"#fdca26\"], [1.0, \"#f0f921\"]], \"type\": \"contour\"}], \"contourcarpet\": [{\"colorbar\": {\"outlinewidth\": 0, \"ticks\": \"\"}, \"type\": \"contourcarpet\"}], \"heatmap\": [{\"colorbar\": {\"outlinewidth\": 0, \"ticks\": \"\"}, \"colorscale\": [[0.0, \"#0d0887\"], [0.1111111111111111, \"#46039f\"], [0.2222222222222222, \"#7201a8\"], [0.3333333333333333, \"#9c179e\"], [0.4444444444444444, \"#bd3786\"], [0.5555555555555556, \"#d8576b\"], [0.6666666666666666, \"#ed7953\"], [0.7777777777777778, \"#fb9f3a\"], [0.8888888888888888, \"#fdca26\"], [1.0, \"#f0f921\"]], \"type\": \"heatmap\"}], \"heatmapgl\": [{\"colorbar\": {\"outlinewidth\": 0, \"ticks\": \"\"}, \"colorscale\": [[0.0, \"#0d0887\"], [0.1111111111111111, \"#46039f\"], [0.2222222222222222, \"#7201a8\"], [0.3333333333333333, \"#9c179e\"], [0.4444444444444444, \"#bd3786\"], [0.5555555555555556, \"#d8576b\"], [0.6666666666666666, \"#ed7953\"], [0.7777777777777778, \"#fb9f3a\"], [0.8888888888888888, \"#fdca26\"], [1.0, \"#f0f921\"]], \"type\": \"heatmapgl\"}], \"histogram\": [{\"marker\": {\"colorbar\": {\"outlinewidth\": 0, \"ticks\": \"\"}}, \"type\": \"histogram\"}], \"histogram2d\": [{\"colorbar\": {\"outlinewidth\": 0, \"ticks\": \"\"}, \"colorscale\": [[0.0, \"#0d0887\"], [0.1111111111111111, \"#46039f\"], [0.2222222222222222, \"#7201a8\"], [0.3333333333333333, \"#9c179e\"], [0.4444444444444444, \"#bd3786\"], [0.5555555555555556, \"#d8576b\"], [0.6666666666666666, \"#ed7953\"], [0.7777777777777778, \"#fb9f3a\"], [0.8888888888888888, \"#fdca26\"], [1.0, \"#f0f921\"]], \"type\": \"histogram2d\"}], \"histogram2dcontour\": [{\"colorbar\": {\"outlinewidth\": 0, \"ticks\": \"\"}, \"colorscale\": [[0.0, \"#0d0887\"], [0.1111111111111111, \"#46039f\"], [0.2222222222222222, \"#7201a8\"], [0.3333333333333333, \"#9c179e\"], [0.4444444444444444, \"#bd3786\"], [0.5555555555555556, \"#d8576b\"], [0.6666666666666666, \"#ed7953\"], [0.7777777777777778, \"#fb9f3a\"], [0.8888888888888888, \"#fdca26\"], [1.0, \"#f0f921\"]], \"type\": \"histogram2dcontour\"}], \"mesh3d\": [{\"colorbar\": {\"outlinewidth\": 0, \"ticks\": \"\"}, \"type\": \"mesh3d\"}], \"parcoords\": [{\"line\": {\"colorbar\": {\"outlinewidth\": 0, \"ticks\": \"\"}}, \"type\": \"parcoords\"}], \"pie\": [{\"automargin\": true, \"type\": \"pie\"}], \"scatter\": [{\"marker\": {\"colorbar\": {\"outlinewidth\": 0, \"ticks\": \"\"}}, \"type\": \"scatter\"}], \"scatter3d\": [{\"line\": {\"colorbar\": {\"outlinewidth\": 0, \"ticks\": \"\"}}, \"marker\": {\"colorbar\": {\"outlinewidth\": 0, \"ticks\": \"\"}}, \"type\": \"scatter3d\"}], \"scattercarpet\": [{\"marker\": {\"colorbar\": {\"outlinewidth\": 0, \"ticks\": \"\"}}, \"type\": \"scattercarpet\"}], \"scattergeo\": [{\"marker\": {\"colorbar\": {\"outlinewidth\": 0, \"ticks\": \"\"}}, \"type\": \"scattergeo\"}], \"scattergl\": [{\"marker\": {\"colorbar\": {\"outlinewidth\": 0, \"ticks\": \"\"}}, \"type\": \"scattergl\"}], \"scattermapbox\": [{\"marker\": {\"colorbar\": {\"outlinewidth\": 0, \"ticks\": \"\"}}, \"type\": \"scattermapbox\"}], \"scatterpolar\": [{\"marker\": {\"colorbar\": {\"outlinewidth\": 0, \"ticks\": \"\"}}, \"type\": \"scatterpolar\"}], \"scatterpolargl\": [{\"marker\": {\"colorbar\": {\"outlinewidth\": 0, \"ticks\": \"\"}}, \"type\": \"scatterpolargl\"}], \"scatterternary\": [{\"marker\": {\"colorbar\": {\"outlinewidth\": 0, \"ticks\": \"\"}}, \"type\": \"scatterternary\"}], \"surface\": [{\"colorbar\": {\"outlinewidth\": 0, \"ticks\": \"\"}, \"colorscale\": [[0.0, \"#0d0887\"], [0.1111111111111111, \"#46039f\"], [0.2222222222222222, \"#7201a8\"], [0.3333333333333333, \"#9c179e\"], [0.4444444444444444, \"#bd3786\"], [0.5555555555555556, \"#d8576b\"], [0.6666666666666666, \"#ed7953\"], [0.7777777777777778, \"#fb9f3a\"], [0.8888888888888888, \"#fdca26\"], [1.0, \"#f0f921\"]], \"type\": \"surface\"}], \"table\": [{\"cells\": {\"fill\": {\"color\": \"#EBF0F8\"}, \"line\": {\"color\": \"white\"}}, \"header\": {\"fill\": {\"color\": \"#C8D4E3\"}, \"line\": {\"color\": \"white\"}}, \"type\": \"table\"}]}, \"layout\": {\"annotationdefaults\": {\"arrowcolor\": \"#2a3f5f\", \"arrowhead\": 0, \"arrowwidth\": 1}, \"coloraxis\": {\"colorbar\": {\"outlinewidth\": 0, \"ticks\": \"\"}}, \"colorscale\": {\"diverging\": [[0, \"#8e0152\"], [0.1, \"#c51b7d\"], [0.2, \"#de77ae\"], [0.3, \"#f1b6da\"], [0.4, \"#fde0ef\"], [0.5, \"#f7f7f7\"], [0.6, \"#e6f5d0\"], [0.7, \"#b8e186\"], [0.8, \"#7fbc41\"], [0.9, \"#4d9221\"], [1, \"#276419\"]], \"sequential\": [[0.0, \"#0d0887\"], [0.1111111111111111, \"#46039f\"], [0.2222222222222222, \"#7201a8\"], [0.3333333333333333, \"#9c179e\"], [0.4444444444444444, \"#bd3786\"], [0.5555555555555556, \"#d8576b\"], [0.6666666666666666, \"#ed7953\"], [0.7777777777777778, \"#fb9f3a\"], [0.8888888888888888, \"#fdca26\"], [1.0, \"#f0f921\"]], \"sequentialminus\": [[0.0, \"#0d0887\"], [0.1111111111111111, \"#46039f\"], [0.2222222222222222, \"#7201a8\"], [0.3333333333333333, \"#9c179e\"], [0.4444444444444444, \"#bd3786\"], [0.5555555555555556, \"#d8576b\"], [0.6666666666666666, \"#ed7953\"], [0.7777777777777778, \"#fb9f3a\"], [0.8888888888888888, \"#fdca26\"], [1.0, \"#f0f921\"]]}, \"colorway\": [\"#636efa\", \"#EF553B\", \"#00cc96\", \"#ab63fa\", \"#FFA15A\", \"#19d3f3\", \"#FF6692\", \"#B6E880\", \"#FF97FF\", \"#FECB52\"], \"font\": {\"color\": \"#2a3f5f\"}, \"geo\": {\"bgcolor\": \"white\", \"lakecolor\": \"white\", \"landcolor\": \"#E5ECF6\", \"showlakes\": true, \"showland\": true, \"subunitcolor\": \"white\"}, \"hoverlabel\": {\"align\": \"left\"}, \"hovermode\": \"closest\", \"mapbox\": {\"style\": \"light\"}, \"paper_bgcolor\": \"white\", \"plot_bgcolor\": \"#E5ECF6\", \"polar\": {\"angularaxis\": {\"gridcolor\": \"white\", \"linecolor\": \"white\", \"ticks\": \"\"}, \"bgcolor\": \"#E5ECF6\", \"radialaxis\": {\"gridcolor\": \"white\", \"linecolor\": \"white\", \"ticks\": \"\"}}, \"scene\": {\"xaxis\": {\"backgroundcolor\": \"#E5ECF6\", \"gridcolor\": \"white\", \"gridwidth\": 2, \"linecolor\": \"white\", \"showbackground\": true, \"ticks\": \"\", \"zerolinecolor\": \"white\"}, \"yaxis\": {\"backgroundcolor\": \"#E5ECF6\", \"gridcolor\": \"white\", \"gridwidth\": 2, \"linecolor\": \"white\", \"showbackground\": true, \"ticks\": \"\", \"zerolinecolor\": \"white\"}, \"zaxis\": {\"backgroundcolor\": \"#E5ECF6\", \"gridcolor\": \"white\", \"gridwidth\": 2, \"linecolor\": \"white\", \"showbackground\": true, \"ticks\": \"\", \"zerolinecolor\": \"white\"}}, \"shapedefaults\": {\"line\": {\"color\": \"#2a3f5f\"}}, \"ternary\": {\"aaxis\": {\"gridcolor\": \"white\", \"linecolor\": \"white\", \"ticks\": \"\"}, \"baxis\": {\"gridcolor\": \"white\", \"linecolor\": \"white\", \"ticks\": \"\"}, \"bgcolor\": \"#E5ECF6\", \"caxis\": {\"gridcolor\": \"white\", \"linecolor\": \"white\", \"ticks\": \"\"}}, \"title\": {\"x\": 0.05}, \"xaxis\": {\"automargin\": true, \"gridcolor\": \"white\", \"linecolor\": \"white\", \"ticks\": \"\", \"title\": {\"standoff\": 15}, \"zerolinecolor\": \"white\", \"zerolinewidth\": 2}, \"yaxis\": {\"automargin\": true, \"gridcolor\": \"white\", \"linecolor\": \"white\", \"ticks\": \"\", \"title\": {\"standoff\": 15}, \"zerolinecolor\": \"white\", \"zerolinewidth\": 2}}}, \"title\": {\"text\": \"Land harvested for avocado production in 2018\"}, \"xaxis\": {\"anchor\": \"y\", \"domain\": [0.0, 1.0], \"ticklen\": 5, \"title\": {\"text\": \"Ha\"}, \"zeroline\": false}, \"yaxis\": {\"anchor\": \"x\", \"domain\": [0.0, 1.0], \"ticklen\": 5, \"title\": {\"text\": \"Tonnes\"}, \"zeroline\": false}},\n",
       "                        {\"responsive\": true}\n",
       "                    ).then(function(){\n",
       "                            \n",
       "var gd = document.getElementById('e6da1e0a-177e-48ea-8419-83f6b9c6476e');\n",
       "var x = new MutationObserver(function (mutations, observer) {{\n",
       "        var display = window.getComputedStyle(gd).display;\n",
       "        if (!display || display === 'none') {{\n",
       "            console.log([gd, 'removed!']);\n",
       "            Plotly.purge(gd);\n",
       "            observer.disconnect();\n",
       "        }}\n",
       "}});\n",
       "\n",
       "// Listen for the removal of the full notebook cells\n",
       "var notebookContainer = gd.closest('#notebook-container');\n",
       "if (notebookContainer) {{\n",
       "    x.observe(notebookContainer, {childList: true});\n",
       "}}\n",
       "\n",
       "// Listen for the clearing of the current output cell\n",
       "var outputEl = gd.closest('.output');\n",
       "if (outputEl) {{\n",
       "    x.observe(outputEl, {childList: true});\n",
       "}}\n",
       "\n",
       "                        })\n",
       "                };\n",
       "                });\n",
       "            </script>\n",
       "        </div>"
      ]
     },
     "metadata": {},
     "output_type": "display_data"
    }
   ],
   "source": [
    "# Step 1: Create the traces of the plots\n",
    "fig6 = px.scatter(top_land_18, x=\"Area harvested (ha)\", y=\"Production (tonnes)\", color='Country')\n",
    "    \n",
    " # Step 2: Update the layout of the plot\n",
    "\n",
    "fig6.update_layout(title_text='Land harvested for avocado production in 2018')\n",
    "\n",
    "# axes styling\n",
    "fig6.update_xaxes(title= 'Ha',ticklen= 5,zeroline= False)\n",
    "fig6.update_yaxes(title= 'Tonnes',ticklen= 5,zeroline= False)   \n",
    "    \n",
    "fig6.update_layout(coloraxis_showscale=False)\n",
    "fig6.show()\n",
    "\n"
   ]
  },
  {
   "cell_type": "code",
   "execution_count": 141,
   "id": "affiliated-minutes",
   "metadata": {},
   "outputs": [
    {
     "data": {
      "image/png": "[encoded data removed]",
      "text/plain": [
       "<Figure size 432x288 with 2 Axes>"
      ]
     },
     "metadata": {
      "needs_background": "light"
     },
     "output_type": "display_data"
    }
   ],
   "source": [
    "ax = sns.heatmap(land_num_corr, annot=True, fmt=\".2g\", vmin=0, vmax=1, center=0.5)"
   ]
  },
  {
   "cell_type": "code",
   "execution_count": 142,
   "id": "crazy-there",
   "metadata": {},
   "outputs": [],
   "source": [
    "land_evol = land[['Unnamed: 0','Country','Area harvested (ha)', 'Year']]\n",
    "land_evol = land_evol.pivot(index=['Country','Year'], columns = 'Area harvested (ha)').reset_index() \n",
    "#sns.lineplot(data=land_evol, x=\"Year\", y=\"Production (tonnes)\")"
   ]
  },
  {
   "cell_type": "code",
   "execution_count": 143,
   "id": "developing-kitchen",
   "metadata": {},
   "outputs": [
    {
     "data": {
      "text/plain": [
       "[[<matplotlib.axis.XTick at 0x14f5db0d748>,\n",
       "  <matplotlib.axis.XTick at 0x14f5daf8d88>,\n",
       "  <matplotlib.axis.XTick at 0x14f5db1f8c8>,\n",
       "  <matplotlib.axis.XTick at 0x14f5db45a48>]]"
      ]
     },
     "execution_count": 143,
     "metadata": {},
     "output_type": "execute_result"
    },
    {
     "data": {
      "image/png": "[encoded data removed]",
      "text/plain": [
       "<Figure size 432x288 with 1 Axes>"
      ]
     },
     "metadata": {
      "needs_background": "light"
     },
     "output_type": "display_data"
    }
   ],
   "source": [
    "land_evol = land[['Country','Production (tonnes)', 'Year']].reset_index().drop(['index'],axis=1)\n",
    "fig8= sns.lineplot(data=land_evol, x='Year', y='Production (tonnes)')\n",
    "fig8.set(xticks=[2015,2016,2017,2018])"
   ]
  },
  {
   "cell_type": "code",
   "execution_count": 158,
   "id": "selective-travel",
   "metadata": {},
   "outputs": [],
   "source": [
    "area_evol = land[['Country','Area harvested (ha)', 'Year']].reset_index().drop(['index'],axis=1)\n",
    "prod_evol = land[['Country','Production (tonnes)', 'Year']].reset_index().drop(['index'],axis=1)\n",
    "#fig8 = sns.lineplot(data=land_evol, x=\"Year\", y=\"Area harvested (ha)\", hue=\"Country\")\n",
    "#fig8.set(xticks=[2015,2016,2017,2018])"
   ]
  },
  {
   "cell_type": "code",
   "execution_count": 165,
   "id": "three-porter",
   "metadata": {},
   "outputs": [],
   "source": [
    "prod15 = land[(land[\"Year\"] == 2015)]\n",
    "prod16 = land[(land[\"Year\"] == 2016)]\n",
    "prod17 = land[(land[\"Year\"] == 2017)]\n",
    "prod18 = land[(land[\"Year\"] == 2018)]\n",
    "\n",
    "prod15 = prod15_top5.sort_values(by=['Production (tonnes)'], ascending=False)\n",
    "prod16 = prod16_top5.sort_values(by=['Production (tonnes)'], ascending=False)\n",
    "prod17 = prod17_top5.sort_values(by=['Production (tonnes)'], ascending=False)\n",
    "prod18 = prod18_top5.sort_values(by=['Production (tonnes)'], ascending=False)\n",
    "\n",
    "prod15_top5 = prod15.head(5)\n",
    "prod16_top5 = prod16.head(5)\n",
    "prod17_top5 = prod17.head(5)\n",
    "prod18_top5 = prod18.head(5)"
   ]
  },
  {
   "cell_type": "code",
   "execution_count": 162,
   "id": "straight-gravity",
   "metadata": {},
   "outputs": [
    {
     "data": {
      "text/html": [
       "<div>\n",
       "<style scoped>\n",
       "    .dataframe tbody tr th:only-of-type {\n",
       "        vertical-align: middle;\n",
       "    }\n",
       "\n",
       "    .dataframe tbody tr th {\n",
       "        vertical-align: top;\n",
       "    }\n",
       "\n",
       "    .dataframe thead th {\n",
       "        text-align: right;\n",
       "    }\n",
       "</style>\n",
       "<table border=\"1\" class=\"dataframe\">\n",
       "  <thead>\n",
       "    <tr style=\"text-align: right;\">\n",
       "      <th></th>\n",
       "      <th>Unnamed: 0</th>\n",
       "      <th>Country</th>\n",
       "      <th>Year</th>\n",
       "      <th>Area harvested (ha)</th>\n",
       "      <th>Production (tonnes)</th>\n",
       "    </tr>\n",
       "  </thead>\n",
       "  <tbody>\n",
       "    <tr>\n",
       "      <th>191</th>\n",
       "      <td>191</td>\n",
       "      <td>Mexico</td>\n",
       "      <td>2018</td>\n",
       "      <td>206389.0</td>\n",
       "      <td>2184663.0</td>\n",
       "    </tr>\n",
       "    <tr>\n",
       "      <th>93</th>\n",
       "      <td>93</td>\n",
       "      <td>Dominican Republic</td>\n",
       "      <td>2018</td>\n",
       "      <td>13924.0</td>\n",
       "      <td>644306.0</td>\n",
       "    </tr>\n",
       "    <tr>\n",
       "      <th>220</th>\n",
       "      <td>220</td>\n",
       "      <td>Peru</td>\n",
       "      <td>2018</td>\n",
       "      <td>41171.0</td>\n",
       "      <td>504532.0</td>\n",
       "    </tr>\n",
       "    <tr>\n",
       "      <th>54</th>\n",
       "      <td>54</td>\n",
       "      <td>Colombia</td>\n",
       "      <td>2018</td>\n",
       "      <td>53801.0</td>\n",
       "      <td>445075.0</td>\n",
       "    </tr>\n",
       "    <tr>\n",
       "      <th>153</th>\n",
       "      <td>153</td>\n",
       "      <td>Indonesia</td>\n",
       "      <td>2018</td>\n",
       "      <td>31106.0</td>\n",
       "      <td>410084.0</td>\n",
       "    </tr>\n",
       "  </tbody>\n",
       "</table>\n",
       "</div>"
      ],
      "text/plain": [
       "     Unnamed: 0             Country  Year  Area harvested (ha)  \\\n",
       "191         191              Mexico  2018             206389.0   \n",
       "93           93  Dominican Republic  2018              13924.0   \n",
       "220         220                Peru  2018              41171.0   \n",
       "54           54            Colombia  2018              53801.0   \n",
       "153         153           Indonesia  2018              31106.0   \n",
       "\n",
       "     Production (tonnes)  \n",
       "191            2184663.0  \n",
       "93              644306.0  \n",
       "220             504532.0  \n",
       "54              445075.0  \n",
       "153             410084.0  "
      ]
     },
     "execution_count": 162,
     "metadata": {},
     "output_type": "execute_result"
    }
   ],
   "source": [
    "prod18_top5"
   ]
  },
  {
   "cell_type": "code",
   "execution_count": 172,
   "id": "alternative-filling",
   "metadata": {},
   "outputs": [],
   "source": [
    "prod1516 = pd.merge(right = prod15_top5, left = prod16_top5, how = \"outer\")\n",
    "prod151617 = pd.merge(right = prod1516, left = prod17_top5, how = \"outer\")\n",
    "top5_prod = pd.merge(right = prod151617, left = prod18_top5, how = \"outer\")"
   ]
  },
  {
   "cell_type": "code",
   "execution_count": 173,
   "id": "informative-harbor",
   "metadata": {
    "scrolled": true
   },
   "outputs": [
    {
     "data": {
      "text/html": [
       "<div>\n",
       "<style scoped>\n",
       "    .dataframe tbody tr th:only-of-type {\n",
       "        vertical-align: middle;\n",
       "    }\n",
       "\n",
       "    .dataframe tbody tr th {\n",
       "        vertical-align: top;\n",
       "    }\n",
       "\n",
       "    .dataframe thead th {\n",
       "        text-align: right;\n",
       "    }\n",
       "</style>\n",
       "<table border=\"1\" class=\"dataframe\">\n",
       "  <thead>\n",
       "    <tr style=\"text-align: right;\">\n",
       "      <th></th>\n",
       "      <th>Unnamed: 0</th>\n",
       "      <th>Country</th>\n",
       "      <th>Year</th>\n",
       "      <th>Area harvested (ha)</th>\n",
       "      <th>Production (tonnes)</th>\n",
       "    </tr>\n",
       "  </thead>\n",
       "  <tbody>\n",
       "    <tr>\n",
       "      <th>0</th>\n",
       "      <td>191</td>\n",
       "      <td>Mexico</td>\n",
       "      <td>2018</td>\n",
       "      <td>206389.0</td>\n",
       "      <td>2184663.0</td>\n",
       "    </tr>\n",
       "    <tr>\n",
       "      <th>1</th>\n",
       "      <td>93</td>\n",
       "      <td>Dominican Republic</td>\n",
       "      <td>2018</td>\n",
       "      <td>13924.0</td>\n",
       "      <td>644306.0</td>\n",
       "    </tr>\n",
       "    <tr>\n",
       "      <th>2</th>\n",
       "      <td>220</td>\n",
       "      <td>Peru</td>\n",
       "      <td>2018</td>\n",
       "      <td>41171.0</td>\n",
       "      <td>504532.0</td>\n",
       "    </tr>\n",
       "    <tr>\n",
       "      <th>3</th>\n",
       "      <td>54</td>\n",
       "      <td>Colombia</td>\n",
       "      <td>2018</td>\n",
       "      <td>53801.0</td>\n",
       "      <td>445075.0</td>\n",
       "    </tr>\n",
       "    <tr>\n",
       "      <th>4</th>\n",
       "      <td>153</td>\n",
       "      <td>Indonesia</td>\n",
       "      <td>2018</td>\n",
       "      <td>31106.0</td>\n",
       "      <td>410084.0</td>\n",
       "    </tr>\n",
       "    <tr>\n",
       "      <th>5</th>\n",
       "      <td>190</td>\n",
       "      <td>Mexico</td>\n",
       "      <td>2017</td>\n",
       "      <td>188723.0</td>\n",
       "      <td>2029886.0</td>\n",
       "    </tr>\n",
       "    <tr>\n",
       "      <th>6</th>\n",
       "      <td>92</td>\n",
       "      <td>Dominican Republic</td>\n",
       "      <td>2017</td>\n",
       "      <td>13621.0</td>\n",
       "      <td>637688.0</td>\n",
       "    </tr>\n",
       "    <tr>\n",
       "      <th>7</th>\n",
       "      <td>219</td>\n",
       "      <td>Peru</td>\n",
       "      <td>2017</td>\n",
       "      <td>39629.0</td>\n",
       "      <td>466796.0</td>\n",
       "    </tr>\n",
       "    <tr>\n",
       "      <th>8</th>\n",
       "      <td>152</td>\n",
       "      <td>Indonesia</td>\n",
       "      <td>2017</td>\n",
       "      <td>27452.0</td>\n",
       "      <td>363157.0</td>\n",
       "    </tr>\n",
       "    <tr>\n",
       "      <th>9</th>\n",
       "      <td>53</td>\n",
       "      <td>Colombia</td>\n",
       "      <td>2017</td>\n",
       "      <td>41068.0</td>\n",
       "      <td>308166.0</td>\n",
       "    </tr>\n",
       "    <tr>\n",
       "      <th>10</th>\n",
       "      <td>189</td>\n",
       "      <td>Mexico</td>\n",
       "      <td>2016</td>\n",
       "      <td>180536.0</td>\n",
       "      <td>1889354.0</td>\n",
       "    </tr>\n",
       "    <tr>\n",
       "      <th>11</th>\n",
       "      <td>91</td>\n",
       "      <td>Dominican Republic</td>\n",
       "      <td>2016</td>\n",
       "      <td>13375.0</td>\n",
       "      <td>601349.0</td>\n",
       "    </tr>\n",
       "    <tr>\n",
       "      <th>12</th>\n",
       "      <td>218</td>\n",
       "      <td>Peru</td>\n",
       "      <td>2016</td>\n",
       "      <td>37871.0</td>\n",
       "      <td>455394.0</td>\n",
       "    </tr>\n",
       "    <tr>\n",
       "      <th>13</th>\n",
       "      <td>151</td>\n",
       "      <td>Indonesia</td>\n",
       "      <td>2016</td>\n",
       "      <td>22973.0</td>\n",
       "      <td>304938.0</td>\n",
       "    </tr>\n",
       "    <tr>\n",
       "      <th>14</th>\n",
       "      <td>52</td>\n",
       "      <td>Colombia</td>\n",
       "      <td>2016</td>\n",
       "      <td>40057.0</td>\n",
       "      <td>294389.0</td>\n",
       "    </tr>\n",
       "    <tr>\n",
       "      <th>15</th>\n",
       "      <td>188</td>\n",
       "      <td>Mexico</td>\n",
       "      <td>2015</td>\n",
       "      <td>166945.0</td>\n",
       "      <td>1644226.0</td>\n",
       "    </tr>\n",
       "    <tr>\n",
       "      <th>16</th>\n",
       "      <td>90</td>\n",
       "      <td>Dominican Republic</td>\n",
       "      <td>2015</td>\n",
       "      <td>13112.0</td>\n",
       "      <td>526438.0</td>\n",
       "    </tr>\n",
       "    <tr>\n",
       "      <th>17</th>\n",
       "      <td>150</td>\n",
       "      <td>Indonesia</td>\n",
       "      <td>2015</td>\n",
       "      <td>28429.0</td>\n",
       "      <td>382530.0</td>\n",
       "    </tr>\n",
       "    <tr>\n",
       "      <th>18</th>\n",
       "      <td>217</td>\n",
       "      <td>Peru</td>\n",
       "      <td>2015</td>\n",
       "      <td>33590.0</td>\n",
       "      <td>367110.0</td>\n",
       "    </tr>\n",
       "    <tr>\n",
       "      <th>19</th>\n",
       "      <td>51</td>\n",
       "      <td>Colombia</td>\n",
       "      <td>2015</td>\n",
       "      <td>36461.0</td>\n",
       "      <td>309852.0</td>\n",
       "    </tr>\n",
       "  </tbody>\n",
       "</table>\n",
       "</div>"
      ],
      "text/plain": [
       "    Unnamed: 0             Country  Year  Area harvested (ha)  \\\n",
       "0          191              Mexico  2018             206389.0   \n",
       "1           93  Dominican Republic  2018              13924.0   \n",
       "2          220                Peru  2018              41171.0   \n",
       "3           54            Colombia  2018              53801.0   \n",
       "4          153           Indonesia  2018              31106.0   \n",
       "5          190              Mexico  2017             188723.0   \n",
       "6           92  Dominican Republic  2017              13621.0   \n",
       "7          219                Peru  2017              39629.0   \n",
       "8          152           Indonesia  2017              27452.0   \n",
       "9           53            Colombia  2017              41068.0   \n",
       "10         189              Mexico  2016             180536.0   \n",
       "11          91  Dominican Republic  2016              13375.0   \n",
       "12         218                Peru  2016              37871.0   \n",
       "13         151           Indonesia  2016              22973.0   \n",
       "14          52            Colombia  2016              40057.0   \n",
       "15         188              Mexico  2015             166945.0   \n",
       "16          90  Dominican Republic  2015              13112.0   \n",
       "17         150           Indonesia  2015              28429.0   \n",
       "18         217                Peru  2015              33590.0   \n",
       "19          51            Colombia  2015              36461.0   \n",
       "\n",
       "    Production (tonnes)  \n",
       "0             2184663.0  \n",
       "1              644306.0  \n",
       "2              504532.0  \n",
       "3              445075.0  \n",
       "4              410084.0  \n",
       "5             2029886.0  \n",
       "6              637688.0  \n",
       "7              466796.0  \n",
       "8              363157.0  \n",
       "9              308166.0  \n",
       "10            1889354.0  \n",
       "11             601349.0  \n",
       "12             455394.0  \n",
       "13             304938.0  \n",
       "14             294389.0  \n",
       "15            1644226.0  \n",
       "16             526438.0  \n",
       "17             382530.0  \n",
       "18             367110.0  \n",
       "19             309852.0  "
      ]
     },
     "execution_count": 173,
     "metadata": {},
     "output_type": "execute_result"
    }
   ],
   "source": [
    "top5_prod"
   ]
  },
  {
   "cell_type": "code",
   "execution_count": 174,
   "id": "amateur-ridge",
   "metadata": {
    "scrolled": true
   },
   "outputs": [
    {
     "data": {
      "text/plain": [
       "[[<matplotlib.axis.XTick at 0x14f5e239048>,\n",
       "  <matplotlib.axis.XTick at 0x14f5e24b388>,\n",
       "  <matplotlib.axis.XTick at 0x14f5e2819c8>,\n",
       "  <matplotlib.axis.XTick at 0x14f5e229cc8>]]"
      ]
     },
     "execution_count": 174,
     "metadata": {},
     "output_type": "execute_result"
    },
    {
     "data": {
      "image/png": "[encoded data removed]",
      "text/plain": [
       "<Figure size 432x288 with 1 Axes>"
      ]
     },
     "metadata": {
      "needs_background": "light"
     },
     "output_type": "display_data"
    }
   ],
   "source": [
    "fig7 = sns.lineplot(data=top5_prod, x=\"Year\", y=\"Production (tonnes)\", hue=\"Country\")\n",
    "fig7.set(xticks=[2015,2016,2017,2018])"
   ]
  },
  {
   "cell_type": "code",
   "execution_count": 176,
   "id": "radio-intake",
   "metadata": {},
   "outputs": [],
   "source": [
    "land15 = land[(land[\"Year\"] == 2015)]\n",
    "land16 = land[(land[\"Year\"] == 2016)]\n",
    "land17 = land[(land[\"Year\"] == 2017)]\n",
    "land18 = land[(land[\"Year\"] == 2018)]\n",
    "\n",
    "land15 = prod15_top5.sort_values(by=['Area harvested (ha)'], ascending=False)\n",
    "land16 = prod16_top5.sort_values(by=['Area harvested (ha)'], ascending=False)\n",
    "land17 = prod17_top5.sort_values(by=['Area harvested (ha)'], ascending=False)\n",
    "land18 = prod18_top5.sort_values(by=['Area harvested (ha)'], ascending=False)\n",
    "\n",
    "land15_top5 = land15.head(5)\n",
    "land16_top5 = land16.head(5)\n",
    "land17_top5 = land17.head(5)\n",
    "land18_top5 = land18.head(5)"
   ]
  },
  {
   "cell_type": "code",
   "execution_count": 177,
   "id": "thick-senate",
   "metadata": {},
   "outputs": [],
   "source": [
    "land1516 = pd.merge(right = land15_top5, left = land16_top5, how = \"outer\")\n",
    "land151617 = pd.merge(right = land1516, left = land17_top5, how = \"outer\")\n",
    "top5_land = pd.merge(right = land151617, left = land18_top5, how = \"outer\")"
   ]
  },
  {
   "cell_type": "code",
   "execution_count": 178,
   "id": "technological-change",
   "metadata": {},
   "outputs": [
    {
     "data": {
      "text/plain": [
       "[[<matplotlib.axis.XTick at 0x14f5e2e8a48>,\n",
       "  <matplotlib.axis.XTick at 0x14f5e2ea208>,\n",
       "  <matplotlib.axis.XTick at 0x14f5e305608>,\n",
       "  <matplotlib.axis.XTick at 0x14f5e326dc8>]]"
      ]
     },
     "execution_count": 178,
     "metadata": {},
     "output_type": "execute_result"
    },
    {
     "data": {
      "image/png": "[encoded data removed]",
      "text/plain": [
       "<Figure size 432x288 with 1 Axes>"
      ]
     },
     "metadata": {
      "needs_background": "light"
     },
     "output_type": "display_data"
    }
   ],
   "source": [
    "fig8 = sns.lineplot(data=top5_land, x=\"Year\", y=\"Area harvested (ha)\", hue=\"Country\")\n",
    "fig8.set(xticks=[2015,2016,2017,2018])"
   ]
  },
  {
   "cell_type": "code",
   "execution_count": null,
   "id": "handed-current",
   "metadata": {},
   "outputs": [],
   "source": []
  },
  {
   "cell_type": "code",
   "execution_count": null,
   "id": "chicken-african",
   "metadata": {},
   "outputs": [],
   "source": []
  },
  {
   "cell_type": "code",
   "execution_count": null,
   "id": "governmental-mills",
   "metadata": {},
   "outputs": [],
   "source": []
  },
  {
   "cell_type": "code",
   "execution_count": null,
   "id": "frozen-wilderness",
   "metadata": {},
   "outputs": [],
   "source": []
  },
  {
   "cell_type": "code",
   "execution_count": null,
   "id": "equivalent-porcelain",
   "metadata": {},
   "outputs": [],
   "source": []
  }
 ],
 "metadata": {
  "kernelspec": {
   "display_name": "Python 3",
   "language": "python",
   "name": "python3"
  },
  "language_info": {
   "codemirror_mode": {
    "name": "ipython",
    "version": 3
   },
   "file_extension": ".py",
   "mimetype": "text/x-python",
   "name": "python",
   "nbconvert_exporter": "python",
   "pygments_lexer": "ipython3",
   "version": "3.7.9"
  }
 },
 "nbformat": 4,
 "nbformat_minor": 5
}
